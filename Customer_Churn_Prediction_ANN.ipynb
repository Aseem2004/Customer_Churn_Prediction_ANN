{
  "metadata": {
    "kernelspec": {
      "language": "python",
      "display_name": "Python 3",
      "name": "python3"
    },
    "language_info": {
      "name": "python",
      "version": "3.10.13",
      "mimetype": "text/x-python",
      "codemirror_mode": {
        "name": "ipython",
        "version": 3
      },
      "pygments_lexer": "ipython3",
      "nbconvert_exporter": "python",
      "file_extension": ".py"
    },
    "kaggle": {
      "accelerator": "none",
      "dataSources": [
        {
          "sourceId": 1481789,
          "sourceType": "datasetVersion",
          "datasetId": 869651
        }
      ],
      "dockerImageVersionId": 30732,
      "isInternetEnabled": true,
      "language": "python",
      "sourceType": "notebook",
      "isGpuEnabled": false
    },
    "colab": {
      "name": "Customer_Churn_Prediction_ANN",
      "provenance": []
    }
  },
  "nbformat_minor": 0,
  "nbformat": 4,
  "cells": [
    {
      "source": [
        "\n",
        "# IMPORTANT: RUN THIS CELL IN ORDER TO IMPORT YOUR KAGGLE DATA SOURCES\n",
        "# TO THE CORRECT LOCATION (/kaggle/input) IN YOUR NOTEBOOK,\n",
        "# THEN FEEL FREE TO DELETE THIS CELL.\n",
        "# NOTE: THIS NOTEBOOK ENVIRONMENT DIFFERS FROM KAGGLE'S PYTHON\n",
        "# ENVIRONMENT SO THERE MAY BE MISSING LIBRARIES USED BY YOUR\n",
        "# NOTEBOOK.\n",
        "\n",
        "import os\n",
        "import sys\n",
        "from tempfile import NamedTemporaryFile\n",
        "from urllib.request import urlopen\n",
        "from urllib.parse import unquote, urlparse\n",
        "from urllib.error import HTTPError\n",
        "from zipfile import ZipFile\n",
        "import tarfile\n",
        "import shutil\n",
        "\n",
        "CHUNK_SIZE = 40960\n",
        "DATA_SOURCE_MAPPING = 'credit-card-customer-churn-prediction:https%3A%2F%2Fstorage.googleapis.com%2Fkaggle-data-sets%2F869651%2F1481789%2Fbundle%2Farchive.zip%3FX-Goog-Algorithm%3DGOOG4-RSA-SHA256%26X-Goog-Credential%3Dgcp-kaggle-com%2540kaggle-161607.iam.gserviceaccount.com%252F20240708%252Fauto%252Fstorage%252Fgoog4_request%26X-Goog-Date%3D20240708T074051Z%26X-Goog-Expires%3D259200%26X-Goog-SignedHeaders%3Dhost%26X-Goog-Signature%3D698d17ffef9bc1e735dd4236bf60a00b63be3f02adeccbd461b9551fa4ff148806ca50d4ccb6440a3448638dd5a96c47a8de32999c19f382607cd779d282c50fb042a8a1935ee9afbe4882f8a630d16651102829d0ea931ba336729565c7f351e03fe055a03f8fb9b096ad135a68004243a0a5e6c4e36fcd9694ef3eb94b5d87cbb31e2d75e3c25bf6b79e9ea68032782e931263bfef7eb0eb58719e679c37d449791cafa52d31790632673df5ccf8a9296155809ff6f39577102bd988ff764aff60f2a8e8fa75d5675aca27f6b5e976ea282dd999c941811b10dd241c4337e39520b8ec1e1b61c36e892fa2358de95a5afc3cdc5bc640b5ce3a33e78453ddb4'\n",
        "\n",
        "KAGGLE_INPUT_PATH='/kaggle/input'\n",
        "KAGGLE_WORKING_PATH='/kaggle/working'\n",
        "KAGGLE_SYMLINK='kaggle'\n",
        "\n",
        "!umount /kaggle/input/ 2> /dev/null\n",
        "shutil.rmtree('/kaggle/input', ignore_errors=True)\n",
        "os.makedirs(KAGGLE_INPUT_PATH, 0o777, exist_ok=True)\n",
        "os.makedirs(KAGGLE_WORKING_PATH, 0o777, exist_ok=True)\n",
        "\n",
        "try:\n",
        "  os.symlink(KAGGLE_INPUT_PATH, os.path.join(\"..\", 'input'), target_is_directory=True)\n",
        "except FileExistsError:\n",
        "  pass\n",
        "try:\n",
        "  os.symlink(KAGGLE_WORKING_PATH, os.path.join(\"..\", 'working'), target_is_directory=True)\n",
        "except FileExistsError:\n",
        "  pass\n",
        "\n",
        "for data_source_mapping in DATA_SOURCE_MAPPING.split(','):\n",
        "    directory, download_url_encoded = data_source_mapping.split(':')\n",
        "    download_url = unquote(download_url_encoded)\n",
        "    filename = urlparse(download_url).path\n",
        "    destination_path = os.path.join(KAGGLE_INPUT_PATH, directory)\n",
        "    try:\n",
        "        with urlopen(download_url) as fileres, NamedTemporaryFile() as tfile:\n",
        "            total_length = fileres.headers['content-length']\n",
        "            print(f'Downloading {directory}, {total_length} bytes compressed')\n",
        "            dl = 0\n",
        "            data = fileres.read(CHUNK_SIZE)\n",
        "            while len(data) > 0:\n",
        "                dl += len(data)\n",
        "                tfile.write(data)\n",
        "                done = int(50 * dl / int(total_length))\n",
        "                sys.stdout.write(f\"\\r[{'=' * done}{' ' * (50-done)}] {dl} bytes downloaded\")\n",
        "                sys.stdout.flush()\n",
        "                data = fileres.read(CHUNK_SIZE)\n",
        "            if filename.endswith('.zip'):\n",
        "              with ZipFile(tfile) as zfile:\n",
        "                zfile.extractall(destination_path)\n",
        "            else:\n",
        "              with tarfile.open(tfile.name) as tarfile:\n",
        "                tarfile.extractall(destination_path)\n",
        "            print(f'\\nDownloaded and uncompressed: {directory}')\n",
        "    except HTTPError as e:\n",
        "        print(f'Failed to load (likely expired) {download_url} to path {destination_path}')\n",
        "        continue\n",
        "    except OSError as e:\n",
        "        print(f'Failed to load {download_url} to path {destination_path}')\n",
        "        continue\n",
        "\n",
        "print('Data source import complete.')\n"
      ],
      "metadata": {
        "id": "Q4SC3g8qSb_B"
      },
      "cell_type": "code",
      "outputs": [],
      "execution_count": null
    },
    {
      "cell_type": "code",
      "source": [
        "# This Python 3 environment comes with many helpful analytics libraries installed\n",
        "# It is defined by the kaggle/python Docker image: https://github.com/kaggle/docker-python\n",
        "# For example, here's several helpful packages to load\n",
        "\n",
        "import numpy as np # linear algebra\n",
        "import pandas as pd # data processing, CSV file I/O (e.g. pd.read_csv)\n",
        "\n",
        "# Input data files are available in the read-only \"../input/\" directory\n",
        "# For example, running this (by clicking run or pressing Shift+Enter) will list all files under the input directory\n",
        "\n",
        "import os\n",
        "for dirname, _, filenames in os.walk('/kaggle/input'):\n",
        "    for filename in filenames:\n",
        "        print(os.path.join(dirname, filename))\n",
        "\n",
        "# You can write up to 20GB to the current directory (/kaggle/working/) that gets preserved as output when you create a version using \"Save & Run All\"\n",
        "# You can also write temporary files to /kaggle/temp/, but they won't be saved outside of the current session"
      ],
      "metadata": {
        "_uuid": "8f2839f25d086af736a60e9eeb907d3b93b6e0e5",
        "_cell_guid": "b1076dfc-b9ad-4769-8c92-a6c4dae69d19",
        "execution": {
          "iopub.status.busy": "2024-07-08T07:37:34.088927Z",
          "iopub.execute_input": "2024-07-08T07:37:34.089382Z",
          "iopub.status.idle": "2024-07-08T07:37:34.102053Z",
          "shell.execute_reply.started": "2024-07-08T07:37:34.08935Z",
          "shell.execute_reply": "2024-07-08T07:37:34.100815Z"
        },
        "trusted": true,
        "id": "CnWeMtf0Sb_I",
        "outputId": "86a150f2-c2c5-464f-e37b-f5ae288be9fb"
      },
      "execution_count": null,
      "outputs": [
        {
          "name": "stdout",
          "text": "/kaggle/input/credit-card-customer-churn-prediction/Churn_Modelling.csv\n",
          "output_type": "stream"
        }
      ]
    },
    {
      "cell_type": "code",
      "source": [
        "df = pd.read_csv('/kaggle/input/credit-card-customer-churn-prediction/Churn_Modelling.csv')"
      ],
      "metadata": {
        "execution": {
          "iopub.status.busy": "2024-07-08T07:37:34.104187Z",
          "iopub.execute_input": "2024-07-08T07:37:34.104616Z",
          "iopub.status.idle": "2024-07-08T07:37:34.146913Z",
          "shell.execute_reply.started": "2024-07-08T07:37:34.104583Z",
          "shell.execute_reply": "2024-07-08T07:37:34.14583Z"
        },
        "trusted": true,
        "id": "lwM8OASCSb_J"
      },
      "execution_count": null,
      "outputs": []
    },
    {
      "cell_type": "code",
      "source": [
        "df.head()"
      ],
      "metadata": {
        "execution": {
          "iopub.status.busy": "2024-07-08T07:37:34.14844Z",
          "iopub.execute_input": "2024-07-08T07:37:34.148825Z",
          "iopub.status.idle": "2024-07-08T07:37:34.1701Z",
          "shell.execute_reply.started": "2024-07-08T07:37:34.148795Z",
          "shell.execute_reply": "2024-07-08T07:37:34.16886Z"
        },
        "trusted": true,
        "id": "qxwfhNRrSb_K",
        "outputId": "914b3eef-aaa2-493e-cd22-25ae1b14d94f"
      },
      "execution_count": null,
      "outputs": [
        {
          "execution_count": 58,
          "output_type": "execute_result",
          "data": {
            "text/plain": "   RowNumber  CustomerId   Surname  CreditScore Geography  Gender  Age  \\\n0          1    15634602  Hargrave          619    France  Female   42   \n1          2    15647311      Hill          608     Spain  Female   41   \n2          3    15619304      Onio          502    France  Female   42   \n3          4    15701354      Boni          699    France  Female   39   \n4          5    15737888  Mitchell          850     Spain  Female   43   \n\n   Tenure    Balance  NumOfProducts  HasCrCard  IsActiveMember  \\\n0       2       0.00              1          1               1   \n1       1   83807.86              1          0               1   \n2       8  159660.80              3          1               0   \n3       1       0.00              2          0               0   \n4       2  125510.82              1          1               1   \n\n   EstimatedSalary  Exited  \n0        101348.88       1  \n1        112542.58       0  \n2        113931.57       1  \n3         93826.63       0  \n4         79084.10       0  ",
            "text/html": "<div>\n<style scoped>\n    .dataframe tbody tr th:only-of-type {\n        vertical-align: middle;\n    }\n\n    .dataframe tbody tr th {\n        vertical-align: top;\n    }\n\n    .dataframe thead th {\n        text-align: right;\n    }\n</style>\n<table border=\"1\" class=\"dataframe\">\n  <thead>\n    <tr style=\"text-align: right;\">\n      <th></th>\n      <th>RowNumber</th>\n      <th>CustomerId</th>\n      <th>Surname</th>\n      <th>CreditScore</th>\n      <th>Geography</th>\n      <th>Gender</th>\n      <th>Age</th>\n      <th>Tenure</th>\n      <th>Balance</th>\n      <th>NumOfProducts</th>\n      <th>HasCrCard</th>\n      <th>IsActiveMember</th>\n      <th>EstimatedSalary</th>\n      <th>Exited</th>\n    </tr>\n  </thead>\n  <tbody>\n    <tr>\n      <th>0</th>\n      <td>1</td>\n      <td>15634602</td>\n      <td>Hargrave</td>\n      <td>619</td>\n      <td>France</td>\n      <td>Female</td>\n      <td>42</td>\n      <td>2</td>\n      <td>0.00</td>\n      <td>1</td>\n      <td>1</td>\n      <td>1</td>\n      <td>101348.88</td>\n      <td>1</td>\n    </tr>\n    <tr>\n      <th>1</th>\n      <td>2</td>\n      <td>15647311</td>\n      <td>Hill</td>\n      <td>608</td>\n      <td>Spain</td>\n      <td>Female</td>\n      <td>41</td>\n      <td>1</td>\n      <td>83807.86</td>\n      <td>1</td>\n      <td>0</td>\n      <td>1</td>\n      <td>112542.58</td>\n      <td>0</td>\n    </tr>\n    <tr>\n      <th>2</th>\n      <td>3</td>\n      <td>15619304</td>\n      <td>Onio</td>\n      <td>502</td>\n      <td>France</td>\n      <td>Female</td>\n      <td>42</td>\n      <td>8</td>\n      <td>159660.80</td>\n      <td>3</td>\n      <td>1</td>\n      <td>0</td>\n      <td>113931.57</td>\n      <td>1</td>\n    </tr>\n    <tr>\n      <th>3</th>\n      <td>4</td>\n      <td>15701354</td>\n      <td>Boni</td>\n      <td>699</td>\n      <td>France</td>\n      <td>Female</td>\n      <td>39</td>\n      <td>1</td>\n      <td>0.00</td>\n      <td>2</td>\n      <td>0</td>\n      <td>0</td>\n      <td>93826.63</td>\n      <td>0</td>\n    </tr>\n    <tr>\n      <th>4</th>\n      <td>5</td>\n      <td>15737888</td>\n      <td>Mitchell</td>\n      <td>850</td>\n      <td>Spain</td>\n      <td>Female</td>\n      <td>43</td>\n      <td>2</td>\n      <td>125510.82</td>\n      <td>1</td>\n      <td>1</td>\n      <td>1</td>\n      <td>79084.10</td>\n      <td>0</td>\n    </tr>\n  </tbody>\n</table>\n</div>"
          },
          "metadata": {}
        }
      ]
    },
    {
      "cell_type": "code",
      "source": [
        "df.drop(columns = ['RowNumber','CustomerId','Surname'],inplace=True)"
      ],
      "metadata": {
        "execution": {
          "iopub.status.busy": "2024-07-08T07:37:34.171519Z",
          "iopub.execute_input": "2024-07-08T07:37:34.171908Z",
          "iopub.status.idle": "2024-07-08T07:37:34.182875Z",
          "shell.execute_reply.started": "2024-07-08T07:37:34.171876Z",
          "shell.execute_reply": "2024-07-08T07:37:34.181645Z"
        },
        "trusted": true,
        "id": "ihrzJUx9Sb_K"
      },
      "execution_count": null,
      "outputs": []
    },
    {
      "cell_type": "code",
      "source": [
        "df.head()"
      ],
      "metadata": {
        "execution": {
          "iopub.status.busy": "2024-07-08T07:37:34.18654Z",
          "iopub.execute_input": "2024-07-08T07:37:34.187258Z",
          "iopub.status.idle": "2024-07-08T07:37:34.207174Z",
          "shell.execute_reply.started": "2024-07-08T07:37:34.187213Z",
          "shell.execute_reply": "2024-07-08T07:37:34.205942Z"
        },
        "trusted": true,
        "id": "Eg1UWRq-Sb_L",
        "outputId": "f4517bd4-fc59-446d-bf45-9b818c31af7f"
      },
      "execution_count": null,
      "outputs": [
        {
          "execution_count": 60,
          "output_type": "execute_result",
          "data": {
            "text/plain": "   CreditScore Geography  Gender  Age  Tenure    Balance  NumOfProducts  \\\n0          619    France  Female   42       2       0.00              1   \n1          608     Spain  Female   41       1   83807.86              1   \n2          502    France  Female   42       8  159660.80              3   \n3          699    France  Female   39       1       0.00              2   \n4          850     Spain  Female   43       2  125510.82              1   \n\n   HasCrCard  IsActiveMember  EstimatedSalary  Exited  \n0          1               1        101348.88       1  \n1          0               1        112542.58       0  \n2          1               0        113931.57       1  \n3          0               0         93826.63       0  \n4          1               1         79084.10       0  ",
            "text/html": "<div>\n<style scoped>\n    .dataframe tbody tr th:only-of-type {\n        vertical-align: middle;\n    }\n\n    .dataframe tbody tr th {\n        vertical-align: top;\n    }\n\n    .dataframe thead th {\n        text-align: right;\n    }\n</style>\n<table border=\"1\" class=\"dataframe\">\n  <thead>\n    <tr style=\"text-align: right;\">\n      <th></th>\n      <th>CreditScore</th>\n      <th>Geography</th>\n      <th>Gender</th>\n      <th>Age</th>\n      <th>Tenure</th>\n      <th>Balance</th>\n      <th>NumOfProducts</th>\n      <th>HasCrCard</th>\n      <th>IsActiveMember</th>\n      <th>EstimatedSalary</th>\n      <th>Exited</th>\n    </tr>\n  </thead>\n  <tbody>\n    <tr>\n      <th>0</th>\n      <td>619</td>\n      <td>France</td>\n      <td>Female</td>\n      <td>42</td>\n      <td>2</td>\n      <td>0.00</td>\n      <td>1</td>\n      <td>1</td>\n      <td>1</td>\n      <td>101348.88</td>\n      <td>1</td>\n    </tr>\n    <tr>\n      <th>1</th>\n      <td>608</td>\n      <td>Spain</td>\n      <td>Female</td>\n      <td>41</td>\n      <td>1</td>\n      <td>83807.86</td>\n      <td>1</td>\n      <td>0</td>\n      <td>1</td>\n      <td>112542.58</td>\n      <td>0</td>\n    </tr>\n    <tr>\n      <th>2</th>\n      <td>502</td>\n      <td>France</td>\n      <td>Female</td>\n      <td>42</td>\n      <td>8</td>\n      <td>159660.80</td>\n      <td>3</td>\n      <td>1</td>\n      <td>0</td>\n      <td>113931.57</td>\n      <td>1</td>\n    </tr>\n    <tr>\n      <th>3</th>\n      <td>699</td>\n      <td>France</td>\n      <td>Female</td>\n      <td>39</td>\n      <td>1</td>\n      <td>0.00</td>\n      <td>2</td>\n      <td>0</td>\n      <td>0</td>\n      <td>93826.63</td>\n      <td>0</td>\n    </tr>\n    <tr>\n      <th>4</th>\n      <td>850</td>\n      <td>Spain</td>\n      <td>Female</td>\n      <td>43</td>\n      <td>2</td>\n      <td>125510.82</td>\n      <td>1</td>\n      <td>1</td>\n      <td>1</td>\n      <td>79084.10</td>\n      <td>0</td>\n    </tr>\n  </tbody>\n</table>\n</div>"
          },
          "metadata": {}
        }
      ]
    },
    {
      "cell_type": "code",
      "source": [
        "df['Geography'].value_counts()\n"
      ],
      "metadata": {
        "execution": {
          "iopub.status.busy": "2024-07-08T07:37:34.208671Z",
          "iopub.execute_input": "2024-07-08T07:37:34.209121Z",
          "iopub.status.idle": "2024-07-08T07:37:34.224066Z",
          "shell.execute_reply.started": "2024-07-08T07:37:34.209079Z",
          "shell.execute_reply": "2024-07-08T07:37:34.2227Z"
        },
        "trusted": true,
        "id": "CkmRbgenSb_L",
        "outputId": "6ea5d65f-b1b9-4014-a2cf-1ead6ba5c2b1"
      },
      "execution_count": null,
      "outputs": [
        {
          "execution_count": 61,
          "output_type": "execute_result",
          "data": {
            "text/plain": "Geography\nFrance     5014\nGermany    2509\nSpain      2477\nName: count, dtype: int64"
          },
          "metadata": {}
        }
      ]
    },
    {
      "cell_type": "code",
      "source": [
        "df['Gender'].value_counts()\n"
      ],
      "metadata": {
        "execution": {
          "iopub.status.busy": "2024-07-08T07:37:34.225564Z",
          "iopub.execute_input": "2024-07-08T07:37:34.226Z",
          "iopub.status.idle": "2024-07-08T07:37:34.240628Z",
          "shell.execute_reply.started": "2024-07-08T07:37:34.225968Z",
          "shell.execute_reply": "2024-07-08T07:37:34.239553Z"
        },
        "trusted": true,
        "id": "6-O7WT72Sb_M",
        "outputId": "0914c56a-b573-4c5b-d203-dc37a86d4857"
      },
      "execution_count": null,
      "outputs": [
        {
          "execution_count": 62,
          "output_type": "execute_result",
          "data": {
            "text/plain": "Gender\nMale      5457\nFemale    4543\nName: count, dtype: int64"
          },
          "metadata": {}
        }
      ]
    },
    {
      "cell_type": "code",
      "source": [
        "df = pd.get_dummies(df,columns=['Geography','Gender'],drop_first=True, dtype='int')"
      ],
      "metadata": {
        "execution": {
          "iopub.status.busy": "2024-07-08T07:37:34.242512Z",
          "iopub.execute_input": "2024-07-08T07:37:34.242924Z",
          "iopub.status.idle": "2024-07-08T07:37:34.262124Z",
          "shell.execute_reply.started": "2024-07-08T07:37:34.242894Z",
          "shell.execute_reply": "2024-07-08T07:37:34.260923Z"
        },
        "trusted": true,
        "id": "4wT8aDGoSb_M"
      },
      "execution_count": null,
      "outputs": []
    },
    {
      "cell_type": "code",
      "source": [
        "df.head()"
      ],
      "metadata": {
        "execution": {
          "iopub.status.busy": "2024-07-08T07:37:34.264129Z",
          "iopub.execute_input": "2024-07-08T07:37:34.264542Z",
          "iopub.status.idle": "2024-07-08T07:37:34.281874Z",
          "shell.execute_reply.started": "2024-07-08T07:37:34.264503Z",
          "shell.execute_reply": "2024-07-08T07:37:34.280385Z"
        },
        "trusted": true,
        "id": "SJEtkM-0Sb_N",
        "outputId": "9fbb1df7-dd94-48f2-d2b8-52048901c38a"
      },
      "execution_count": null,
      "outputs": [
        {
          "execution_count": 64,
          "output_type": "execute_result",
          "data": {
            "text/plain": "   CreditScore  Age  Tenure    Balance  NumOfProducts  HasCrCard  \\\n0          619   42       2       0.00              1          1   \n1          608   41       1   83807.86              1          0   \n2          502   42       8  159660.80              3          1   \n3          699   39       1       0.00              2          0   \n4          850   43       2  125510.82              1          1   \n\n   IsActiveMember  EstimatedSalary  Exited  Geography_Germany  \\\n0               1        101348.88       1                  0   \n1               1        112542.58       0                  0   \n2               0        113931.57       1                  0   \n3               0         93826.63       0                  0   \n4               1         79084.10       0                  0   \n\n   Geography_Spain  Gender_Male  \n0                0            0  \n1                1            0  \n2                0            0  \n3                0            0  \n4                1            0  ",
            "text/html": "<div>\n<style scoped>\n    .dataframe tbody tr th:only-of-type {\n        vertical-align: middle;\n    }\n\n    .dataframe tbody tr th {\n        vertical-align: top;\n    }\n\n    .dataframe thead th {\n        text-align: right;\n    }\n</style>\n<table border=\"1\" class=\"dataframe\">\n  <thead>\n    <tr style=\"text-align: right;\">\n      <th></th>\n      <th>CreditScore</th>\n      <th>Age</th>\n      <th>Tenure</th>\n      <th>Balance</th>\n      <th>NumOfProducts</th>\n      <th>HasCrCard</th>\n      <th>IsActiveMember</th>\n      <th>EstimatedSalary</th>\n      <th>Exited</th>\n      <th>Geography_Germany</th>\n      <th>Geography_Spain</th>\n      <th>Gender_Male</th>\n    </tr>\n  </thead>\n  <tbody>\n    <tr>\n      <th>0</th>\n      <td>619</td>\n      <td>42</td>\n      <td>2</td>\n      <td>0.00</td>\n      <td>1</td>\n      <td>1</td>\n      <td>1</td>\n      <td>101348.88</td>\n      <td>1</td>\n      <td>0</td>\n      <td>0</td>\n      <td>0</td>\n    </tr>\n    <tr>\n      <th>1</th>\n      <td>608</td>\n      <td>41</td>\n      <td>1</td>\n      <td>83807.86</td>\n      <td>1</td>\n      <td>0</td>\n      <td>1</td>\n      <td>112542.58</td>\n      <td>0</td>\n      <td>0</td>\n      <td>1</td>\n      <td>0</td>\n    </tr>\n    <tr>\n      <th>2</th>\n      <td>502</td>\n      <td>42</td>\n      <td>8</td>\n      <td>159660.80</td>\n      <td>3</td>\n      <td>1</td>\n      <td>0</td>\n      <td>113931.57</td>\n      <td>1</td>\n      <td>0</td>\n      <td>0</td>\n      <td>0</td>\n    </tr>\n    <tr>\n      <th>3</th>\n      <td>699</td>\n      <td>39</td>\n      <td>1</td>\n      <td>0.00</td>\n      <td>2</td>\n      <td>0</td>\n      <td>0</td>\n      <td>93826.63</td>\n      <td>0</td>\n      <td>0</td>\n      <td>0</td>\n      <td>0</td>\n    </tr>\n    <tr>\n      <th>4</th>\n      <td>850</td>\n      <td>43</td>\n      <td>2</td>\n      <td>125510.82</td>\n      <td>1</td>\n      <td>1</td>\n      <td>1</td>\n      <td>79084.10</td>\n      <td>0</td>\n      <td>0</td>\n      <td>1</td>\n      <td>0</td>\n    </tr>\n  </tbody>\n</table>\n</div>"
          },
          "metadata": {}
        }
      ]
    },
    {
      "cell_type": "code",
      "source": [
        "x=df.drop(columns=['Exited'])\n",
        "y=df['Exited'].values\n",
        "\n",
        "from sklearn.model_selection import train_test_split\n",
        "x_train,x_test,y_train,y_test=train_test_split(x,y,test_size=0.2,random_state=0)"
      ],
      "metadata": {
        "execution": {
          "iopub.status.busy": "2024-07-08T07:37:34.283604Z",
          "iopub.execute_input": "2024-07-08T07:37:34.283971Z",
          "iopub.status.idle": "2024-07-08T07:37:34.29865Z",
          "shell.execute_reply.started": "2024-07-08T07:37:34.283941Z",
          "shell.execute_reply": "2024-07-08T07:37:34.297219Z"
        },
        "trusted": true,
        "id": "T-EGgq4VSb_N"
      },
      "execution_count": null,
      "outputs": []
    },
    {
      "cell_type": "code",
      "source": [
        "x_train.shape"
      ],
      "metadata": {
        "execution": {
          "iopub.status.busy": "2024-07-08T07:37:34.300259Z",
          "iopub.execute_input": "2024-07-08T07:37:34.301205Z",
          "iopub.status.idle": "2024-07-08T07:37:34.309921Z",
          "shell.execute_reply.started": "2024-07-08T07:37:34.301168Z",
          "shell.execute_reply": "2024-07-08T07:37:34.308515Z"
        },
        "trusted": true,
        "id": "F9fRJ_arSb_N",
        "outputId": "ae91135f-7dc0-4e0c-ac73-9c5c227e2c24"
      },
      "execution_count": null,
      "outputs": [
        {
          "execution_count": 66,
          "output_type": "execute_result",
          "data": {
            "text/plain": "(8000, 11)"
          },
          "metadata": {}
        }
      ]
    },
    {
      "cell_type": "code",
      "source": [
        "from sklearn.preprocessing import StandardScaler\n",
        "scaler=StandardScaler()\n",
        "\n",
        "x_train_scaled=scaler.fit_transform(x_train)\n",
        "x_test_scaled=scaler.transform(x_test)\n"
      ],
      "metadata": {
        "execution": {
          "iopub.status.busy": "2024-07-08T07:37:34.311666Z",
          "iopub.execute_input": "2024-07-08T07:37:34.312001Z",
          "iopub.status.idle": "2024-07-08T07:37:34.330688Z",
          "shell.execute_reply.started": "2024-07-08T07:37:34.311971Z",
          "shell.execute_reply": "2024-07-08T07:37:34.329641Z"
        },
        "trusted": true,
        "id": "CRQBP8scSb_N"
      },
      "execution_count": null,
      "outputs": []
    },
    {
      "cell_type": "code",
      "source": [
        "x_train_scaled"
      ],
      "metadata": {
        "execution": {
          "iopub.status.busy": "2024-07-08T07:37:34.332449Z",
          "iopub.execute_input": "2024-07-08T07:37:34.332897Z",
          "iopub.status.idle": "2024-07-08T07:37:34.341701Z",
          "shell.execute_reply.started": "2024-07-08T07:37:34.332856Z",
          "shell.execute_reply": "2024-07-08T07:37:34.340456Z"
        },
        "trusted": true,
        "id": "XNpx_ey6Sb_O",
        "outputId": "572267f5-f3a0-4c67-9c99-88f26c095d18"
      },
      "execution_count": null,
      "outputs": [
        {
          "execution_count": 68,
          "output_type": "execute_result",
          "data": {
            "text/plain": "array([[ 0.16958176, -0.46460796,  0.00666099, ..., -0.5698444 ,\n         1.74309049, -1.09168714],\n       [-2.30455945,  0.30102557, -1.37744033, ...,  1.75486502,\n        -0.57369368,  0.91601335],\n       [-1.19119591, -0.94312892, -1.031415  , ..., -0.5698444 ,\n        -0.57369368, -1.09168714],\n       ...,\n       [ 0.9015152 , -0.36890377,  0.00666099, ..., -0.5698444 ,\n        -0.57369368,  0.91601335],\n       [-0.62420521, -0.08179119,  1.39076231, ..., -0.5698444 ,\n         1.74309049, -1.09168714],\n       [-0.28401079,  0.87525072, -1.37744033, ...,  1.75486502,\n        -0.57369368, -1.09168714]])"
          },
          "metadata": {}
        }
      ]
    },
    {
      "cell_type": "code",
      "source": [
        "x_test_scaled"
      ],
      "metadata": {
        "execution": {
          "iopub.status.busy": "2024-07-08T07:37:34.347224Z",
          "iopub.execute_input": "2024-07-08T07:37:34.347833Z",
          "iopub.status.idle": "2024-07-08T07:37:34.357652Z",
          "shell.execute_reply.started": "2024-07-08T07:37:34.347789Z",
          "shell.execute_reply": "2024-07-08T07:37:34.356353Z"
        },
        "trusted": true,
        "id": "L-ZwhreCSb_O",
        "outputId": "33b0880f-92d5-4142-dc23-1ba0be44a1ad"
      },
      "execution_count": null,
      "outputs": [
        {
          "execution_count": 69,
          "output_type": "execute_result",
          "data": {
            "text/plain": "array([[-0.55204276, -0.36890377,  1.04473698, ...,  1.75486502,\n        -0.57369368, -1.09168714],\n       [-1.31490297,  0.10961719, -1.031415  , ..., -0.5698444 ,\n        -0.57369368, -1.09168714],\n       [ 0.57162971,  0.30102557,  1.04473698, ..., -0.5698444 ,\n         1.74309049, -1.09168714],\n       ...,\n       [-0.74791227, -0.27319958, -1.37744033, ..., -0.5698444 ,\n         1.74309049,  0.91601335],\n       [-0.00566991, -0.46460796, -0.33936434, ...,  1.75486502,\n        -0.57369368,  0.91601335],\n       [-0.79945688, -0.84742473,  1.04473698, ...,  1.75486502,\n        -0.57369368,  0.91601335]])"
          },
          "metadata": {}
        }
      ]
    },
    {
      "cell_type": "code",
      "source": [
        "import tensorflow\n",
        "from tensorflow import keras\n",
        "from tensorflow.keras import Sequential\n",
        "from tensorflow.keras.layers import Dense"
      ],
      "metadata": {
        "execution": {
          "iopub.status.busy": "2024-07-08T07:37:34.359692Z",
          "iopub.execute_input": "2024-07-08T07:37:34.360212Z",
          "iopub.status.idle": "2024-07-08T07:37:34.368329Z",
          "shell.execute_reply.started": "2024-07-08T07:37:34.360179Z",
          "shell.execute_reply": "2024-07-08T07:37:34.36707Z"
        },
        "trusted": true,
        "id": "5Tg9tQJNSb_O"
      },
      "execution_count": null,
      "outputs": []
    },
    {
      "cell_type": "code",
      "source": [
        "model=Sequential()\n",
        "\n",
        "model.add(Dense(11,activation='relu',input_dim=11))\n",
        "model.add(Dense(11,activation='relu'))\n",
        "model.add(Dense(1,activation='sigmoid'))"
      ],
      "metadata": {
        "execution": {
          "iopub.status.busy": "2024-07-08T07:37:34.369888Z",
          "iopub.execute_input": "2024-07-08T07:37:34.370268Z",
          "iopub.status.idle": "2024-07-08T07:37:34.420605Z",
          "shell.execute_reply.started": "2024-07-08T07:37:34.370238Z",
          "shell.execute_reply": "2024-07-08T07:37:34.419382Z"
        },
        "trusted": true,
        "id": "zz43NzLrSb_O",
        "outputId": "1c81dd73-4f13-457a-a158-92640c2de3ff"
      },
      "execution_count": null,
      "outputs": [
        {
          "name": "stderr",
          "text": "/opt/conda/lib/python3.10/site-packages/keras/src/layers/core/dense.py:87: UserWarning: Do not pass an `input_shape`/`input_dim` argument to a layer. When using Sequential models, prefer using an `Input(shape)` object as the first layer in the model instead.\n  super().__init__(activity_regularizer=activity_regularizer, **kwargs)\n",
          "output_type": "stream"
        }
      ]
    },
    {
      "cell_type": "code",
      "source": [
        "model.summary()"
      ],
      "metadata": {
        "execution": {
          "iopub.status.busy": "2024-07-08T07:37:34.422291Z",
          "iopub.execute_input": "2024-07-08T07:37:34.422746Z",
          "iopub.status.idle": "2024-07-08T07:37:34.44696Z",
          "shell.execute_reply.started": "2024-07-08T07:37:34.422707Z",
          "shell.execute_reply": "2024-07-08T07:37:34.445705Z"
        },
        "trusted": true,
        "id": "ebE3l_IVSb_P",
        "outputId": "9ac03b63-30a2-4950-d493-b9d0caae4391"
      },
      "execution_count": null,
      "outputs": [
        {
          "output_type": "display_data",
          "data": {
            "text/plain": "\u001b[1mModel: \"sequential_3\"\u001b[0m\n",
            "text/html": "<pre style=\"white-space:pre;overflow-x:auto;line-height:normal;font-family:Menlo,'DejaVu Sans Mono',consolas,'Courier New',monospace\"><span style=\"font-weight: bold\">Model: \"sequential_3\"</span>\n</pre>\n"
          },
          "metadata": {}
        },
        {
          "output_type": "display_data",
          "data": {
            "text/plain": "┏━━━━━━━━━━━━━━━━━━━━━━━━━━━━━━━━━┳━━━━━━━━━━━━━━━━━━━━━━━━┳━━━━━━━━━━━━━━━┓\n┃\u001b[1m \u001b[0m\u001b[1mLayer (type)                   \u001b[0m\u001b[1m \u001b[0m┃\u001b[1m \u001b[0m\u001b[1mOutput Shape          \u001b[0m\u001b[1m \u001b[0m┃\u001b[1m \u001b[0m\u001b[1m      Param #\u001b[0m\u001b[1m \u001b[0m┃\n┡━━━━━━━━━━━━━━━━━━━━━━━━━━━━━━━━━╇━━━━━━━━━━━━━━━━━━━━━━━━╇━━━━━━━━━━━━━━━┩\n│ dense_8 (\u001b[38;5;33mDense\u001b[0m)                 │ (\u001b[38;5;45mNone\u001b[0m, \u001b[38;5;34m11\u001b[0m)             │           \u001b[38;5;34m132\u001b[0m │\n├─────────────────────────────────┼────────────────────────┼───────────────┤\n│ dense_9 (\u001b[38;5;33mDense\u001b[0m)                 │ (\u001b[38;5;45mNone\u001b[0m, \u001b[38;5;34m11\u001b[0m)             │           \u001b[38;5;34m132\u001b[0m │\n├─────────────────────────────────┼────────────────────────┼───────────────┤\n│ dense_10 (\u001b[38;5;33mDense\u001b[0m)                │ (\u001b[38;5;45mNone\u001b[0m, \u001b[38;5;34m1\u001b[0m)              │            \u001b[38;5;34m12\u001b[0m │\n└─────────────────────────────────┴────────────────────────┴───────────────┘\n",
            "text/html": "<pre style=\"white-space:pre;overflow-x:auto;line-height:normal;font-family:Menlo,'DejaVu Sans Mono',consolas,'Courier New',monospace\">┏━━━━━━━━━━━━━━━━━━━━━━━━━━━━━━━━━┳━━━━━━━━━━━━━━━━━━━━━━━━┳━━━━━━━━━━━━━━━┓\n┃<span style=\"font-weight: bold\"> Layer (type)                    </span>┃<span style=\"font-weight: bold\"> Output Shape           </span>┃<span style=\"font-weight: bold\">       Param # </span>┃\n┡━━━━━━━━━━━━━━━━━━━━━━━━━━━━━━━━━╇━━━━━━━━━━━━━━━━━━━━━━━━╇━━━━━━━━━━━━━━━┩\n│ dense_8 (<span style=\"color: #0087ff; text-decoration-color: #0087ff\">Dense</span>)                 │ (<span style=\"color: #00d7ff; text-decoration-color: #00d7ff\">None</span>, <span style=\"color: #00af00; text-decoration-color: #00af00\">11</span>)             │           <span style=\"color: #00af00; text-decoration-color: #00af00\">132</span> │\n├─────────────────────────────────┼────────────────────────┼───────────────┤\n│ dense_9 (<span style=\"color: #0087ff; text-decoration-color: #0087ff\">Dense</span>)                 │ (<span style=\"color: #00d7ff; text-decoration-color: #00d7ff\">None</span>, <span style=\"color: #00af00; text-decoration-color: #00af00\">11</span>)             │           <span style=\"color: #00af00; text-decoration-color: #00af00\">132</span> │\n├─────────────────────────────────┼────────────────────────┼───────────────┤\n│ dense_10 (<span style=\"color: #0087ff; text-decoration-color: #0087ff\">Dense</span>)                │ (<span style=\"color: #00d7ff; text-decoration-color: #00d7ff\">None</span>, <span style=\"color: #00af00; text-decoration-color: #00af00\">1</span>)              │            <span style=\"color: #00af00; text-decoration-color: #00af00\">12</span> │\n└─────────────────────────────────┴────────────────────────┴───────────────┘\n</pre>\n"
          },
          "metadata": {}
        },
        {
          "output_type": "display_data",
          "data": {
            "text/plain": "\u001b[1m Total params: \u001b[0m\u001b[38;5;34m276\u001b[0m (1.08 KB)\n",
            "text/html": "<pre style=\"white-space:pre;overflow-x:auto;line-height:normal;font-family:Menlo,'DejaVu Sans Mono',consolas,'Courier New',monospace\"><span style=\"font-weight: bold\"> Total params: </span><span style=\"color: #00af00; text-decoration-color: #00af00\">276</span> (1.08 KB)\n</pre>\n"
          },
          "metadata": {}
        },
        {
          "output_type": "display_data",
          "data": {
            "text/plain": "\u001b[1m Trainable params: \u001b[0m\u001b[38;5;34m276\u001b[0m (1.08 KB)\n",
            "text/html": "<pre style=\"white-space:pre;overflow-x:auto;line-height:normal;font-family:Menlo,'DejaVu Sans Mono',consolas,'Courier New',monospace\"><span style=\"font-weight: bold\"> Trainable params: </span><span style=\"color: #00af00; text-decoration-color: #00af00\">276</span> (1.08 KB)\n</pre>\n"
          },
          "metadata": {}
        },
        {
          "output_type": "display_data",
          "data": {
            "text/plain": "\u001b[1m Non-trainable params: \u001b[0m\u001b[38;5;34m0\u001b[0m (0.00 B)\n",
            "text/html": "<pre style=\"white-space:pre;overflow-x:auto;line-height:normal;font-family:Menlo,'DejaVu Sans Mono',consolas,'Courier New',monospace\"><span style=\"font-weight: bold\"> Non-trainable params: </span><span style=\"color: #00af00; text-decoration-color: #00af00\">0</span> (0.00 B)\n</pre>\n"
          },
          "metadata": {}
        }
      ]
    },
    {
      "cell_type": "code",
      "source": [
        "model.compile(loss='binary_crossentropy', optimizer='Adam', metrics=['accuracy'])"
      ],
      "metadata": {
        "execution": {
          "iopub.status.busy": "2024-07-08T07:37:34.44831Z",
          "iopub.execute_input": "2024-07-08T07:37:34.448692Z",
          "iopub.status.idle": "2024-07-08T07:37:34.45961Z",
          "shell.execute_reply.started": "2024-07-08T07:37:34.448661Z",
          "shell.execute_reply": "2024-07-08T07:37:34.458454Z"
        },
        "trusted": true,
        "id": "qasmIKbiSb_P"
      },
      "execution_count": null,
      "outputs": []
    },
    {
      "cell_type": "code",
      "source": [
        "model.fit(x_train_scaled,y_train,epochs=100, validation_split=0.1)"
      ],
      "metadata": {
        "execution": {
          "iopub.status.busy": "2024-07-08T07:37:34.461289Z",
          "iopub.execute_input": "2024-07-08T07:37:34.461713Z",
          "iopub.status.idle": "2024-07-08T07:38:18.155644Z",
          "shell.execute_reply.started": "2024-07-08T07:37:34.46167Z",
          "shell.execute_reply": "2024-07-08T07:38:18.154373Z"
        },
        "trusted": true,
        "id": "nyCHmFOsSb_P",
        "outputId": "d554a22f-b022-4d42-dc8c-d42268c62a1a"
      },
      "execution_count": null,
      "outputs": [
        {
          "name": "stdout",
          "text": "Epoch 1/100\n\u001b[1m225/225\u001b[0m \u001b[32m━━━━━━━━━━━━━━━━━━━━\u001b[0m\u001b[37m\u001b[0m \u001b[1m2s\u001b[0m 2ms/step - accuracy: 0.5803 - loss: 0.6576 - val_accuracy: 0.7912 - val_loss: 0.4706\nEpoch 2/100\n\u001b[1m225/225\u001b[0m \u001b[32m━━━━━━━━━━━━━━━━━━━━\u001b[0m\u001b[37m\u001b[0m \u001b[1m0s\u001b[0m 2ms/step - accuracy: 0.8061 - loss: 0.4510 - val_accuracy: 0.8200 - val_loss: 0.4172\nEpoch 3/100\n\u001b[1m225/225\u001b[0m \u001b[32m━━━━━━━━━━━━━━━━━━━━\u001b[0m\u001b[37m\u001b[0m \u001b[1m0s\u001b[0m 2ms/step - accuracy: 0.8294 - loss: 0.4126 - val_accuracy: 0.8388 - val_loss: 0.3927\nEpoch 4/100\n\u001b[1m225/225\u001b[0m \u001b[32m━━━━━━━━━━━━━━━━━━━━\u001b[0m\u001b[37m\u001b[0m \u001b[1m0s\u001b[0m 2ms/step - accuracy: 0.8308 - loss: 0.4100 - val_accuracy: 0.8462 - val_loss: 0.3761\nEpoch 5/100\n\u001b[1m225/225\u001b[0m \u001b[32m━━━━━━━━━━━━━━━━━━━━\u001b[0m\u001b[37m\u001b[0m \u001b[1m0s\u001b[0m 2ms/step - accuracy: 0.8328 - loss: 0.3997 - val_accuracy: 0.8575 - val_loss: 0.3611\nEpoch 6/100\n\u001b[1m225/225\u001b[0m \u001b[32m━━━━━━━━━━━━━━━━━━━━\u001b[0m\u001b[37m\u001b[0m \u001b[1m0s\u001b[0m 2ms/step - accuracy: 0.8487 - loss: 0.3675 - val_accuracy: 0.8625 - val_loss: 0.3510\nEpoch 7/100\n\u001b[1m225/225\u001b[0m \u001b[32m━━━━━━━━━━━━━━━━━━━━\u001b[0m\u001b[37m\u001b[0m \u001b[1m0s\u001b[0m 2ms/step - accuracy: 0.8507 - loss: 0.3641 - val_accuracy: 0.8687 - val_loss: 0.3424\nEpoch 8/100\n\u001b[1m225/225\u001b[0m \u001b[32m━━━━━━━━━━━━━━━━━━━━\u001b[0m\u001b[37m\u001b[0m \u001b[1m0s\u001b[0m 2ms/step - accuracy: 0.8477 - loss: 0.3655 - val_accuracy: 0.8637 - val_loss: 0.3381\nEpoch 9/100\n\u001b[1m225/225\u001b[0m \u001b[32m━━━━━━━━━━━━━━━━━━━━\u001b[0m\u001b[37m\u001b[0m \u001b[1m0s\u001b[0m 2ms/step - accuracy: 0.8507 - loss: 0.3662 - val_accuracy: 0.8700 - val_loss: 0.3348\nEpoch 10/100\n\u001b[1m225/225\u001b[0m \u001b[32m━━━━━━━━━━━━━━━━━━━━\u001b[0m\u001b[37m\u001b[0m \u001b[1m0s\u001b[0m 2ms/step - accuracy: 0.8493 - loss: 0.3621 - val_accuracy: 0.8675 - val_loss: 0.3367\nEpoch 11/100\n\u001b[1m225/225\u001b[0m \u001b[32m━━━━━━━━━━━━━━━━━━━━\u001b[0m\u001b[37m\u001b[0m \u001b[1m0s\u001b[0m 2ms/step - accuracy: 0.8577 - loss: 0.3490 - val_accuracy: 0.8675 - val_loss: 0.3345\nEpoch 12/100\n\u001b[1m225/225\u001b[0m \u001b[32m━━━━━━━━━━━━━━━━━━━━\u001b[0m\u001b[37m\u001b[0m \u001b[1m0s\u001b[0m 2ms/step - accuracy: 0.8532 - loss: 0.3530 - val_accuracy: 0.8687 - val_loss: 0.3320\nEpoch 13/100\n\u001b[1m225/225\u001b[0m \u001b[32m━━━━━━━━━━━━━━━━━━━━\u001b[0m\u001b[37m\u001b[0m \u001b[1m0s\u001b[0m 2ms/step - accuracy: 0.8606 - loss: 0.3452 - val_accuracy: 0.8687 - val_loss: 0.3322\nEpoch 14/100\n\u001b[1m225/225\u001b[0m \u001b[32m━━━━━━━━━━━━━━━━━━━━\u001b[0m\u001b[37m\u001b[0m \u001b[1m0s\u001b[0m 2ms/step - accuracy: 0.8593 - loss: 0.3436 - val_accuracy: 0.8675 - val_loss: 0.3312\nEpoch 15/100\n\u001b[1m225/225\u001b[0m \u001b[32m━━━━━━━━━━━━━━━━━━━━\u001b[0m\u001b[37m\u001b[0m \u001b[1m0s\u001b[0m 2ms/step - accuracy: 0.8682 - loss: 0.3283 - val_accuracy: 0.8637 - val_loss: 0.3316\nEpoch 16/100\n\u001b[1m225/225\u001b[0m \u001b[32m━━━━━━━━━━━━━━━━━━━━\u001b[0m\u001b[37m\u001b[0m \u001b[1m0s\u001b[0m 2ms/step - accuracy: 0.8650 - loss: 0.3355 - val_accuracy: 0.8700 - val_loss: 0.3295\nEpoch 17/100\n\u001b[1m225/225\u001b[0m \u001b[32m━━━━━━━━━━━━━━━━━━━━\u001b[0m\u001b[37m\u001b[0m \u001b[1m0s\u001b[0m 2ms/step - accuracy: 0.8481 - loss: 0.3513 - val_accuracy: 0.8675 - val_loss: 0.3300\nEpoch 18/100\n\u001b[1m225/225\u001b[0m \u001b[32m━━━━━━━━━━━━━━━━━━━━\u001b[0m\u001b[37m\u001b[0m \u001b[1m0s\u001b[0m 2ms/step - accuracy: 0.8570 - loss: 0.3434 - val_accuracy: 0.8675 - val_loss: 0.3290\nEpoch 19/100\n\u001b[1m225/225\u001b[0m \u001b[32m━━━━━━━━━━━━━━━━━━━━\u001b[0m\u001b[37m\u001b[0m \u001b[1m0s\u001b[0m 2ms/step - accuracy: 0.8604 - loss: 0.3359 - val_accuracy: 0.8637 - val_loss: 0.3297\nEpoch 20/100\n\u001b[1m225/225\u001b[0m \u001b[32m━━━━━━━━━━━━━━━━━━━━\u001b[0m\u001b[37m\u001b[0m \u001b[1m0s\u001b[0m 2ms/step - accuracy: 0.8636 - loss: 0.3381 - val_accuracy: 0.8687 - val_loss: 0.3286\nEpoch 21/100\n\u001b[1m225/225\u001b[0m \u001b[32m━━━━━━━━━━━━━━━━━━━━\u001b[0m\u001b[37m\u001b[0m \u001b[1m0s\u001b[0m 2ms/step - accuracy: 0.8664 - loss: 0.3259 - val_accuracy: 0.8675 - val_loss: 0.3294\nEpoch 22/100\n\u001b[1m225/225\u001b[0m \u001b[32m━━━━━━━━━━━━━━━━━━━━\u001b[0m\u001b[37m\u001b[0m \u001b[1m0s\u001b[0m 2ms/step - accuracy: 0.8644 - loss: 0.3320 - val_accuracy: 0.8637 - val_loss: 0.3303\nEpoch 23/100\n\u001b[1m225/225\u001b[0m \u001b[32m━━━━━━━━━━━━━━━━━━━━\u001b[0m\u001b[37m\u001b[0m \u001b[1m0s\u001b[0m 2ms/step - accuracy: 0.8627 - loss: 0.3340 - val_accuracy: 0.8700 - val_loss: 0.3285\nEpoch 24/100\n\u001b[1m225/225\u001b[0m \u001b[32m━━━━━━━━━━━━━━━━━━━━\u001b[0m\u001b[37m\u001b[0m \u001b[1m0s\u001b[0m 2ms/step - accuracy: 0.8665 - loss: 0.3305 - val_accuracy: 0.8650 - val_loss: 0.3280\nEpoch 25/100\n\u001b[1m225/225\u001b[0m \u001b[32m━━━━━━━━━━━━━━━━━━━━\u001b[0m\u001b[37m\u001b[0m \u001b[1m0s\u001b[0m 2ms/step - accuracy: 0.8672 - loss: 0.3249 - val_accuracy: 0.8687 - val_loss: 0.3288\nEpoch 26/100\n\u001b[1m225/225\u001b[0m \u001b[32m━━━━━━━━━━━━━━━━━━━━\u001b[0m\u001b[37m\u001b[0m \u001b[1m0s\u001b[0m 2ms/step - accuracy: 0.8607 - loss: 0.3395 - val_accuracy: 0.8675 - val_loss: 0.3276\nEpoch 27/100\n\u001b[1m225/225\u001b[0m \u001b[32m━━━━━━━━━━━━━━━━━━━━\u001b[0m\u001b[37m\u001b[0m \u001b[1m0s\u001b[0m 2ms/step - accuracy: 0.8594 - loss: 0.3400 - val_accuracy: 0.8662 - val_loss: 0.3278\nEpoch 28/100\n\u001b[1m225/225\u001b[0m \u001b[32m━━━━━━━━━━━━━━━━━━━━\u001b[0m\u001b[37m\u001b[0m \u001b[1m0s\u001b[0m 2ms/step - accuracy: 0.8542 - loss: 0.3482 - val_accuracy: 0.8687 - val_loss: 0.3271\nEpoch 29/100\n\u001b[1m225/225\u001b[0m \u001b[32m━━━━━━━━━━━━━━━━━━━━\u001b[0m\u001b[37m\u001b[0m \u001b[1m0s\u001b[0m 2ms/step - accuracy: 0.8589 - loss: 0.3432 - val_accuracy: 0.8662 - val_loss: 0.3270\nEpoch 30/100\n\u001b[1m225/225\u001b[0m \u001b[32m━━━━━━━━━━━━━━━━━━━━\u001b[0m\u001b[37m\u001b[0m \u001b[1m0s\u001b[0m 2ms/step - accuracy: 0.8620 - loss: 0.3304 - val_accuracy: 0.8687 - val_loss: 0.3271\nEpoch 31/100\n\u001b[1m225/225\u001b[0m \u001b[32m━━━━━━━━━━━━━━━━━━━━\u001b[0m\u001b[37m\u001b[0m \u001b[1m0s\u001b[0m 2ms/step - accuracy: 0.8666 - loss: 0.3282 - val_accuracy: 0.8675 - val_loss: 0.3281\nEpoch 32/100\n\u001b[1m225/225\u001b[0m \u001b[32m━━━━━━━━━━━━━━━━━━━━\u001b[0m\u001b[37m\u001b[0m \u001b[1m0s\u001b[0m 2ms/step - accuracy: 0.8721 - loss: 0.3248 - val_accuracy: 0.8687 - val_loss: 0.3280\nEpoch 33/100\n\u001b[1m225/225\u001b[0m \u001b[32m━━━━━━━━━━━━━━━━━━━━\u001b[0m\u001b[37m\u001b[0m \u001b[1m0s\u001b[0m 2ms/step - accuracy: 0.8724 - loss: 0.3146 - val_accuracy: 0.8675 - val_loss: 0.3273\nEpoch 34/100\n\u001b[1m225/225\u001b[0m \u001b[32m━━━━━━━━━━━━━━━━━━━━\u001b[0m\u001b[37m\u001b[0m \u001b[1m0s\u001b[0m 2ms/step - accuracy: 0.8622 - loss: 0.3407 - val_accuracy: 0.8662 - val_loss: 0.3259\nEpoch 35/100\n\u001b[1m225/225\u001b[0m \u001b[32m━━━━━━━━━━━━━━━━━━━━\u001b[0m\u001b[37m\u001b[0m \u001b[1m0s\u001b[0m 2ms/step - accuracy: 0.8632 - loss: 0.3362 - val_accuracy: 0.8650 - val_loss: 0.3271\nEpoch 36/100\n\u001b[1m225/225\u001b[0m \u001b[32m━━━━━━━━━━━━━━━━━━━━\u001b[0m\u001b[37m\u001b[0m \u001b[1m0s\u001b[0m 2ms/step - accuracy: 0.8665 - loss: 0.3235 - val_accuracy: 0.8675 - val_loss: 0.3278\nEpoch 37/100\n\u001b[1m225/225\u001b[0m \u001b[32m━━━━━━━━━━━━━━━━━━━━\u001b[0m\u001b[37m\u001b[0m \u001b[1m0s\u001b[0m 2ms/step - accuracy: 0.8649 - loss: 0.3314 - val_accuracy: 0.8700 - val_loss: 0.3263\nEpoch 38/100\n\u001b[1m225/225\u001b[0m \u001b[32m━━━━━━━━━━━━━━━━━━━━\u001b[0m\u001b[37m\u001b[0m \u001b[1m0s\u001b[0m 2ms/step - accuracy: 0.8625 - loss: 0.3309 - val_accuracy: 0.8700 - val_loss: 0.3282\nEpoch 39/100\n\u001b[1m225/225\u001b[0m \u001b[32m━━━━━━━━━━━━━━━━━━━━\u001b[0m\u001b[37m\u001b[0m \u001b[1m0s\u001b[0m 2ms/step - accuracy: 0.8645 - loss: 0.3304 - val_accuracy: 0.8687 - val_loss: 0.3273\nEpoch 40/100\n\u001b[1m225/225\u001b[0m \u001b[32m━━━━━━━━━━━━━━━━━━━━\u001b[0m\u001b[37m\u001b[0m \u001b[1m0s\u001b[0m 2ms/step - accuracy: 0.8603 - loss: 0.3367 - val_accuracy: 0.8650 - val_loss: 0.3274\nEpoch 41/100\n\u001b[1m225/225\u001b[0m \u001b[32m━━━━━━━━━━━━━━━━━━━━\u001b[0m\u001b[37m\u001b[0m \u001b[1m0s\u001b[0m 2ms/step - accuracy: 0.8634 - loss: 0.3359 - val_accuracy: 0.8675 - val_loss: 0.3266\nEpoch 42/100\n\u001b[1m225/225\u001b[0m \u001b[32m━━━━━━━━━━━━━━━━━━━━\u001b[0m\u001b[37m\u001b[0m \u001b[1m0s\u001b[0m 2ms/step - accuracy: 0.8671 - loss: 0.3243 - val_accuracy: 0.8650 - val_loss: 0.3261\nEpoch 43/100\n\u001b[1m225/225\u001b[0m \u001b[32m━━━━━━━━━━━━━━━━━━━━\u001b[0m\u001b[37m\u001b[0m \u001b[1m0s\u001b[0m 2ms/step - accuracy: 0.8605 - loss: 0.3398 - val_accuracy: 0.8675 - val_loss: 0.3300\nEpoch 44/100\n\u001b[1m225/225\u001b[0m \u001b[32m━━━━━━━━━━━━━━━━━━━━\u001b[0m\u001b[37m\u001b[0m \u001b[1m0s\u001b[0m 2ms/step - accuracy: 0.8635 - loss: 0.3266 - val_accuracy: 0.8612 - val_loss: 0.3275\nEpoch 45/100\n\u001b[1m225/225\u001b[0m \u001b[32m━━━━━━━━━━━━━━━━━━━━\u001b[0m\u001b[37m\u001b[0m \u001b[1m0s\u001b[0m 2ms/step - accuracy: 0.8642 - loss: 0.3310 - val_accuracy: 0.8687 - val_loss: 0.3264\nEpoch 46/100\n\u001b[1m225/225\u001b[0m \u001b[32m━━━━━━━━━━━━━━━━━━━━\u001b[0m\u001b[37m\u001b[0m \u001b[1m0s\u001b[0m 2ms/step - accuracy: 0.8694 - loss: 0.3200 - val_accuracy: 0.8637 - val_loss: 0.3279\nEpoch 47/100\n\u001b[1m225/225\u001b[0m \u001b[32m━━━━━━━━━━━━━━━━━━━━\u001b[0m\u001b[37m\u001b[0m \u001b[1m0s\u001b[0m 2ms/step - accuracy: 0.8691 - loss: 0.3231 - val_accuracy: 0.8687 - val_loss: 0.3267\nEpoch 48/100\n\u001b[1m225/225\u001b[0m \u001b[32m━━━━━━━━━━━━━━━━━━━━\u001b[0m\u001b[37m\u001b[0m \u001b[1m0s\u001b[0m 2ms/step - accuracy: 0.8763 - loss: 0.3124 - val_accuracy: 0.8625 - val_loss: 0.3265\nEpoch 49/100\n\u001b[1m225/225\u001b[0m \u001b[32m━━━━━━━━━━━━━━━━━━━━\u001b[0m\u001b[37m\u001b[0m \u001b[1m0s\u001b[0m 2ms/step - accuracy: 0.8601 - loss: 0.3331 - val_accuracy: 0.8650 - val_loss: 0.3266\nEpoch 50/100\n\u001b[1m225/225\u001b[0m \u001b[32m━━━━━━━━━━━━━━━━━━━━\u001b[0m\u001b[37m\u001b[0m \u001b[1m0s\u001b[0m 2ms/step - accuracy: 0.8633 - loss: 0.3325 - val_accuracy: 0.8662 - val_loss: 0.3259\nEpoch 51/100\n\u001b[1m225/225\u001b[0m \u001b[32m━━━━━━━━━━━━━━━━━━━━\u001b[0m\u001b[37m\u001b[0m \u001b[1m0s\u001b[0m 2ms/step - accuracy: 0.8754 - loss: 0.3199 - val_accuracy: 0.8662 - val_loss: 0.3297\nEpoch 52/100\n\u001b[1m225/225\u001b[0m \u001b[32m━━━━━━━━━━━━━━━━━━━━\u001b[0m\u001b[37m\u001b[0m \u001b[1m0s\u001b[0m 2ms/step - accuracy: 0.8681 - loss: 0.3256 - val_accuracy: 0.8687 - val_loss: 0.3273\nEpoch 53/100\n\u001b[1m225/225\u001b[0m \u001b[32m━━━━━━━━━━━━━━━━━━━━\u001b[0m\u001b[37m\u001b[0m \u001b[1m0s\u001b[0m 2ms/step - accuracy: 0.8695 - loss: 0.3297 - val_accuracy: 0.8612 - val_loss: 0.3258\nEpoch 54/100\n\u001b[1m225/225\u001b[0m \u001b[32m━━━━━━━━━━━━━━━━━━━━\u001b[0m\u001b[37m\u001b[0m \u001b[1m0s\u001b[0m 2ms/step - accuracy: 0.8580 - loss: 0.3291 - val_accuracy: 0.8650 - val_loss: 0.3260\nEpoch 55/100\n\u001b[1m225/225\u001b[0m \u001b[32m━━━━━━━━━━━━━━━━━━━━\u001b[0m\u001b[37m\u001b[0m \u001b[1m0s\u001b[0m 2ms/step - accuracy: 0.8649 - loss: 0.3406 - val_accuracy: 0.8712 - val_loss: 0.3290\nEpoch 56/100\n\u001b[1m225/225\u001b[0m \u001b[32m━━━━━━━━━━━━━━━━━━━━\u001b[0m\u001b[37m\u001b[0m \u001b[1m0s\u001b[0m 2ms/step - accuracy: 0.8556 - loss: 0.3417 - val_accuracy: 0.8675 - val_loss: 0.3262\nEpoch 57/100\n\u001b[1m225/225\u001b[0m \u001b[32m━━━━━━━━━━━━━━━━━━━━\u001b[0m\u001b[37m\u001b[0m \u001b[1m0s\u001b[0m 2ms/step - accuracy: 0.8637 - loss: 0.3285 - val_accuracy: 0.8675 - val_loss: 0.3258\nEpoch 58/100\n\u001b[1m225/225\u001b[0m \u001b[32m━━━━━━━━━━━━━━━━━━━━\u001b[0m\u001b[37m\u001b[0m \u001b[1m0s\u001b[0m 2ms/step - accuracy: 0.8666 - loss: 0.3251 - val_accuracy: 0.8687 - val_loss: 0.3287\nEpoch 59/100\n\u001b[1m225/225\u001b[0m \u001b[32m━━━━━━━━━━━━━━━━━━━━\u001b[0m\u001b[37m\u001b[0m \u001b[1m0s\u001b[0m 2ms/step - accuracy: 0.8691 - loss: 0.3221 - val_accuracy: 0.8687 - val_loss: 0.3275\nEpoch 60/100\n\u001b[1m225/225\u001b[0m \u001b[32m━━━━━━━━━━━━━━━━━━━━\u001b[0m\u001b[37m\u001b[0m \u001b[1m0s\u001b[0m 2ms/step - accuracy: 0.8675 - loss: 0.3283 - val_accuracy: 0.8675 - val_loss: 0.3267\nEpoch 61/100\n\u001b[1m225/225\u001b[0m \u001b[32m━━━━━━━━━━━━━━━━━━━━\u001b[0m\u001b[37m\u001b[0m \u001b[1m0s\u001b[0m 2ms/step - accuracy: 0.8580 - loss: 0.3370 - val_accuracy: 0.8637 - val_loss: 0.3279\nEpoch 62/100\n\u001b[1m225/225\u001b[0m \u001b[32m━━━━━━━━━━━━━━━━━━━━\u001b[0m\u001b[37m\u001b[0m \u001b[1m0s\u001b[0m 2ms/step - accuracy: 0.8653 - loss: 0.3247 - val_accuracy: 0.8712 - val_loss: 0.3262\nEpoch 63/100\n\u001b[1m225/225\u001b[0m \u001b[32m━━━━━━━━━━━━━━━━━━━━\u001b[0m\u001b[37m\u001b[0m \u001b[1m0s\u001b[0m 2ms/step - accuracy: 0.8638 - loss: 0.3324 - val_accuracy: 0.8725 - val_loss: 0.3263\nEpoch 64/100\n\u001b[1m225/225\u001b[0m \u001b[32m━━━━━━━━━━━━━━━━━━━━\u001b[0m\u001b[37m\u001b[0m \u001b[1m0s\u001b[0m 2ms/step - accuracy: 0.8608 - loss: 0.3328 - val_accuracy: 0.8637 - val_loss: 0.3271\nEpoch 65/100\n\u001b[1m225/225\u001b[0m \u001b[32m━━━━━━━━━━━━━━━━━━━━\u001b[0m\u001b[37m\u001b[0m \u001b[1m0s\u001b[0m 2ms/step - accuracy: 0.8693 - loss: 0.3188 - val_accuracy: 0.8725 - val_loss: 0.3257\nEpoch 66/100\n\u001b[1m225/225\u001b[0m \u001b[32m━━━━━━━━━━━━━━━━━━━━\u001b[0m\u001b[37m\u001b[0m \u001b[1m0s\u001b[0m 2ms/step - accuracy: 0.8654 - loss: 0.3247 - val_accuracy: 0.8675 - val_loss: 0.3264\nEpoch 67/100\n\u001b[1m225/225\u001b[0m \u001b[32m━━━━━━━━━━━━━━━━━━━━\u001b[0m\u001b[37m\u001b[0m \u001b[1m0s\u001b[0m 2ms/step - accuracy: 0.8675 - loss: 0.3317 - val_accuracy: 0.8737 - val_loss: 0.3277\nEpoch 68/100\n\u001b[1m225/225\u001b[0m \u001b[32m━━━━━━━━━━━━━━━━━━━━\u001b[0m\u001b[37m\u001b[0m \u001b[1m0s\u001b[0m 2ms/step - accuracy: 0.8638 - loss: 0.3252 - val_accuracy: 0.8725 - val_loss: 0.3277\nEpoch 69/100\n\u001b[1m225/225\u001b[0m \u001b[32m━━━━━━━━━━━━━━━━━━━━\u001b[0m\u001b[37m\u001b[0m \u001b[1m0s\u001b[0m 2ms/step - accuracy: 0.8641 - loss: 0.3314 - val_accuracy: 0.8650 - val_loss: 0.3268\nEpoch 70/100\n\u001b[1m225/225\u001b[0m \u001b[32m━━━━━━━━━━━━━━━━━━━━\u001b[0m\u001b[37m\u001b[0m \u001b[1m0s\u001b[0m 2ms/step - accuracy: 0.8647 - loss: 0.3297 - val_accuracy: 0.8637 - val_loss: 0.3272\nEpoch 71/100\n\u001b[1m225/225\u001b[0m \u001b[32m━━━━━━━━━━━━━━━━━━━━\u001b[0m\u001b[37m\u001b[0m \u001b[1m0s\u001b[0m 2ms/step - accuracy: 0.8650 - loss: 0.3252 - val_accuracy: 0.8712 - val_loss: 0.3270\nEpoch 72/100\n\u001b[1m225/225\u001b[0m \u001b[32m━━━━━━━━━━━━━━━━━━━━\u001b[0m\u001b[37m\u001b[0m \u001b[1m0s\u001b[0m 2ms/step - accuracy: 0.8767 - loss: 0.3131 - val_accuracy: 0.8625 - val_loss: 0.3287\nEpoch 73/100\n\u001b[1m225/225\u001b[0m \u001b[32m━━━━━━━━━━━━━━━━━━━━\u001b[0m\u001b[37m\u001b[0m \u001b[1m0s\u001b[0m 2ms/step - accuracy: 0.8690 - loss: 0.3175 - val_accuracy: 0.8712 - val_loss: 0.3270\nEpoch 74/100\n\u001b[1m225/225\u001b[0m \u001b[32m━━━━━━━━━━━━━━━━━━━━\u001b[0m\u001b[37m\u001b[0m \u001b[1m0s\u001b[0m 2ms/step - accuracy: 0.8653 - loss: 0.3235 - val_accuracy: 0.8725 - val_loss: 0.3271\nEpoch 75/100\n\u001b[1m225/225\u001b[0m \u001b[32m━━━━━━━━━━━━━━━━━━━━\u001b[0m\u001b[37m\u001b[0m \u001b[1m0s\u001b[0m 2ms/step - accuracy: 0.8727 - loss: 0.3108 - val_accuracy: 0.8700 - val_loss: 0.3287\nEpoch 76/100\n\u001b[1m225/225\u001b[0m \u001b[32m━━━━━━━━━━━━━━━━━━━━\u001b[0m\u001b[37m\u001b[0m \u001b[1m0s\u001b[0m 2ms/step - accuracy: 0.8673 - loss: 0.3210 - val_accuracy: 0.8662 - val_loss: 0.3269\nEpoch 77/100\n\u001b[1m225/225\u001b[0m \u001b[32m━━━━━━━━━━━━━━━━━━━━\u001b[0m\u001b[37m\u001b[0m \u001b[1m0s\u001b[0m 2ms/step - accuracy: 0.8635 - loss: 0.3277 - val_accuracy: 0.8750 - val_loss: 0.3272\nEpoch 78/100\n\u001b[1m225/225\u001b[0m \u001b[32m━━━━━━━━━━━━━━━━━━━━\u001b[0m\u001b[37m\u001b[0m \u001b[1m0s\u001b[0m 2ms/step - accuracy: 0.8677 - loss: 0.3196 - val_accuracy: 0.8675 - val_loss: 0.3284\nEpoch 79/100\n\u001b[1m225/225\u001b[0m \u001b[32m━━━━━━━━━━━━━━━━━━━━\u001b[0m\u001b[37m\u001b[0m \u001b[1m0s\u001b[0m 2ms/step - accuracy: 0.8639 - loss: 0.3262 - val_accuracy: 0.8700 - val_loss: 0.3277\nEpoch 80/100\n\u001b[1m225/225\u001b[0m \u001b[32m━━━━━━━━━━━━━━━━━━━━\u001b[0m\u001b[37m\u001b[0m \u001b[1m0s\u001b[0m 2ms/step - accuracy: 0.8733 - loss: 0.3160 - val_accuracy: 0.8675 - val_loss: 0.3267\nEpoch 81/100\n\u001b[1m225/225\u001b[0m \u001b[32m━━━━━━━━━━━━━━━━━━━━\u001b[0m\u001b[37m\u001b[0m \u001b[1m0s\u001b[0m 2ms/step - accuracy: 0.8691 - loss: 0.3225 - val_accuracy: 0.8662 - val_loss: 0.3272\nEpoch 82/100\n\u001b[1m225/225\u001b[0m \u001b[32m━━━━━━━━━━━━━━━━━━━━\u001b[0m\u001b[37m\u001b[0m \u001b[1m0s\u001b[0m 2ms/step - accuracy: 0.8623 - loss: 0.3260 - val_accuracy: 0.8687 - val_loss: 0.3275\nEpoch 83/100\n\u001b[1m225/225\u001b[0m \u001b[32m━━━━━━━━━━━━━━━━━━━━\u001b[0m\u001b[37m\u001b[0m \u001b[1m0s\u001b[0m 2ms/step - accuracy: 0.8677 - loss: 0.3246 - val_accuracy: 0.8662 - val_loss: 0.3292\nEpoch 84/100\n\u001b[1m225/225\u001b[0m \u001b[32m━━━━━━━━━━━━━━━━━━━━\u001b[0m\u001b[37m\u001b[0m \u001b[1m0s\u001b[0m 2ms/step - accuracy: 0.8645 - loss: 0.3309 - val_accuracy: 0.8637 - val_loss: 0.3280\nEpoch 85/100\n\u001b[1m225/225\u001b[0m \u001b[32m━━━━━━━━━━━━━━━━━━━━\u001b[0m\u001b[37m\u001b[0m \u001b[1m0s\u001b[0m 2ms/step - accuracy: 0.8665 - loss: 0.3255 - val_accuracy: 0.8700 - val_loss: 0.3297\nEpoch 86/100\n\u001b[1m225/225\u001b[0m \u001b[32m━━━━━━━━━━━━━━━━━━━━\u001b[0m\u001b[37m\u001b[0m \u001b[1m0s\u001b[0m 2ms/step - accuracy: 0.8625 - loss: 0.3249 - val_accuracy: 0.8687 - val_loss: 0.3284\nEpoch 87/100\n\u001b[1m225/225\u001b[0m \u001b[32m━━━━━━━━━━━━━━━━━━━━\u001b[0m\u001b[37m\u001b[0m \u001b[1m0s\u001b[0m 2ms/step - accuracy: 0.8713 - loss: 0.3174 - val_accuracy: 0.8687 - val_loss: 0.3284\nEpoch 88/100\n\u001b[1m225/225\u001b[0m \u001b[32m━━━━━━━━━━━━━━━━━━━━\u001b[0m\u001b[37m\u001b[0m \u001b[1m1s\u001b[0m 2ms/step - accuracy: 0.8687 - loss: 0.3249 - val_accuracy: 0.8662 - val_loss: 0.3278\nEpoch 89/100\n\u001b[1m225/225\u001b[0m \u001b[32m━━━━━━━━━━━━━━━━━━━━\u001b[0m\u001b[37m\u001b[0m \u001b[1m0s\u001b[0m 2ms/step - accuracy: 0.8677 - loss: 0.3207 - val_accuracy: 0.8687 - val_loss: 0.3277\nEpoch 90/100\n\u001b[1m225/225\u001b[0m \u001b[32m━━━━━━━━━━━━━━━━━━━━\u001b[0m\u001b[37m\u001b[0m \u001b[1m0s\u001b[0m 2ms/step - accuracy: 0.8764 - loss: 0.3104 - val_accuracy: 0.8700 - val_loss: 0.3270\nEpoch 91/100\n\u001b[1m225/225\u001b[0m \u001b[32m━━━━━━━━━━━━━━━━━━━━\u001b[0m\u001b[37m\u001b[0m \u001b[1m0s\u001b[0m 2ms/step - accuracy: 0.8634 - loss: 0.3240 - val_accuracy: 0.8700 - val_loss: 0.3267\nEpoch 92/100\n\u001b[1m225/225\u001b[0m \u001b[32m━━━━━━━━━━━━━━━━━━━━\u001b[0m\u001b[37m\u001b[0m \u001b[1m0s\u001b[0m 2ms/step - accuracy: 0.8674 - loss: 0.3256 - val_accuracy: 0.8650 - val_loss: 0.3276\nEpoch 93/100\n\u001b[1m225/225\u001b[0m \u001b[32m━━━━━━━━━━━━━━━━━━━━\u001b[0m\u001b[37m\u001b[0m \u001b[1m0s\u001b[0m 2ms/step - accuracy: 0.8717 - loss: 0.3138 - val_accuracy: 0.8675 - val_loss: 0.3278\nEpoch 94/100\n\u001b[1m225/225\u001b[0m \u001b[32m━━━━━━━━━━━━━━━━━━━━\u001b[0m\u001b[37m\u001b[0m \u001b[1m0s\u001b[0m 2ms/step - accuracy: 0.8718 - loss: 0.3146 - val_accuracy: 0.8687 - val_loss: 0.3274\nEpoch 95/100\n\u001b[1m225/225\u001b[0m \u001b[32m━━━━━━━━━━━━━━━━━━━━\u001b[0m\u001b[37m\u001b[0m \u001b[1m1s\u001b[0m 2ms/step - accuracy: 0.8679 - loss: 0.3219 - val_accuracy: 0.8687 - val_loss: 0.3289\nEpoch 96/100\n\u001b[1m225/225\u001b[0m \u001b[32m━━━━━━━━━━━━━━━━━━━━\u001b[0m\u001b[37m\u001b[0m \u001b[1m0s\u001b[0m 2ms/step - accuracy: 0.8678 - loss: 0.3249 - val_accuracy: 0.8687 - val_loss: 0.3301\nEpoch 97/100\n\u001b[1m225/225\u001b[0m \u001b[32m━━━━━━━━━━━━━━━━━━━━\u001b[0m\u001b[37m\u001b[0m \u001b[1m0s\u001b[0m 2ms/step - accuracy: 0.8750 - loss: 0.3091 - val_accuracy: 0.8650 - val_loss: 0.3272\nEpoch 98/100\n\u001b[1m225/225\u001b[0m \u001b[32m━━━━━━━━━━━━━━━━━━━━\u001b[0m\u001b[37m\u001b[0m \u001b[1m0s\u001b[0m 2ms/step - accuracy: 0.8712 - loss: 0.3184 - val_accuracy: 0.8700 - val_loss: 0.3274\nEpoch 99/100\n\u001b[1m225/225\u001b[0m \u001b[32m━━━━━━━━━━━━━━━━━━━━\u001b[0m\u001b[37m\u001b[0m \u001b[1m0s\u001b[0m 2ms/step - accuracy: 0.8667 - loss: 0.3169 - val_accuracy: 0.8650 - val_loss: 0.3278\nEpoch 100/100\n\u001b[1m225/225\u001b[0m \u001b[32m━━━━━━━━━━━━━━━━━━━━\u001b[0m\u001b[37m\u001b[0m \u001b[1m0s\u001b[0m 2ms/step - accuracy: 0.8669 - loss: 0.3284 - val_accuracy: 0.8687 - val_loss: 0.3283\n",
          "output_type": "stream"
        },
        {
          "execution_count": 74,
          "output_type": "execute_result",
          "data": {
            "text/plain": "<keras.src.callbacks.history.History at 0x7960ec0fdea0>"
          },
          "metadata": {}
        }
      ]
    },
    {
      "cell_type": "code",
      "source": [
        "model.layers[0].get_weights()"
      ],
      "metadata": {
        "execution": {
          "iopub.status.busy": "2024-07-08T07:38:18.157233Z",
          "iopub.execute_input": "2024-07-08T07:38:18.157595Z",
          "iopub.status.idle": "2024-07-08T07:38:18.168861Z",
          "shell.execute_reply.started": "2024-07-08T07:38:18.157566Z",
          "shell.execute_reply": "2024-07-08T07:38:18.16762Z"
        },
        "trusted": true,
        "id": "VMEx16dKSb_P",
        "outputId": "a6346ee1-8073-440e-fd83-f17a3bb3ccc2"
      },
      "execution_count": null,
      "outputs": [
        {
          "execution_count": 75,
          "output_type": "execute_result",
          "data": {
            "text/plain": "[array([[ 1.33107379e-01,  2.75409799e-02, -1.53618932e-01,\n         -2.34701440e-01,  2.13676617e-01, -1.25831261e-01,\n          1.93844348e-01, -6.31588027e-02,  1.06295340e-01,\n         -2.55680442e-01, -5.46084762e-01],\n        [ 1.68158457e-01, -2.03073382e-01,  1.22115505e+00,\n          4.53212470e-01,  2.87812538e-02, -3.92112523e-01,\n          3.05613786e-01,  1.30480483e-01,  1.39024243e-01,\n          8.90085399e-01, -4.66178060e-02],\n        [ 1.60182104e-01,  1.06239825e-01, -8.48735645e-02,\n         -2.14181438e-01, -5.95612153e-02, -3.04282475e-02,\n          4.21727508e-01, -5.21374345e-02,  2.27370098e-01,\n         -1.98896170e-01, -4.13561434e-01],\n        [-5.94572246e-01, -2.96394050e-01,  4.78280261e-02,\n         -3.58969271e-01, -2.28268757e-01, -3.36471982e-02,\n          4.13764939e-02,  2.43552729e-01,  9.45370317e-01,\n         -2.39411131e-01, -3.42669368e-01],\n        [-4.32141662e-01,  1.80551855e-04,  6.81068063e-01,\n         -1.08461547e+00, -3.80837321e-01,  2.23258361e-02,\n         -1.07812679e+00,  1.07104504e+00,  1.28690064e-01,\n         -2.26423010e-01, -5.55648267e-01],\n        [ 2.08629072e-01, -4.06561196e-01, -1.71364307e-01,\n          2.17498671e-02, -2.25848496e-01, -2.02103794e-01,\n         -2.30775163e-01, -1.73919111e-01,  2.00137064e-01,\n         -2.64701754e-01, -4.06575315e-02],\n        [ 6.19578004e-01, -6.74623907e-01,  3.36917728e-01,\n         -2.64767200e-01, -2.37942457e-01,  5.35731435e-01,\n         -2.47095019e-01, -7.41555870e-01, -8.16120684e-01,\n          9.06092450e-02, -2.08504498e-01],\n        [ 2.34937504e-01, -6.77819699e-02, -1.61734372e-02,\n         -4.86138798e-02,  6.23621285e-01, -8.92212614e-02,\n         -5.63861988e-03,  2.23507389e-01,  2.07251444e-01,\n          4.99046035e-02,  7.58263990e-02],\n        [-1.50789484e-01, -4.70148265e-01,  3.28042172e-02,\n          2.28524968e-01,  4.53084439e-01, -3.00178707e-01,\n         -2.15370446e-01, -2.28755653e-01, -4.12174553e-01,\n         -1.27803404e-02,  4.17954504e-01],\n        [ 2.53852159e-02, -2.57217497e-01,  1.80538014e-01,\n          1.16840906e-01,  4.27850783e-01,  4.08170149e-02,\n         -2.41531074e-01,  4.84877545e-03, -4.59993333e-01,\n         -3.25966537e-01,  2.24095225e-01],\n        [ 6.22722208e-01,  5.60444519e-02, -3.27625748e-04,\n          4.53678310e-01, -4.41686690e-01,  4.28022891e-01,\n         -5.35839498e-01,  7.63719603e-02, -1.58350736e-01,\n          2.35453807e-02,  6.07739151e-01]], dtype=float32),\n array([ 0.39329952,  0.7620889 , -0.7573615 ,  0.11059827,  0.19184789,\n         0.6079627 , -0.01574842,  0.13291718,  0.27412438, -0.5003173 ,\n         0.46016565], dtype=float32)]"
          },
          "metadata": {}
        }
      ]
    },
    {
      "cell_type": "code",
      "source": [
        "model.layers[1].get_weights()"
      ],
      "metadata": {
        "execution": {
          "iopub.status.busy": "2024-07-08T07:38:18.170618Z",
          "iopub.execute_input": "2024-07-08T07:38:18.171064Z",
          "iopub.status.idle": "2024-07-08T07:38:18.185445Z",
          "shell.execute_reply.started": "2024-07-08T07:38:18.171025Z",
          "shell.execute_reply": "2024-07-08T07:38:18.184074Z"
        },
        "trusted": true,
        "id": "pSExxQMgSb_P",
        "outputId": "b1847fe0-b892-4d69-e26c-6c2d03b6a988"
      },
      "execution_count": null,
      "outputs": [
        {
          "execution_count": 76,
          "output_type": "execute_result",
          "data": {
            "text/plain": "[array([[ 0.07041623, -0.310433  ,  0.02592516,  0.36099112,  0.5581018 ,\n          0.367746  ,  0.416144  , -0.15774734,  0.12756926, -0.14881568,\n         -0.6018231 ],\n        [ 0.2845961 , -0.3023174 ,  0.5795858 , -0.4011167 , -0.21587925,\n          0.33833644, -0.19026603, -0.01764162, -0.12449618, -0.4511206 ,\n         -0.4413852 ],\n        [ 0.5074178 ,  0.21835795, -1.2346942 ,  0.4869943 , -0.4868096 ,\n         -0.64520794, -0.05918842, -0.35058835, -1.0016569 , -0.32034776,\n          0.53176534],\n        [-0.46531895, -0.0884498 , -0.3317087 , -0.39764178, -0.9233828 ,\n         -0.44252473, -0.22797383,  0.4176216 ,  0.75059056,  0.26398844,\n         -0.48932964],\n        [-0.9316163 , -0.36610705,  0.08622919,  0.5445752 ,  0.38441035,\n         -0.02383058,  0.15253928,  0.22896777,  0.47771272,  0.28817979,\n         -0.28954473],\n        [ 0.5913155 ,  0.43546534,  0.2569672 ,  0.18160167, -0.11081462,\n          0.3963897 ,  0.27510703,  0.14346471, -0.23335631,  0.10103809,\n          0.2157437 ],\n        [ 0.48687336, -0.0804211 , -0.02477108, -0.03310017, -1.1908911 ,\n         -0.00742516,  0.11497411,  0.26756018,  0.732271  ,  0.177968  ,\n          0.3149117 ],\n        [-0.39837325,  0.8353781 ,  0.3957261 , -0.14116257, -0.19750784,\n         -0.69028825, -0.12219745,  0.81262815, -0.2401617 ,  0.5096101 ,\n          1.0090128 ],\n        [ 0.2858053 ,  0.6009188 ,  0.24463111,  0.6540356 ,  0.6747503 ,\n          0.48311678,  0.43904117,  0.16249973,  0.19492638,  0.15812272,\n          0.5005051 ],\n        [ 0.3770414 ,  0.08542886, -0.6884301 , -0.09219898,  0.08893368,\n          0.48364803,  0.18544531, -0.00569457, -0.0360736 ,  0.15412326,\n         -0.2646434 ],\n        [-0.30174333, -0.43494698,  0.5436953 , -0.02848498, -0.30891246,\n          0.13537316,  0.44482085,  0.04672139,  0.32933453,  0.1548499 ,\n         -0.33134305]], dtype=float32),\n array([ 0.40810826, -0.06846195,  0.73433053,  0.40577894,  0.1980757 ,\n        -0.34508097,  0.11411956, -0.23770638, -0.06361425, -0.3042361 ,\n        -0.12606421], dtype=float32)]"
          },
          "metadata": {}
        }
      ]
    },
    {
      "cell_type": "code",
      "source": [
        "model.layers[2].get_weights()"
      ],
      "metadata": {
        "execution": {
          "iopub.status.busy": "2024-07-08T07:38:18.186981Z",
          "iopub.execute_input": "2024-07-08T07:38:18.187322Z",
          "iopub.status.idle": "2024-07-08T07:38:18.197221Z",
          "shell.execute_reply.started": "2024-07-08T07:38:18.187287Z",
          "shell.execute_reply": "2024-07-08T07:38:18.195846Z"
        },
        "trusted": true,
        "id": "RH_idn1nSb_Q",
        "outputId": "2192f089-c37b-4bef-c378-51f3a8603515"
      },
      "execution_count": null,
      "outputs": [
        {
          "execution_count": 77,
          "output_type": "execute_result",
          "data": {
            "text/plain": "[array([[-0.6478785 ],\n        [ 0.9120296 ],\n        [-1.3894032 ],\n        [-0.7828624 ],\n        [-0.9915078 ],\n        [ 0.9733746 ],\n        [-0.5759665 ],\n        [ 0.43448752],\n        [ 0.89414316],\n        [ 0.558321  ],\n        [ 0.65214837]], dtype=float32),\n array([-0.1009376], dtype=float32)]"
          },
          "metadata": {}
        }
      ]
    },
    {
      "cell_type": "code",
      "source": [
        "model.predict(x_test_scaled)"
      ],
      "metadata": {
        "execution": {
          "iopub.status.busy": "2024-07-08T07:38:18.198776Z",
          "iopub.execute_input": "2024-07-08T07:38:18.199199Z",
          "iopub.status.idle": "2024-07-08T07:38:18.464559Z",
          "shell.execute_reply.started": "2024-07-08T07:38:18.199139Z",
          "shell.execute_reply": "2024-07-08T07:38:18.463128Z"
        },
        "trusted": true,
        "id": "JUGJ2VJ6Sb_Q",
        "outputId": "104208c3-0129-4ee8-a36d-e5db5697ff34"
      },
      "execution_count": null,
      "outputs": [
        {
          "name": "stdout",
          "text": "\u001b[1m63/63\u001b[0m \u001b[32m━━━━━━━━━━━━━━━━━━━━\u001b[0m\u001b[37m\u001b[0m \u001b[1m0s\u001b[0m 2ms/step\n",
          "output_type": "stream"
        },
        {
          "execution_count": 78,
          "output_type": "execute_result",
          "data": {
            "text/plain": "array([[0.18793473],\n       [0.22378656],\n       [0.18121414],\n       ...,\n       [0.24382675],\n       [0.1430866 ],\n       [0.16904403]], dtype=float32)"
          },
          "metadata": {}
        }
      ]
    },
    {
      "cell_type": "code",
      "source": [
        "threshold=model.predict(x_test_scaled)\n",
        "y_pred=np.where(threshold>0.5,1,0)\n",
        "y_pred"
      ],
      "metadata": {
        "execution": {
          "iopub.status.busy": "2024-07-08T07:38:18.466064Z",
          "iopub.execute_input": "2024-07-08T07:38:18.466536Z",
          "iopub.status.idle": "2024-07-08T07:38:18.651599Z",
          "shell.execute_reply.started": "2024-07-08T07:38:18.466467Z",
          "shell.execute_reply": "2024-07-08T07:38:18.650468Z"
        },
        "trusted": true,
        "id": "fbwxt6fJSb_Q",
        "outputId": "85029eee-97e5-4d0b-e431-8bff0e747508"
      },
      "execution_count": null,
      "outputs": [
        {
          "name": "stdout",
          "text": "\u001b[1m63/63\u001b[0m \u001b[32m━━━━━━━━━━━━━━━━━━━━\u001b[0m\u001b[37m\u001b[0m \u001b[1m0s\u001b[0m 1ms/step\n",
          "output_type": "stream"
        },
        {
          "execution_count": 79,
          "output_type": "execute_result",
          "data": {
            "text/plain": "array([[0],\n       [0],\n       [0],\n       ...,\n       [0],\n       [0],\n       [0]])"
          },
          "metadata": {}
        }
      ]
    },
    {
      "cell_type": "code",
      "source": [
        "from sklearn.metrics import accuracy_score\n",
        "accuracy_score(y_test,y_pred)"
      ],
      "metadata": {
        "execution": {
          "iopub.status.busy": "2024-07-08T07:38:18.652917Z",
          "iopub.execute_input": "2024-07-08T07:38:18.653245Z",
          "iopub.status.idle": "2024-07-08T07:38:18.663073Z",
          "shell.execute_reply.started": "2024-07-08T07:38:18.653218Z",
          "shell.execute_reply": "2024-07-08T07:38:18.661714Z"
        },
        "trusted": true,
        "id": "ms9ikz_KSb_Q",
        "outputId": "82f15384-e8f4-4d3e-ac03-92b90b2857ce"
      },
      "execution_count": null,
      "outputs": [
        {
          "execution_count": 80,
          "output_type": "execute_result",
          "data": {
            "text/plain": "0.855"
          },
          "metadata": {}
        }
      ]
    }
  ]
}