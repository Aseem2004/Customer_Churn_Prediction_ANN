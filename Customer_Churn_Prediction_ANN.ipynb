{
  "metadata": {
    "kernelspec": {
      "language": "python",
      "display_name": "Python 3",
      "name": "python3"
    },
    "language_info": {
      "name": "python",
      "version": "3.10.13",
      "mimetype": "text/x-python",
      "codemirror_mode": {
        "name": "ipython",
        "version": 3
      },
      "pygments_lexer": "ipython3",
      "nbconvert_exporter": "python",
      "file_extension": ".py"
    },
    "kaggle": {
      "accelerator": "none",
      "dataSources": [
        {
          "sourceId": 1481789,
          "sourceType": "datasetVersion",
          "datasetId": 869651
        }
      ],
      "dockerImageVersionId": 30732,
      "isInternetEnabled": true,
      "language": "python",
      "sourceType": "notebook",
      "isGpuEnabled": false
    },
    "colab": {
      "name": "Customer_Churn_Prediction_ANN",
      "provenance": []
    }
  },
  "nbformat_minor": 0,
  "nbformat": 4,
  "cells": [
    {
      "source": [
        "\n",
        "# IMPORTANT: RUN THIS CELL IN ORDER TO IMPORT YOUR KAGGLE DATA SOURCES\n",
        "# TO THE CORRECT LOCATION (/kaggle/input) IN YOUR NOTEBOOK,\n",
        "# THEN FEEL FREE TO DELETE THIS CELL.\n",
        "# NOTE: THIS NOTEBOOK ENVIRONMENT DIFFERS FROM KAGGLE'S PYTHON\n",
        "# ENVIRONMENT SO THERE MAY BE MISSING LIBRARIES USED BY YOUR\n",
        "# NOTEBOOK.\n",
        "\n",
        "import os\n",
        "import sys\n",
        "from tempfile import NamedTemporaryFile\n",
        "from urllib.request import urlopen\n",
        "from urllib.parse import unquote, urlparse\n",
        "from urllib.error import HTTPError\n",
        "from zipfile import ZipFile\n",
        "import tarfile\n",
        "import shutil\n",
        "\n",
        "CHUNK_SIZE = 40960\n",
        "DATA_SOURCE_MAPPING = 'credit-card-customer-churn-prediction:https%3A%2F%2Fstorage.googleapis.com%2Fkaggle-data-sets%2F869651%2F1481789%2Fbundle%2Farchive.zip%3FX-Goog-Algorithm%3DGOOG4-RSA-SHA256%26X-Goog-Credential%3Dgcp-kaggle-com%2540kaggle-161607.iam.gserviceaccount.com%252F20240708%252Fauto%252Fstorage%252Fgoog4_request%26X-Goog-Date%3D20240708T074839Z%26X-Goog-Expires%3D259200%26X-Goog-SignedHeaders%3Dhost%26X-Goog-Signature%3D155d8490be017e10a09ae8d39a6282115ddff42ce728629f8f26225fedc33fb152331f220bebe14336ad39b88e108867224c0e7ad4f8291b5023a15a7ad2ac76d419a58bed56da228ffdc7c5683634b84498519e22b89815a243c51638b5a85f131bf14af8496a6e54ceace9168f1ef7e0400e9bfee0fd9cc4d381fda529440c31470689a1c07b252c8d139adac33f8860f50c0d016705c48044c3758842da90112b63f10f580ffc2d3f6ef22ab9ddeaa65d0c93a2b9e9dd1ba961360dd950f4aac6f3894b78272866575d6df2b05a5ddcf24ee6efedfa9ae503b580fd2ff7ea76952194ecf6ec635ee77013dc34ea73c955e9ddf7a8e81731c1f96eccaf6b3c'\n",
        "\n",
        "KAGGLE_INPUT_PATH='/kaggle/input'\n",
        "KAGGLE_WORKING_PATH='/kaggle/working'\n",
        "KAGGLE_SYMLINK='kaggle'\n",
        "\n",
        "!umount /kaggle/input/ 2> /dev/null\n",
        "shutil.rmtree('/kaggle/input', ignore_errors=True)\n",
        "os.makedirs(KAGGLE_INPUT_PATH, 0o777, exist_ok=True)\n",
        "os.makedirs(KAGGLE_WORKING_PATH, 0o777, exist_ok=True)\n",
        "\n",
        "try:\n",
        "  os.symlink(KAGGLE_INPUT_PATH, os.path.join(\"..\", 'input'), target_is_directory=True)\n",
        "except FileExistsError:\n",
        "  pass\n",
        "try:\n",
        "  os.symlink(KAGGLE_WORKING_PATH, os.path.join(\"..\", 'working'), target_is_directory=True)\n",
        "except FileExistsError:\n",
        "  pass\n",
        "\n",
        "for data_source_mapping in DATA_SOURCE_MAPPING.split(','):\n",
        "    directory, download_url_encoded = data_source_mapping.split(':')\n",
        "    download_url = unquote(download_url_encoded)\n",
        "    filename = urlparse(download_url).path\n",
        "    destination_path = os.path.join(KAGGLE_INPUT_PATH, directory)\n",
        "    try:\n",
        "        with urlopen(download_url) as fileres, NamedTemporaryFile() as tfile:\n",
        "            total_length = fileres.headers['content-length']\n",
        "            print(f'Downloading {directory}, {total_length} bytes compressed')\n",
        "            dl = 0\n",
        "            data = fileres.read(CHUNK_SIZE)\n",
        "            while len(data) > 0:\n",
        "                dl += len(data)\n",
        "                tfile.write(data)\n",
        "                done = int(50 * dl / int(total_length))\n",
        "                sys.stdout.write(f\"\\r[{'=' * done}{' ' * (50-done)}] {dl} bytes downloaded\")\n",
        "                sys.stdout.flush()\n",
        "                data = fileres.read(CHUNK_SIZE)\n",
        "            if filename.endswith('.zip'):\n",
        "              with ZipFile(tfile) as zfile:\n",
        "                zfile.extractall(destination_path)\n",
        "            else:\n",
        "              with tarfile.open(tfile.name) as tarfile:\n",
        "                tarfile.extractall(destination_path)\n",
        "            print(f'\\nDownloaded and uncompressed: {directory}')\n",
        "    except HTTPError as e:\n",
        "        print(f'Failed to load (likely expired) {download_url} to path {destination_path}')\n",
        "        continue\n",
        "    except OSError as e:\n",
        "        print(f'Failed to load {download_url} to path {destination_path}')\n",
        "        continue\n",
        "\n",
        "print('Data source import complete.')\n"
      ],
      "metadata": {
        "id": "aShKFJ2NUONa",
        "outputId": "21eed9e3-6a6b-4b21-d211-35b89038c60c",
        "colab": {
          "base_uri": "https://localhost:8080/"
        }
      },
      "cell_type": "code",
      "outputs": [
        {
          "output_type": "stream",
          "name": "stdout",
          "text": [
            "Downloading credit-card-customer-churn-prediction, 267794 bytes compressed\n",
            "[==================================================] 267794 bytes downloaded\n",
            "Downloaded and uncompressed: credit-card-customer-churn-prediction\n",
            "Data source import complete.\n"
          ]
        }
      ],
      "execution_count": 1
    },
    {
      "cell_type": "code",
      "source": [
        "# This Python 3 environment comes with many helpful analytics libraries installed\n",
        "# It is defined by the kaggle/python Docker image: https://github.com/kaggle/docker-python\n",
        "# For example, here's several helpful packages to load\n",
        "\n",
        "import numpy as np # linear algebra\n",
        "import pandas as pd # data processing, CSV file I/O (e.g. pd.read_csv)\n",
        "\n",
        "# Input data files are available in the read-only \"../input/\" directory\n",
        "# For example, running this (by clicking run or pressing Shift+Enter) will list all files under the input directory\n",
        "\n",
        "import os\n",
        "for dirname, _, filenames in os.walk('/kaggle/input'):\n",
        "    for filename in filenames:\n",
        "        print(os.path.join(dirname, filename))\n",
        "\n",
        "# You can write up to 20GB to the current directory (/kaggle/working/) that gets preserved as output when you create a version using \"Save & Run All\"\n",
        "# You can also write temporary files to /kaggle/temp/, but they won't be saved outside of the current session"
      ],
      "metadata": {
        "_uuid": "8f2839f25d086af736a60e9eeb907d3b93b6e0e5",
        "_cell_guid": "b1076dfc-b9ad-4769-8c92-a6c4dae69d19",
        "execution": {
          "iopub.status.busy": "2024-07-08T07:47:17.170704Z",
          "iopub.execute_input": "2024-07-08T07:47:17.171118Z",
          "iopub.status.idle": "2024-07-08T07:47:17.184387Z",
          "shell.execute_reply.started": "2024-07-08T07:47:17.171089Z",
          "shell.execute_reply": "2024-07-08T07:47:17.183114Z"
        },
        "trusted": true,
        "id": "EUngmmxjUONc",
        "outputId": "eb8b7ea3-d5ec-456c-e795-c8ebbd06c840",
        "colab": {
          "base_uri": "https://localhost:8080/"
        }
      },
      "execution_count": 2,
      "outputs": [
        {
          "output_type": "stream",
          "name": "stdout",
          "text": [
            "/kaggle/input/credit-card-customer-churn-prediction/Churn_Modelling.csv\n"
          ]
        }
      ]
    },
    {
      "cell_type": "code",
      "source": [
        "df = pd.read_csv('/kaggle/input/credit-card-customer-churn-prediction/Churn_Modelling.csv')"
      ],
      "metadata": {
        "execution": {
          "iopub.status.busy": "2024-07-08T07:47:17.187135Z",
          "iopub.execute_input": "2024-07-08T07:47:17.187646Z",
          "iopub.status.idle": "2024-07-08T07:47:17.22332Z",
          "shell.execute_reply.started": "2024-07-08T07:47:17.187604Z",
          "shell.execute_reply": "2024-07-08T07:47:17.222081Z"
        },
        "trusted": true,
        "id": "laVynQvCUONd"
      },
      "execution_count": 3,
      "outputs": []
    },
    {
      "cell_type": "code",
      "source": [
        "df.head()"
      ],
      "metadata": {
        "execution": {
          "iopub.status.busy": "2024-07-08T07:47:17.22495Z",
          "iopub.execute_input": "2024-07-08T07:47:17.225423Z",
          "iopub.status.idle": "2024-07-08T07:47:17.246074Z",
          "shell.execute_reply.started": "2024-07-08T07:47:17.225381Z",
          "shell.execute_reply": "2024-07-08T07:47:17.244571Z"
        },
        "trusted": true,
        "id": "q1GuwSh5UONd",
        "outputId": "fc0540b8-b58e-49b3-b8c6-b39b16a7d9ee"
      },
      "execution_count": null,
      "outputs": [
        {
          "execution_count": 92,
          "output_type": "execute_result",
          "data": {
            "text/plain": "   RowNumber  CustomerId   Surname  CreditScore Geography  Gender  Age  \\\n0          1    15634602  Hargrave          619    France  Female   42   \n1          2    15647311      Hill          608     Spain  Female   41   \n2          3    15619304      Onio          502    France  Female   42   \n3          4    15701354      Boni          699    France  Female   39   \n4          5    15737888  Mitchell          850     Spain  Female   43   \n\n   Tenure    Balance  NumOfProducts  HasCrCard  IsActiveMember  \\\n0       2       0.00              1          1               1   \n1       1   83807.86              1          0               1   \n2       8  159660.80              3          1               0   \n3       1       0.00              2          0               0   \n4       2  125510.82              1          1               1   \n\n   EstimatedSalary  Exited  \n0        101348.88       1  \n1        112542.58       0  \n2        113931.57       1  \n3         93826.63       0  \n4         79084.10       0  ",
            "text/html": "<div>\n<style scoped>\n    .dataframe tbody tr th:only-of-type {\n        vertical-align: middle;\n    }\n\n    .dataframe tbody tr th {\n        vertical-align: top;\n    }\n\n    .dataframe thead th {\n        text-align: right;\n    }\n</style>\n<table border=\"1\" class=\"dataframe\">\n  <thead>\n    <tr style=\"text-align: right;\">\n      <th></th>\n      <th>RowNumber</th>\n      <th>CustomerId</th>\n      <th>Surname</th>\n      <th>CreditScore</th>\n      <th>Geography</th>\n      <th>Gender</th>\n      <th>Age</th>\n      <th>Tenure</th>\n      <th>Balance</th>\n      <th>NumOfProducts</th>\n      <th>HasCrCard</th>\n      <th>IsActiveMember</th>\n      <th>EstimatedSalary</th>\n      <th>Exited</th>\n    </tr>\n  </thead>\n  <tbody>\n    <tr>\n      <th>0</th>\n      <td>1</td>\n      <td>15634602</td>\n      <td>Hargrave</td>\n      <td>619</td>\n      <td>France</td>\n      <td>Female</td>\n      <td>42</td>\n      <td>2</td>\n      <td>0.00</td>\n      <td>1</td>\n      <td>1</td>\n      <td>1</td>\n      <td>101348.88</td>\n      <td>1</td>\n    </tr>\n    <tr>\n      <th>1</th>\n      <td>2</td>\n      <td>15647311</td>\n      <td>Hill</td>\n      <td>608</td>\n      <td>Spain</td>\n      <td>Female</td>\n      <td>41</td>\n      <td>1</td>\n      <td>83807.86</td>\n      <td>1</td>\n      <td>0</td>\n      <td>1</td>\n      <td>112542.58</td>\n      <td>0</td>\n    </tr>\n    <tr>\n      <th>2</th>\n      <td>3</td>\n      <td>15619304</td>\n      <td>Onio</td>\n      <td>502</td>\n      <td>France</td>\n      <td>Female</td>\n      <td>42</td>\n      <td>8</td>\n      <td>159660.80</td>\n      <td>3</td>\n      <td>1</td>\n      <td>0</td>\n      <td>113931.57</td>\n      <td>1</td>\n    </tr>\n    <tr>\n      <th>3</th>\n      <td>4</td>\n      <td>15701354</td>\n      <td>Boni</td>\n      <td>699</td>\n      <td>France</td>\n      <td>Female</td>\n      <td>39</td>\n      <td>1</td>\n      <td>0.00</td>\n      <td>2</td>\n      <td>0</td>\n      <td>0</td>\n      <td>93826.63</td>\n      <td>0</td>\n    </tr>\n    <tr>\n      <th>4</th>\n      <td>5</td>\n      <td>15737888</td>\n      <td>Mitchell</td>\n      <td>850</td>\n      <td>Spain</td>\n      <td>Female</td>\n      <td>43</td>\n      <td>2</td>\n      <td>125510.82</td>\n      <td>1</td>\n      <td>1</td>\n      <td>1</td>\n      <td>79084.10</td>\n      <td>0</td>\n    </tr>\n  </tbody>\n</table>\n</div>"
          },
          "metadata": {}
        }
      ]
    },
    {
      "cell_type": "code",
      "source": [
        "df.drop(columns = ['RowNumber','CustomerId','Surname'],inplace=True)"
      ],
      "metadata": {
        "execution": {
          "iopub.status.busy": "2024-07-08T07:47:17.247757Z",
          "iopub.execute_input": "2024-07-08T07:47:17.248684Z",
          "iopub.status.idle": "2024-07-08T07:47:17.259217Z",
          "shell.execute_reply.started": "2024-07-08T07:47:17.248646Z",
          "shell.execute_reply": "2024-07-08T07:47:17.257976Z"
        },
        "trusted": true,
        "id": "XGqlTgFMUONe"
      },
      "execution_count": null,
      "outputs": []
    },
    {
      "cell_type": "code",
      "source": [
        "df.head()"
      ],
      "metadata": {
        "execution": {
          "iopub.status.busy": "2024-07-08T07:47:17.262714Z",
          "iopub.execute_input": "2024-07-08T07:47:17.263088Z",
          "iopub.status.idle": "2024-07-08T07:47:17.286039Z",
          "shell.execute_reply.started": "2024-07-08T07:47:17.263056Z",
          "shell.execute_reply": "2024-07-08T07:47:17.284676Z"
        },
        "trusted": true,
        "id": "m3Bn8bbAUONe",
        "outputId": "24ddf877-50ab-4255-f46d-66539b59f254"
      },
      "execution_count": null,
      "outputs": [
        {
          "execution_count": 94,
          "output_type": "execute_result",
          "data": {
            "text/plain": "   CreditScore Geography  Gender  Age  Tenure    Balance  NumOfProducts  \\\n0          619    France  Female   42       2       0.00              1   \n1          608     Spain  Female   41       1   83807.86              1   \n2          502    France  Female   42       8  159660.80              3   \n3          699    France  Female   39       1       0.00              2   \n4          850     Spain  Female   43       2  125510.82              1   \n\n   HasCrCard  IsActiveMember  EstimatedSalary  Exited  \n0          1               1        101348.88       1  \n1          0               1        112542.58       0  \n2          1               0        113931.57       1  \n3          0               0         93826.63       0  \n4          1               1         79084.10       0  ",
            "text/html": "<div>\n<style scoped>\n    .dataframe tbody tr th:only-of-type {\n        vertical-align: middle;\n    }\n\n    .dataframe tbody tr th {\n        vertical-align: top;\n    }\n\n    .dataframe thead th {\n        text-align: right;\n    }\n</style>\n<table border=\"1\" class=\"dataframe\">\n  <thead>\n    <tr style=\"text-align: right;\">\n      <th></th>\n      <th>CreditScore</th>\n      <th>Geography</th>\n      <th>Gender</th>\n      <th>Age</th>\n      <th>Tenure</th>\n      <th>Balance</th>\n      <th>NumOfProducts</th>\n      <th>HasCrCard</th>\n      <th>IsActiveMember</th>\n      <th>EstimatedSalary</th>\n      <th>Exited</th>\n    </tr>\n  </thead>\n  <tbody>\n    <tr>\n      <th>0</th>\n      <td>619</td>\n      <td>France</td>\n      <td>Female</td>\n      <td>42</td>\n      <td>2</td>\n      <td>0.00</td>\n      <td>1</td>\n      <td>1</td>\n      <td>1</td>\n      <td>101348.88</td>\n      <td>1</td>\n    </tr>\n    <tr>\n      <th>1</th>\n      <td>608</td>\n      <td>Spain</td>\n      <td>Female</td>\n      <td>41</td>\n      <td>1</td>\n      <td>83807.86</td>\n      <td>1</td>\n      <td>0</td>\n      <td>1</td>\n      <td>112542.58</td>\n      <td>0</td>\n    </tr>\n    <tr>\n      <th>2</th>\n      <td>502</td>\n      <td>France</td>\n      <td>Female</td>\n      <td>42</td>\n      <td>8</td>\n      <td>159660.80</td>\n      <td>3</td>\n      <td>1</td>\n      <td>0</td>\n      <td>113931.57</td>\n      <td>1</td>\n    </tr>\n    <tr>\n      <th>3</th>\n      <td>699</td>\n      <td>France</td>\n      <td>Female</td>\n      <td>39</td>\n      <td>1</td>\n      <td>0.00</td>\n      <td>2</td>\n      <td>0</td>\n      <td>0</td>\n      <td>93826.63</td>\n      <td>0</td>\n    </tr>\n    <tr>\n      <th>4</th>\n      <td>850</td>\n      <td>Spain</td>\n      <td>Female</td>\n      <td>43</td>\n      <td>2</td>\n      <td>125510.82</td>\n      <td>1</td>\n      <td>1</td>\n      <td>1</td>\n      <td>79084.10</td>\n      <td>0</td>\n    </tr>\n  </tbody>\n</table>\n</div>"
          },
          "metadata": {}
        }
      ]
    },
    {
      "cell_type": "code",
      "source": [
        "df['Geography'].value_counts()\n"
      ],
      "metadata": {
        "execution": {
          "iopub.status.busy": "2024-07-08T07:47:17.287598Z",
          "iopub.execute_input": "2024-07-08T07:47:17.288036Z",
          "iopub.status.idle": "2024-07-08T07:47:17.302793Z",
          "shell.execute_reply.started": "2024-07-08T07:47:17.287994Z",
          "shell.execute_reply": "2024-07-08T07:47:17.301575Z"
        },
        "trusted": true,
        "id": "gyj1NKa8UONe",
        "outputId": "0b3bc428-2daa-487e-bbcf-28beeafebe6d"
      },
      "execution_count": null,
      "outputs": [
        {
          "execution_count": 95,
          "output_type": "execute_result",
          "data": {
            "text/plain": "Geography\nFrance     5014\nGermany    2509\nSpain      2477\nName: count, dtype: int64"
          },
          "metadata": {}
        }
      ]
    },
    {
      "cell_type": "code",
      "source": [
        "df['Gender'].value_counts()\n"
      ],
      "metadata": {
        "execution": {
          "iopub.status.busy": "2024-07-08T07:47:17.304757Z",
          "iopub.execute_input": "2024-07-08T07:47:17.30512Z",
          "iopub.status.idle": "2024-07-08T07:47:17.328368Z",
          "shell.execute_reply.started": "2024-07-08T07:47:17.30509Z",
          "shell.execute_reply": "2024-07-08T07:47:17.327081Z"
        },
        "trusted": true,
        "id": "0x3gQfT6UONe",
        "outputId": "4130d34f-65a3-458d-a541-213cd22a1547"
      },
      "execution_count": null,
      "outputs": [
        {
          "execution_count": 96,
          "output_type": "execute_result",
          "data": {
            "text/plain": "Gender\nMale      5457\nFemale    4543\nName: count, dtype: int64"
          },
          "metadata": {}
        }
      ]
    },
    {
      "cell_type": "code",
      "source": [
        "df = pd.get_dummies(df,columns=['Geography','Gender'],drop_first=True, dtype='int')"
      ],
      "metadata": {
        "execution": {
          "iopub.status.busy": "2024-07-08T07:47:17.329885Z",
          "iopub.execute_input": "2024-07-08T07:47:17.330375Z",
          "iopub.status.idle": "2024-07-08T07:47:17.348724Z",
          "shell.execute_reply.started": "2024-07-08T07:47:17.330331Z",
          "shell.execute_reply": "2024-07-08T07:47:17.347297Z"
        },
        "trusted": true,
        "id": "I-5JXqprUONe"
      },
      "execution_count": null,
      "outputs": []
    },
    {
      "cell_type": "code",
      "source": [
        "df.head()"
      ],
      "metadata": {
        "execution": {
          "iopub.status.busy": "2024-07-08T07:47:17.350496Z",
          "iopub.execute_input": "2024-07-08T07:47:17.351029Z",
          "iopub.status.idle": "2024-07-08T07:47:17.368358Z",
          "shell.execute_reply.started": "2024-07-08T07:47:17.350993Z",
          "shell.execute_reply": "2024-07-08T07:47:17.367058Z"
        },
        "trusted": true,
        "id": "6qlBvKzIUONf",
        "outputId": "6b9f62e4-e2b4-4624-cde3-e4d4123747ca"
      },
      "execution_count": null,
      "outputs": [
        {
          "execution_count": 98,
          "output_type": "execute_result",
          "data": {
            "text/plain": "   CreditScore  Age  Tenure    Balance  NumOfProducts  HasCrCard  \\\n0          619   42       2       0.00              1          1   \n1          608   41       1   83807.86              1          0   \n2          502   42       8  159660.80              3          1   \n3          699   39       1       0.00              2          0   \n4          850   43       2  125510.82              1          1   \n\n   IsActiveMember  EstimatedSalary  Exited  Geography_Germany  \\\n0               1        101348.88       1                  0   \n1               1        112542.58       0                  0   \n2               0        113931.57       1                  0   \n3               0         93826.63       0                  0   \n4               1         79084.10       0                  0   \n\n   Geography_Spain  Gender_Male  \n0                0            0  \n1                1            0  \n2                0            0  \n3                0            0  \n4                1            0  ",
            "text/html": "<div>\n<style scoped>\n    .dataframe tbody tr th:only-of-type {\n        vertical-align: middle;\n    }\n\n    .dataframe tbody tr th {\n        vertical-align: top;\n    }\n\n    .dataframe thead th {\n        text-align: right;\n    }\n</style>\n<table border=\"1\" class=\"dataframe\">\n  <thead>\n    <tr style=\"text-align: right;\">\n      <th></th>\n      <th>CreditScore</th>\n      <th>Age</th>\n      <th>Tenure</th>\n      <th>Balance</th>\n      <th>NumOfProducts</th>\n      <th>HasCrCard</th>\n      <th>IsActiveMember</th>\n      <th>EstimatedSalary</th>\n      <th>Exited</th>\n      <th>Geography_Germany</th>\n      <th>Geography_Spain</th>\n      <th>Gender_Male</th>\n    </tr>\n  </thead>\n  <tbody>\n    <tr>\n      <th>0</th>\n      <td>619</td>\n      <td>42</td>\n      <td>2</td>\n      <td>0.00</td>\n      <td>1</td>\n      <td>1</td>\n      <td>1</td>\n      <td>101348.88</td>\n      <td>1</td>\n      <td>0</td>\n      <td>0</td>\n      <td>0</td>\n    </tr>\n    <tr>\n      <th>1</th>\n      <td>608</td>\n      <td>41</td>\n      <td>1</td>\n      <td>83807.86</td>\n      <td>1</td>\n      <td>0</td>\n      <td>1</td>\n      <td>112542.58</td>\n      <td>0</td>\n      <td>0</td>\n      <td>1</td>\n      <td>0</td>\n    </tr>\n    <tr>\n      <th>2</th>\n      <td>502</td>\n      <td>42</td>\n      <td>8</td>\n      <td>159660.80</td>\n      <td>3</td>\n      <td>1</td>\n      <td>0</td>\n      <td>113931.57</td>\n      <td>1</td>\n      <td>0</td>\n      <td>0</td>\n      <td>0</td>\n    </tr>\n    <tr>\n      <th>3</th>\n      <td>699</td>\n      <td>39</td>\n      <td>1</td>\n      <td>0.00</td>\n      <td>2</td>\n      <td>0</td>\n      <td>0</td>\n      <td>93826.63</td>\n      <td>0</td>\n      <td>0</td>\n      <td>0</td>\n      <td>0</td>\n    </tr>\n    <tr>\n      <th>4</th>\n      <td>850</td>\n      <td>43</td>\n      <td>2</td>\n      <td>125510.82</td>\n      <td>1</td>\n      <td>1</td>\n      <td>1</td>\n      <td>79084.10</td>\n      <td>0</td>\n      <td>0</td>\n      <td>1</td>\n      <td>0</td>\n    </tr>\n  </tbody>\n</table>\n</div>"
          },
          "metadata": {}
        }
      ]
    },
    {
      "cell_type": "code",
      "source": [
        "x=df.drop(columns=['Exited'])\n",
        "y=df['Exited'].values\n",
        "\n",
        "from sklearn.model_selection import train_test_split\n",
        "x_train,x_test,y_train,y_test=train_test_split(x,y,test_size=0.2,random_state=0)"
      ],
      "metadata": {
        "execution": {
          "iopub.status.busy": "2024-07-08T07:47:17.383802Z",
          "iopub.execute_input": "2024-07-08T07:47:17.384335Z",
          "iopub.status.idle": "2024-07-08T07:47:17.396747Z",
          "shell.execute_reply.started": "2024-07-08T07:47:17.384302Z",
          "shell.execute_reply": "2024-07-08T07:47:17.395436Z"
        },
        "trusted": true,
        "id": "Qu9zYvO_UONf"
      },
      "execution_count": null,
      "outputs": []
    },
    {
      "cell_type": "code",
      "source": [
        "x_train.shape"
      ],
      "metadata": {
        "execution": {
          "iopub.status.busy": "2024-07-08T07:47:17.399141Z",
          "iopub.execute_input": "2024-07-08T07:47:17.399472Z",
          "iopub.status.idle": "2024-07-08T07:47:17.408046Z",
          "shell.execute_reply.started": "2024-07-08T07:47:17.399444Z",
          "shell.execute_reply": "2024-07-08T07:47:17.40669Z"
        },
        "trusted": true,
        "id": "DjxVHj9jUONf",
        "outputId": "a320163a-ad74-406b-84ee-803169f2580c"
      },
      "execution_count": null,
      "outputs": [
        {
          "execution_count": 100,
          "output_type": "execute_result",
          "data": {
            "text/plain": "(8000, 11)"
          },
          "metadata": {}
        }
      ]
    },
    {
      "cell_type": "code",
      "source": [
        "from sklearn.preprocessing import StandardScaler\n",
        "scaler=StandardScaler()\n",
        "\n",
        "x_train_scaled=scaler.fit_transform(x_train)\n",
        "x_test_scaled=scaler.transform(x_test)\n"
      ],
      "metadata": {
        "execution": {
          "iopub.status.busy": "2024-07-08T07:47:17.40971Z",
          "iopub.execute_input": "2024-07-08T07:47:17.410147Z",
          "iopub.status.idle": "2024-07-08T07:47:17.431031Z",
          "shell.execute_reply.started": "2024-07-08T07:47:17.410106Z",
          "shell.execute_reply": "2024-07-08T07:47:17.429685Z"
        },
        "trusted": true,
        "id": "GlgNYc2MUONf"
      },
      "execution_count": null,
      "outputs": []
    },
    {
      "cell_type": "code",
      "source": [
        "x_train_scaled"
      ],
      "metadata": {
        "execution": {
          "iopub.status.busy": "2024-07-08T07:47:17.432525Z",
          "iopub.execute_input": "2024-07-08T07:47:17.432965Z",
          "iopub.status.idle": "2024-07-08T07:47:17.442004Z",
          "shell.execute_reply.started": "2024-07-08T07:47:17.432921Z",
          "shell.execute_reply": "2024-07-08T07:47:17.440556Z"
        },
        "trusted": true,
        "id": "LFOdslsLUONf",
        "outputId": "b26955a1-9068-46c5-8f89-3f3b5f452a94"
      },
      "execution_count": null,
      "outputs": [
        {
          "execution_count": 102,
          "output_type": "execute_result",
          "data": {
            "text/plain": "array([[ 0.16958176, -0.46460796,  0.00666099, ..., -0.5698444 ,\n         1.74309049, -1.09168714],\n       [-2.30455945,  0.30102557, -1.37744033, ...,  1.75486502,\n        -0.57369368,  0.91601335],\n       [-1.19119591, -0.94312892, -1.031415  , ..., -0.5698444 ,\n        -0.57369368, -1.09168714],\n       ...,\n       [ 0.9015152 , -0.36890377,  0.00666099, ..., -0.5698444 ,\n        -0.57369368,  0.91601335],\n       [-0.62420521, -0.08179119,  1.39076231, ..., -0.5698444 ,\n         1.74309049, -1.09168714],\n       [-0.28401079,  0.87525072, -1.37744033, ...,  1.75486502,\n        -0.57369368, -1.09168714]])"
          },
          "metadata": {}
        }
      ]
    },
    {
      "cell_type": "code",
      "source": [
        "x_test_scaled"
      ],
      "metadata": {
        "execution": {
          "iopub.status.busy": "2024-07-08T07:47:17.445058Z",
          "iopub.execute_input": "2024-07-08T07:47:17.445428Z",
          "iopub.status.idle": "2024-07-08T07:47:17.457699Z",
          "shell.execute_reply.started": "2024-07-08T07:47:17.445389Z",
          "shell.execute_reply": "2024-07-08T07:47:17.45642Z"
        },
        "trusted": true,
        "id": "phFxcvyGUONf",
        "outputId": "bea04901-3145-4548-e3fb-2c9d38cac75c"
      },
      "execution_count": null,
      "outputs": [
        {
          "execution_count": 103,
          "output_type": "execute_result",
          "data": {
            "text/plain": "array([[-0.55204276, -0.36890377,  1.04473698, ...,  1.75486502,\n        -0.57369368, -1.09168714],\n       [-1.31490297,  0.10961719, -1.031415  , ..., -0.5698444 ,\n        -0.57369368, -1.09168714],\n       [ 0.57162971,  0.30102557,  1.04473698, ..., -0.5698444 ,\n         1.74309049, -1.09168714],\n       ...,\n       [-0.74791227, -0.27319958, -1.37744033, ..., -0.5698444 ,\n         1.74309049,  0.91601335],\n       [-0.00566991, -0.46460796, -0.33936434, ...,  1.75486502,\n        -0.57369368,  0.91601335],\n       [-0.79945688, -0.84742473,  1.04473698, ...,  1.75486502,\n        -0.57369368,  0.91601335]])"
          },
          "metadata": {}
        }
      ]
    },
    {
      "cell_type": "code",
      "source": [
        "import tensorflow\n",
        "from tensorflow import keras\n",
        "from tensorflow.keras import Sequential\n",
        "from tensorflow.keras.layers import Dense"
      ],
      "metadata": {
        "execution": {
          "iopub.status.busy": "2024-07-08T07:47:17.459133Z",
          "iopub.execute_input": "2024-07-08T07:47:17.459558Z",
          "iopub.status.idle": "2024-07-08T07:47:17.471874Z",
          "shell.execute_reply.started": "2024-07-08T07:47:17.459519Z",
          "shell.execute_reply": "2024-07-08T07:47:17.470638Z"
        },
        "trusted": true,
        "id": "JM-U5rZVUONg"
      },
      "execution_count": null,
      "outputs": []
    },
    {
      "cell_type": "code",
      "source": [
        "model=Sequential()\n",
        "\n",
        "model.add(Dense(11,activation='sigmoid',input_dim=11))\n",
        "model.add(Dense(11,activation='sigmoid'))\n",
        "model.add(Dense(1,activation='sigmoid'))"
      ],
      "metadata": {
        "execution": {
          "iopub.status.busy": "2024-07-08T07:47:17.473237Z",
          "iopub.execute_input": "2024-07-08T07:47:17.473637Z",
          "iopub.status.idle": "2024-07-08T07:47:17.52475Z",
          "shell.execute_reply.started": "2024-07-08T07:47:17.473606Z",
          "shell.execute_reply": "2024-07-08T07:47:17.523548Z"
        },
        "trusted": true,
        "id": "Qx0_6ULQUONg",
        "outputId": "dc8743be-5d59-40c7-9047-4fad64f38b88"
      },
      "execution_count": null,
      "outputs": [
        {
          "name": "stderr",
          "text": "/opt/conda/lib/python3.10/site-packages/keras/src/layers/core/dense.py:87: UserWarning: Do not pass an `input_shape`/`input_dim` argument to a layer. When using Sequential models, prefer using an `Input(shape)` object as the first layer in the model instead.\n  super().__init__(activity_regularizer=activity_regularizer, **kwargs)\n",
          "output_type": "stream"
        }
      ]
    },
    {
      "cell_type": "code",
      "source": [
        "model.summary()"
      ],
      "metadata": {
        "execution": {
          "iopub.status.busy": "2024-07-08T07:47:17.526004Z",
          "iopub.execute_input": "2024-07-08T07:47:17.526326Z",
          "iopub.status.idle": "2024-07-08T07:47:17.5487Z",
          "shell.execute_reply.started": "2024-07-08T07:47:17.526299Z",
          "shell.execute_reply": "2024-07-08T07:47:17.547493Z"
        },
        "trusted": true,
        "id": "XrTJ1YiLUONg",
        "outputId": "d8eab2e1-1921-4c49-f066-b1cc391896a5"
      },
      "execution_count": null,
      "outputs": [
        {
          "output_type": "display_data",
          "data": {
            "text/plain": "\u001b[1mModel: \"sequential_4\"\u001b[0m\n",
            "text/html": "<pre style=\"white-space:pre;overflow-x:auto;line-height:normal;font-family:Menlo,'DejaVu Sans Mono',consolas,'Courier New',monospace\"><span style=\"font-weight: bold\">Model: \"sequential_4\"</span>\n</pre>\n"
          },
          "metadata": {}
        },
        {
          "output_type": "display_data",
          "data": {
            "text/plain": "┏━━━━━━━━━━━━━━━━━━━━━━━━━━━━━━━━━┳━━━━━━━━━━━━━━━━━━━━━━━━┳━━━━━━━━━━━━━━━┓\n┃\u001b[1m \u001b[0m\u001b[1mLayer (type)                   \u001b[0m\u001b[1m \u001b[0m┃\u001b[1m \u001b[0m\u001b[1mOutput Shape          \u001b[0m\u001b[1m \u001b[0m┃\u001b[1m \u001b[0m\u001b[1m      Param #\u001b[0m\u001b[1m \u001b[0m┃\n┡━━━━━━━━━━━━━━━━━━━━━━━━━━━━━━━━━╇━━━━━━━━━━━━━━━━━━━━━━━━╇━━━━━━━━━━━━━━━┩\n│ dense_11 (\u001b[38;5;33mDense\u001b[0m)                │ (\u001b[38;5;45mNone\u001b[0m, \u001b[38;5;34m11\u001b[0m)             │           \u001b[38;5;34m132\u001b[0m │\n├─────────────────────────────────┼────────────────────────┼───────────────┤\n│ dense_12 (\u001b[38;5;33mDense\u001b[0m)                │ (\u001b[38;5;45mNone\u001b[0m, \u001b[38;5;34m11\u001b[0m)             │           \u001b[38;5;34m132\u001b[0m │\n├─────────────────────────────────┼────────────────────────┼───────────────┤\n│ dense_13 (\u001b[38;5;33mDense\u001b[0m)                │ (\u001b[38;5;45mNone\u001b[0m, \u001b[38;5;34m1\u001b[0m)              │            \u001b[38;5;34m12\u001b[0m │\n└─────────────────────────────────┴────────────────────────┴───────────────┘\n",
            "text/html": "<pre style=\"white-space:pre;overflow-x:auto;line-height:normal;font-family:Menlo,'DejaVu Sans Mono',consolas,'Courier New',monospace\">┏━━━━━━━━━━━━━━━━━━━━━━━━━━━━━━━━━┳━━━━━━━━━━━━━━━━━━━━━━━━┳━━━━━━━━━━━━━━━┓\n┃<span style=\"font-weight: bold\"> Layer (type)                    </span>┃<span style=\"font-weight: bold\"> Output Shape           </span>┃<span style=\"font-weight: bold\">       Param # </span>┃\n┡━━━━━━━━━━━━━━━━━━━━━━━━━━━━━━━━━╇━━━━━━━━━━━━━━━━━━━━━━━━╇━━━━━━━━━━━━━━━┩\n│ dense_11 (<span style=\"color: #0087ff; text-decoration-color: #0087ff\">Dense</span>)                │ (<span style=\"color: #00d7ff; text-decoration-color: #00d7ff\">None</span>, <span style=\"color: #00af00; text-decoration-color: #00af00\">11</span>)             │           <span style=\"color: #00af00; text-decoration-color: #00af00\">132</span> │\n├─────────────────────────────────┼────────────────────────┼───────────────┤\n│ dense_12 (<span style=\"color: #0087ff; text-decoration-color: #0087ff\">Dense</span>)                │ (<span style=\"color: #00d7ff; text-decoration-color: #00d7ff\">None</span>, <span style=\"color: #00af00; text-decoration-color: #00af00\">11</span>)             │           <span style=\"color: #00af00; text-decoration-color: #00af00\">132</span> │\n├─────────────────────────────────┼────────────────────────┼───────────────┤\n│ dense_13 (<span style=\"color: #0087ff; text-decoration-color: #0087ff\">Dense</span>)                │ (<span style=\"color: #00d7ff; text-decoration-color: #00d7ff\">None</span>, <span style=\"color: #00af00; text-decoration-color: #00af00\">1</span>)              │            <span style=\"color: #00af00; text-decoration-color: #00af00\">12</span> │\n└─────────────────────────────────┴────────────────────────┴───────────────┘\n</pre>\n"
          },
          "metadata": {}
        },
        {
          "output_type": "display_data",
          "data": {
            "text/plain": "\u001b[1m Total params: \u001b[0m\u001b[38;5;34m276\u001b[0m (1.08 KB)\n",
            "text/html": "<pre style=\"white-space:pre;overflow-x:auto;line-height:normal;font-family:Menlo,'DejaVu Sans Mono',consolas,'Courier New',monospace\"><span style=\"font-weight: bold\"> Total params: </span><span style=\"color: #00af00; text-decoration-color: #00af00\">276</span> (1.08 KB)\n</pre>\n"
          },
          "metadata": {}
        },
        {
          "output_type": "display_data",
          "data": {
            "text/plain": "\u001b[1m Trainable params: \u001b[0m\u001b[38;5;34m276\u001b[0m (1.08 KB)\n",
            "text/html": "<pre style=\"white-space:pre;overflow-x:auto;line-height:normal;font-family:Menlo,'DejaVu Sans Mono',consolas,'Courier New',monospace\"><span style=\"font-weight: bold\"> Trainable params: </span><span style=\"color: #00af00; text-decoration-color: #00af00\">276</span> (1.08 KB)\n</pre>\n"
          },
          "metadata": {}
        },
        {
          "output_type": "display_data",
          "data": {
            "text/plain": "\u001b[1m Non-trainable params: \u001b[0m\u001b[38;5;34m0\u001b[0m (0.00 B)\n",
            "text/html": "<pre style=\"white-space:pre;overflow-x:auto;line-height:normal;font-family:Menlo,'DejaVu Sans Mono',consolas,'Courier New',monospace\"><span style=\"font-weight: bold\"> Non-trainable params: </span><span style=\"color: #00af00; text-decoration-color: #00af00\">0</span> (0.00 B)\n</pre>\n"
          },
          "metadata": {}
        }
      ]
    },
    {
      "cell_type": "code",
      "source": [
        "model.compile(loss='binary_crossentropy', optimizer='Adam', metrics=['accuracy'])"
      ],
      "metadata": {
        "execution": {
          "iopub.status.busy": "2024-07-08T07:47:17.550519Z",
          "iopub.execute_input": "2024-07-08T07:47:17.550889Z",
          "iopub.status.idle": "2024-07-08T07:47:17.561783Z",
          "shell.execute_reply.started": "2024-07-08T07:47:17.550858Z",
          "shell.execute_reply": "2024-07-08T07:47:17.560507Z"
        },
        "trusted": true,
        "id": "l8ZT22iIUONg"
      },
      "execution_count": null,
      "outputs": []
    },
    {
      "cell_type": "code",
      "source": [
        "history=model.fit(x_train_scaled,y_train,epochs=100, validation_split=0.1)"
      ],
      "metadata": {
        "execution": {
          "iopub.status.busy": "2024-07-08T07:47:17.56328Z",
          "iopub.execute_input": "2024-07-08T07:47:17.563687Z",
          "iopub.status.idle": "2024-07-08T07:48:01.572687Z",
          "shell.execute_reply.started": "2024-07-08T07:47:17.563653Z",
          "shell.execute_reply": "2024-07-08T07:48:01.571156Z"
        },
        "trusted": true,
        "id": "vXrVLtpOUONg",
        "outputId": "8dfdb232-73a8-48a8-d56b-43834236b4d0"
      },
      "execution_count": null,
      "outputs": [
        {
          "name": "stdout",
          "text": "Epoch 1/100\n\u001b[1m225/225\u001b[0m \u001b[32m━━━━━━━━━━━━━━━━━━━━\u001b[0m\u001b[37m\u001b[0m \u001b[1m2s\u001b[0m 2ms/step - accuracy: 0.7946 - loss: 0.5056 - val_accuracy: 0.7950 - val_loss: 0.4877\nEpoch 2/100\n\u001b[1m225/225\u001b[0m \u001b[32m━━━━━━━━━━━━━━━━━━━━\u001b[0m\u001b[37m\u001b[0m \u001b[1m0s\u001b[0m 2ms/step - accuracy: 0.7935 - loss: 0.4867 - val_accuracy: 0.7950 - val_loss: 0.4616\nEpoch 3/100\n\u001b[1m225/225\u001b[0m \u001b[32m━━━━━━━━━━━━━━━━━━━━\u001b[0m\u001b[37m\u001b[0m \u001b[1m0s\u001b[0m 2ms/step - accuracy: 0.7909 - loss: 0.4634 - val_accuracy: 0.7950 - val_loss: 0.4381\nEpoch 4/100\n\u001b[1m225/225\u001b[0m \u001b[32m━━━━━━━━━━━━━━━━━━━━\u001b[0m\u001b[37m\u001b[0m \u001b[1m0s\u001b[0m 2ms/step - accuracy: 0.8016 - loss: 0.4327 - val_accuracy: 0.7937 - val_loss: 0.4252\nEpoch 5/100\n\u001b[1m225/225\u001b[0m \u001b[32m━━━━━━━━━━━━━━━━━━━━\u001b[0m\u001b[37m\u001b[0m \u001b[1m0s\u001b[0m 2ms/step - accuracy: 0.7908 - loss: 0.4443 - val_accuracy: 0.8087 - val_loss: 0.4184\nEpoch 6/100\n\u001b[1m225/225\u001b[0m \u001b[32m━━━━━━━━━━━━━━━━━━━━\u001b[0m\u001b[37m\u001b[0m \u001b[1m0s\u001b[0m 2ms/step - accuracy: 0.8027 - loss: 0.4309 - val_accuracy: 0.8188 - val_loss: 0.4154\nEpoch 7/100\n\u001b[1m225/225\u001b[0m \u001b[32m━━━━━━━━━━━━━━━━━━━━\u001b[0m\u001b[37m\u001b[0m \u001b[1m0s\u001b[0m 2ms/step - accuracy: 0.8129 - loss: 0.4183 - val_accuracy: 0.8200 - val_loss: 0.4133\nEpoch 8/100\n\u001b[1m225/225\u001b[0m \u001b[32m━━━━━━━━━━━━━━━━━━━━\u001b[0m\u001b[37m\u001b[0m \u001b[1m0s\u001b[0m 2ms/step - accuracy: 0.8057 - loss: 0.4322 - val_accuracy: 0.8238 - val_loss: 0.4116\nEpoch 9/100\n\u001b[1m225/225\u001b[0m \u001b[32m━━━━━━━━━━━━━━━━━━━━\u001b[0m\u001b[37m\u001b[0m \u001b[1m0s\u001b[0m 2ms/step - accuracy: 0.8144 - loss: 0.4271 - val_accuracy: 0.8175 - val_loss: 0.4099\nEpoch 10/100\n\u001b[1m225/225\u001b[0m \u001b[32m━━━━━━━━━━━━━━━━━━━━\u001b[0m\u001b[37m\u001b[0m \u001b[1m0s\u001b[0m 2ms/step - accuracy: 0.8160 - loss: 0.4204 - val_accuracy: 0.8225 - val_loss: 0.4082\nEpoch 11/100\n\u001b[1m225/225\u001b[0m \u001b[32m━━━━━━━━━━━━━━━━━━━━\u001b[0m\u001b[37m\u001b[0m \u001b[1m0s\u001b[0m 2ms/step - accuracy: 0.8125 - loss: 0.4359 - val_accuracy: 0.8238 - val_loss: 0.4069\nEpoch 12/100\n\u001b[1m225/225\u001b[0m \u001b[32m━━━━━━━━━━━━━━━━━━━━\u001b[0m\u001b[37m\u001b[0m \u001b[1m0s\u001b[0m 2ms/step - accuracy: 0.8239 - loss: 0.4115 - val_accuracy: 0.8250 - val_loss: 0.4049\nEpoch 13/100\n\u001b[1m225/225\u001b[0m \u001b[32m━━━━━━━━━━━━━━━━━━━━\u001b[0m\u001b[37m\u001b[0m \u001b[1m0s\u001b[0m 2ms/step - accuracy: 0.8194 - loss: 0.4197 - val_accuracy: 0.8288 - val_loss: 0.4035\nEpoch 14/100\n\u001b[1m225/225\u001b[0m \u001b[32m━━━━━━━━━━━━━━━━━━━━\u001b[0m\u001b[37m\u001b[0m \u001b[1m0s\u001b[0m 2ms/step - accuracy: 0.8209 - loss: 0.4210 - val_accuracy: 0.8275 - val_loss: 0.4019\nEpoch 15/100\n\u001b[1m225/225\u001b[0m \u001b[32m━━━━━━━━━━━━━━━━━━━━\u001b[0m\u001b[37m\u001b[0m \u001b[1m0s\u001b[0m 2ms/step - accuracy: 0.8256 - loss: 0.4150 - val_accuracy: 0.8325 - val_loss: 0.3998\nEpoch 16/100\n\u001b[1m225/225\u001b[0m \u001b[32m━━━━━━━━━━━━━━━━━━━━\u001b[0m\u001b[37m\u001b[0m \u001b[1m0s\u001b[0m 2ms/step - accuracy: 0.8330 - loss: 0.4037 - val_accuracy: 0.8350 - val_loss: 0.3983\nEpoch 17/100\n\u001b[1m225/225\u001b[0m \u001b[32m━━━━━━━━━━━━━━━━━━━━\u001b[0m\u001b[37m\u001b[0m \u001b[1m0s\u001b[0m 2ms/step - accuracy: 0.8270 - loss: 0.4127 - val_accuracy: 0.8313 - val_loss: 0.3969\nEpoch 18/100\n\u001b[1m225/225\u001b[0m \u001b[32m━━━━━━━━━━━━━━━━━━━━\u001b[0m\u001b[37m\u001b[0m \u001b[1m0s\u001b[0m 2ms/step - accuracy: 0.8242 - loss: 0.4236 - val_accuracy: 0.8313 - val_loss: 0.3953\nEpoch 19/100\n\u001b[1m225/225\u001b[0m \u001b[32m━━━━━━━━━━━━━━━━━━━━\u001b[0m\u001b[37m\u001b[0m \u001b[1m0s\u001b[0m 2ms/step - accuracy: 0.8178 - loss: 0.4216 - val_accuracy: 0.8363 - val_loss: 0.3940\nEpoch 20/100\n\u001b[1m225/225\u001b[0m \u001b[32m━━━━━━━━━━━━━━━━━━━━\u001b[0m\u001b[37m\u001b[0m \u001b[1m0s\u001b[0m 2ms/step - accuracy: 0.8281 - loss: 0.3994 - val_accuracy: 0.8413 - val_loss: 0.3928\nEpoch 21/100\n\u001b[1m225/225\u001b[0m \u001b[32m━━━━━━━━━━━━━━━━━━━━\u001b[0m\u001b[37m\u001b[0m \u001b[1m0s\u001b[0m 2ms/step - accuracy: 0.8257 - loss: 0.4142 - val_accuracy: 0.8338 - val_loss: 0.3912\nEpoch 22/100\n\u001b[1m225/225\u001b[0m \u001b[32m━━━━━━━━━━━━━━━━━━━━\u001b[0m\u001b[37m\u001b[0m \u001b[1m0s\u001b[0m 2ms/step - accuracy: 0.8240 - loss: 0.4173 - val_accuracy: 0.8363 - val_loss: 0.3898\nEpoch 23/100\n\u001b[1m225/225\u001b[0m \u001b[32m━━━━━━━━━━━━━━━━━━━━\u001b[0m\u001b[37m\u001b[0m \u001b[1m0s\u001b[0m 2ms/step - accuracy: 0.8321 - loss: 0.4078 - val_accuracy: 0.8363 - val_loss: 0.3884\nEpoch 24/100\n\u001b[1m225/225\u001b[0m \u001b[32m━━━━━━━━━━━━━━━━━━━━\u001b[0m\u001b[37m\u001b[0m \u001b[1m0s\u001b[0m 2ms/step - accuracy: 0.8354 - loss: 0.3976 - val_accuracy: 0.8462 - val_loss: 0.3872\nEpoch 25/100\n\u001b[1m225/225\u001b[0m \u001b[32m━━━━━━━━━━━━━━━━━━━━\u001b[0m\u001b[37m\u001b[0m \u001b[1m0s\u001b[0m 2ms/step - accuracy: 0.8343 - loss: 0.4027 - val_accuracy: 0.8462 - val_loss: 0.3858\nEpoch 26/100\n\u001b[1m225/225\u001b[0m \u001b[32m━━━━━━━━━━━━━━━━━━━━\u001b[0m\u001b[37m\u001b[0m \u001b[1m0s\u001b[0m 2ms/step - accuracy: 0.8171 - loss: 0.4223 - val_accuracy: 0.8462 - val_loss: 0.3844\nEpoch 27/100\n\u001b[1m225/225\u001b[0m \u001b[32m━━━━━━━━━━━━━━━━━━━━\u001b[0m\u001b[37m\u001b[0m \u001b[1m0s\u001b[0m 2ms/step - accuracy: 0.8283 - loss: 0.4012 - val_accuracy: 0.8475 - val_loss: 0.3829\nEpoch 28/100\n\u001b[1m225/225\u001b[0m \u001b[32m━━━━━━━━━━━━━━━━━━━━\u001b[0m\u001b[37m\u001b[0m \u001b[1m0s\u001b[0m 2ms/step - accuracy: 0.8278 - loss: 0.4074 - val_accuracy: 0.8487 - val_loss: 0.3805\nEpoch 29/100\n\u001b[1m225/225\u001b[0m \u001b[32m━━━━━━━━━━━━━━━━━━━━\u001b[0m\u001b[37m\u001b[0m \u001b[1m0s\u001b[0m 2ms/step - accuracy: 0.8396 - loss: 0.3935 - val_accuracy: 0.8462 - val_loss: 0.3790\nEpoch 30/100\n\u001b[1m225/225\u001b[0m \u001b[32m━━━━━━━━━━━━━━━━━━━━\u001b[0m\u001b[37m\u001b[0m \u001b[1m0s\u001b[0m 2ms/step - accuracy: 0.8302 - loss: 0.4041 - val_accuracy: 0.8462 - val_loss: 0.3767\nEpoch 31/100\n\u001b[1m225/225\u001b[0m \u001b[32m━━━━━━━━━━━━━━━━━━━━\u001b[0m\u001b[37m\u001b[0m \u001b[1m0s\u001b[0m 2ms/step - accuracy: 0.8401 - loss: 0.3861 - val_accuracy: 0.8462 - val_loss: 0.3746\nEpoch 32/100\n\u001b[1m225/225\u001b[0m \u001b[32m━━━━━━━━━━━━━━━━━━━━\u001b[0m\u001b[37m\u001b[0m \u001b[1m0s\u001b[0m 2ms/step - accuracy: 0.8306 - loss: 0.3995 - val_accuracy: 0.8475 - val_loss: 0.3723\nEpoch 33/100\n\u001b[1m225/225\u001b[0m \u001b[32m━━━━━━━━━━━━━━━━━━━━\u001b[0m\u001b[37m\u001b[0m \u001b[1m0s\u001b[0m 2ms/step - accuracy: 0.8388 - loss: 0.3849 - val_accuracy: 0.8475 - val_loss: 0.3699\nEpoch 34/100\n\u001b[1m225/225\u001b[0m \u001b[32m━━━━━━━━━━━━━━━━━━━━\u001b[0m\u001b[37m\u001b[0m \u001b[1m0s\u001b[0m 2ms/step - accuracy: 0.8349 - loss: 0.3884 - val_accuracy: 0.8475 - val_loss: 0.3681\nEpoch 35/100\n\u001b[1m225/225\u001b[0m \u001b[32m━━━━━━━━━━━━━━━━━━━━\u001b[0m\u001b[37m\u001b[0m \u001b[1m0s\u001b[0m 2ms/step - accuracy: 0.8319 - loss: 0.3933 - val_accuracy: 0.8500 - val_loss: 0.3658\nEpoch 36/100\n\u001b[1m225/225\u001b[0m \u001b[32m━━━━━━━━━━━━━━━━━━━━\u001b[0m\u001b[37m\u001b[0m \u001b[1m0s\u001b[0m 2ms/step - accuracy: 0.8413 - loss: 0.3839 - val_accuracy: 0.8512 - val_loss: 0.3640\nEpoch 37/100\n\u001b[1m225/225\u001b[0m \u001b[32m━━━━━━━━━━━━━━━━━━━━\u001b[0m\u001b[37m\u001b[0m \u001b[1m0s\u001b[0m 2ms/step - accuracy: 0.8383 - loss: 0.3913 - val_accuracy: 0.8487 - val_loss: 0.3626\nEpoch 38/100\n\u001b[1m225/225\u001b[0m \u001b[32m━━━━━━━━━━━━━━━━━━━━\u001b[0m\u001b[37m\u001b[0m \u001b[1m0s\u001b[0m 2ms/step - accuracy: 0.8360 - loss: 0.3865 - val_accuracy: 0.8587 - val_loss: 0.3612\nEpoch 39/100\n\u001b[1m225/225\u001b[0m \u001b[32m━━━━━━━━━━━━━━━━━━━━\u001b[0m\u001b[37m\u001b[0m \u001b[1m0s\u001b[0m 2ms/step - accuracy: 0.8517 - loss: 0.3764 - val_accuracy: 0.8587 - val_loss: 0.3595\nEpoch 40/100\n\u001b[1m225/225\u001b[0m \u001b[32m━━━━━━━━━━━━━━━━━━━━\u001b[0m\u001b[37m\u001b[0m \u001b[1m0s\u001b[0m 2ms/step - accuracy: 0.8471 - loss: 0.3718 - val_accuracy: 0.8562 - val_loss: 0.3576\nEpoch 41/100\n\u001b[1m225/225\u001b[0m \u001b[32m━━━━━━━━━━━━━━━━━━━━\u001b[0m\u001b[37m\u001b[0m \u001b[1m0s\u001b[0m 2ms/step - accuracy: 0.8500 - loss: 0.3711 - val_accuracy: 0.8537 - val_loss: 0.3554\nEpoch 42/100\n\u001b[1m225/225\u001b[0m \u001b[32m━━━━━━━━━━━━━━━━━━━━\u001b[0m\u001b[37m\u001b[0m \u001b[1m0s\u001b[0m 2ms/step - accuracy: 0.8475 - loss: 0.3756 - val_accuracy: 0.8575 - val_loss: 0.3542\nEpoch 43/100\n\u001b[1m225/225\u001b[0m \u001b[32m━━━━━━━━━━━━━━━━━━━━\u001b[0m\u001b[37m\u001b[0m \u001b[1m0s\u001b[0m 2ms/step - accuracy: 0.8473 - loss: 0.3697 - val_accuracy: 0.8587 - val_loss: 0.3524\nEpoch 44/100\n\u001b[1m225/225\u001b[0m \u001b[32m━━━━━━━━━━━━━━━━━━━━\u001b[0m\u001b[37m\u001b[0m \u001b[1m0s\u001b[0m 2ms/step - accuracy: 0.8413 - loss: 0.3804 - val_accuracy: 0.8575 - val_loss: 0.3505\nEpoch 45/100\n\u001b[1m225/225\u001b[0m \u001b[32m━━━━━━━━━━━━━━━━━━━━\u001b[0m\u001b[37m\u001b[0m \u001b[1m0s\u001b[0m 2ms/step - accuracy: 0.8476 - loss: 0.3642 - val_accuracy: 0.8575 - val_loss: 0.3485\nEpoch 46/100\n\u001b[1m225/225\u001b[0m \u001b[32m━━━━━━━━━━━━━━━━━━━━\u001b[0m\u001b[37m\u001b[0m \u001b[1m0s\u001b[0m 2ms/step - accuracy: 0.8518 - loss: 0.3645 - val_accuracy: 0.8562 - val_loss: 0.3473\nEpoch 47/100\n\u001b[1m225/225\u001b[0m \u001b[32m━━━━━━━━━━━━━━━━━━━━\u001b[0m\u001b[37m\u001b[0m \u001b[1m0s\u001b[0m 2ms/step - accuracy: 0.8475 - loss: 0.3680 - val_accuracy: 0.8575 - val_loss: 0.3461\nEpoch 48/100\n\u001b[1m225/225\u001b[0m \u001b[32m━━━━━━━━━━━━━━━━━━━━\u001b[0m\u001b[37m\u001b[0m \u001b[1m0s\u001b[0m 2ms/step - accuracy: 0.8536 - loss: 0.3555 - val_accuracy: 0.8575 - val_loss: 0.3449\nEpoch 49/100\n\u001b[1m225/225\u001b[0m \u001b[32m━━━━━━━━━━━━━━━━━━━━\u001b[0m\u001b[37m\u001b[0m \u001b[1m0s\u001b[0m 2ms/step - accuracy: 0.8579 - loss: 0.3555 - val_accuracy: 0.8587 - val_loss: 0.3442\nEpoch 50/100\n\u001b[1m225/225\u001b[0m \u001b[32m━━━━━━━━━━━━━━━━━━━━\u001b[0m\u001b[37m\u001b[0m \u001b[1m0s\u001b[0m 2ms/step - accuracy: 0.8555 - loss: 0.3586 - val_accuracy: 0.8562 - val_loss: 0.3422\nEpoch 51/100\n\u001b[1m225/225\u001b[0m \u001b[32m━━━━━━━━━━━━━━━━━━━━\u001b[0m\u001b[37m\u001b[0m \u001b[1m0s\u001b[0m 2ms/step - accuracy: 0.8516 - loss: 0.3559 - val_accuracy: 0.8562 - val_loss: 0.3413\nEpoch 52/100\n\u001b[1m225/225\u001b[0m \u001b[32m━━━━━━━━━━━━━━━━━━━━\u001b[0m\u001b[37m\u001b[0m \u001b[1m0s\u001b[0m 2ms/step - accuracy: 0.8520 - loss: 0.3596 - val_accuracy: 0.8575 - val_loss: 0.3403\nEpoch 53/100\n\u001b[1m225/225\u001b[0m \u001b[32m━━━━━━━━━━━━━━━━━━━━\u001b[0m\u001b[37m\u001b[0m \u001b[1m0s\u001b[0m 2ms/step - accuracy: 0.8541 - loss: 0.3507 - val_accuracy: 0.8600 - val_loss: 0.3391\nEpoch 54/100\n\u001b[1m225/225\u001b[0m \u001b[32m━━━━━━━━━━━━━━━━━━━━\u001b[0m\u001b[37m\u001b[0m \u001b[1m0s\u001b[0m 2ms/step - accuracy: 0.8600 - loss: 0.3433 - val_accuracy: 0.8650 - val_loss: 0.3381\nEpoch 55/100\n\u001b[1m225/225\u001b[0m \u001b[32m━━━━━━━━━━━━━━━━━━━━\u001b[0m\u001b[37m\u001b[0m \u001b[1m0s\u001b[0m 2ms/step - accuracy: 0.8569 - loss: 0.3468 - val_accuracy: 0.8637 - val_loss: 0.3371\nEpoch 56/100\n\u001b[1m225/225\u001b[0m \u001b[32m━━━━━━━━━━━━━━━━━━━━\u001b[0m\u001b[37m\u001b[0m \u001b[1m0s\u001b[0m 2ms/step - accuracy: 0.8598 - loss: 0.3516 - val_accuracy: 0.8625 - val_loss: 0.3365\nEpoch 57/100\n\u001b[1m225/225\u001b[0m \u001b[32m━━━━━━━━━━━━━━━━━━━━\u001b[0m\u001b[37m\u001b[0m \u001b[1m0s\u001b[0m 2ms/step - accuracy: 0.8558 - loss: 0.3492 - val_accuracy: 0.8662 - val_loss: 0.3358\nEpoch 58/100\n\u001b[1m225/225\u001b[0m \u001b[32m━━━━━━━━━━━━━━━━━━━━\u001b[0m\u001b[37m\u001b[0m \u001b[1m0s\u001b[0m 2ms/step - accuracy: 0.8587 - loss: 0.3412 - val_accuracy: 0.8612 - val_loss: 0.3376\nEpoch 59/100\n\u001b[1m225/225\u001b[0m \u001b[32m━━━━━━━━━━━━━━━━━━━━\u001b[0m\u001b[37m\u001b[0m \u001b[1m0s\u001b[0m 2ms/step - accuracy: 0.8594 - loss: 0.3511 - val_accuracy: 0.8637 - val_loss: 0.3351\nEpoch 60/100\n\u001b[1m225/225\u001b[0m \u001b[32m━━━━━━━━━━━━━━━━━━━━\u001b[0m\u001b[37m\u001b[0m \u001b[1m0s\u001b[0m 2ms/step - accuracy: 0.8598 - loss: 0.3459 - val_accuracy: 0.8650 - val_loss: 0.3342\nEpoch 61/100\n\u001b[1m225/225\u001b[0m \u001b[32m━━━━━━━━━━━━━━━━━━━━\u001b[0m\u001b[37m\u001b[0m \u001b[1m0s\u001b[0m 2ms/step - accuracy: 0.8614 - loss: 0.3437 - val_accuracy: 0.8637 - val_loss: 0.3343\nEpoch 62/100\n\u001b[1m225/225\u001b[0m \u001b[32m━━━━━━━━━━━━━━━━━━━━\u001b[0m\u001b[37m\u001b[0m \u001b[1m0s\u001b[0m 2ms/step - accuracy: 0.8529 - loss: 0.3533 - val_accuracy: 0.8662 - val_loss: 0.3348\nEpoch 63/100\n\u001b[1m225/225\u001b[0m \u001b[32m━━━━━━━━━━━━━━━━━━━━\u001b[0m\u001b[37m\u001b[0m \u001b[1m0s\u001b[0m 2ms/step - accuracy: 0.8512 - loss: 0.3574 - val_accuracy: 0.8637 - val_loss: 0.3333\nEpoch 64/100\n\u001b[1m225/225\u001b[0m \u001b[32m━━━━━━━━━━━━━━━━━━━━\u001b[0m\u001b[37m\u001b[0m \u001b[1m1s\u001b[0m 2ms/step - accuracy: 0.8601 - loss: 0.3466 - val_accuracy: 0.8662 - val_loss: 0.3327\nEpoch 65/100\n\u001b[1m225/225\u001b[0m \u001b[32m━━━━━━━━━━━━━━━━━━━━\u001b[0m\u001b[37m\u001b[0m \u001b[1m0s\u001b[0m 2ms/step - accuracy: 0.8631 - loss: 0.3443 - val_accuracy: 0.8650 - val_loss: 0.3320\nEpoch 66/100\n\u001b[1m225/225\u001b[0m \u001b[32m━━━━━━━━━━━━━━━━━━━━\u001b[0m\u001b[37m\u001b[0m \u001b[1m0s\u001b[0m 2ms/step - accuracy: 0.8587 - loss: 0.3492 - val_accuracy: 0.8637 - val_loss: 0.3314\nEpoch 67/100\n\u001b[1m225/225\u001b[0m \u001b[32m━━━━━━━━━━━━━━━━━━━━\u001b[0m\u001b[37m\u001b[0m \u001b[1m0s\u001b[0m 2ms/step - accuracy: 0.8579 - loss: 0.3471 - val_accuracy: 0.8675 - val_loss: 0.3309\nEpoch 68/100\n\u001b[1m225/225\u001b[0m \u001b[32m━━━━━━━━━━━━━━━━━━━━\u001b[0m\u001b[37m\u001b[0m \u001b[1m0s\u001b[0m 2ms/step - accuracy: 0.8703 - loss: 0.3284 - val_accuracy: 0.8650 - val_loss: 0.3314\nEpoch 69/100\n\u001b[1m225/225\u001b[0m \u001b[32m━━━━━━━━━━━━━━━━━━━━\u001b[0m\u001b[37m\u001b[0m \u001b[1m0s\u001b[0m 2ms/step - accuracy: 0.8631 - loss: 0.3314 - val_accuracy: 0.8662 - val_loss: 0.3303\nEpoch 70/100\n\u001b[1m225/225\u001b[0m \u001b[32m━━━━━━━━━━━━━━━━━━━━\u001b[0m\u001b[37m\u001b[0m \u001b[1m0s\u001b[0m 2ms/step - accuracy: 0.8592 - loss: 0.3477 - val_accuracy: 0.8662 - val_loss: 0.3301\nEpoch 71/100\n\u001b[1m225/225\u001b[0m \u001b[32m━━━━━━━━━━━━━━━━━━━━\u001b[0m\u001b[37m\u001b[0m \u001b[1m0s\u001b[0m 2ms/step - accuracy: 0.8609 - loss: 0.3368 - val_accuracy: 0.8662 - val_loss: 0.3291\nEpoch 72/100\n\u001b[1m225/225\u001b[0m \u001b[32m━━━━━━━━━━━━━━━━━━━━\u001b[0m\u001b[37m\u001b[0m \u001b[1m0s\u001b[0m 2ms/step - accuracy: 0.8579 - loss: 0.3483 - val_accuracy: 0.8675 - val_loss: 0.3289\nEpoch 73/100\n\u001b[1m225/225\u001b[0m \u001b[32m━━━━━━━━━━━━━━━━━━━━\u001b[0m\u001b[37m\u001b[0m \u001b[1m0s\u001b[0m 2ms/step - accuracy: 0.8537 - loss: 0.3513 - val_accuracy: 0.8650 - val_loss: 0.3287\nEpoch 74/100\n\u001b[1m225/225\u001b[0m \u001b[32m━━━━━━━━━━━━━━━━━━━━\u001b[0m\u001b[37m\u001b[0m \u001b[1m0s\u001b[0m 2ms/step - accuracy: 0.8677 - loss: 0.3289 - val_accuracy: 0.8675 - val_loss: 0.3285\nEpoch 75/100\n\u001b[1m225/225\u001b[0m \u001b[32m━━━━━━━━━━━━━━━━━━━━\u001b[0m\u001b[37m\u001b[0m \u001b[1m0s\u001b[0m 2ms/step - accuracy: 0.8594 - loss: 0.3393 - val_accuracy: 0.8662 - val_loss: 0.3278\nEpoch 76/100\n\u001b[1m225/225\u001b[0m \u001b[32m━━━━━━━━━━━━━━━━━━━━\u001b[0m\u001b[37m\u001b[0m \u001b[1m0s\u001b[0m 2ms/step - accuracy: 0.8658 - loss: 0.3401 - val_accuracy: 0.8637 - val_loss: 0.3279\nEpoch 77/100\n\u001b[1m225/225\u001b[0m \u001b[32m━━━━━━━━━━━━━━━━━━━━\u001b[0m\u001b[37m\u001b[0m \u001b[1m0s\u001b[0m 2ms/step - accuracy: 0.8607 - loss: 0.3419 - val_accuracy: 0.8662 - val_loss: 0.3278\nEpoch 78/100\n\u001b[1m225/225\u001b[0m \u001b[32m━━━━━━━━━━━━━━━━━━━━\u001b[0m\u001b[37m\u001b[0m \u001b[1m0s\u001b[0m 2ms/step - accuracy: 0.8638 - loss: 0.3384 - val_accuracy: 0.8662 - val_loss: 0.3263\nEpoch 79/100\n\u001b[1m225/225\u001b[0m \u001b[32m━━━━━━━━━━━━━━━━━━━━\u001b[0m\u001b[37m\u001b[0m \u001b[1m0s\u001b[0m 2ms/step - accuracy: 0.8631 - loss: 0.3325 - val_accuracy: 0.8687 - val_loss: 0.3270\nEpoch 80/100\n\u001b[1m225/225\u001b[0m \u001b[32m━━━━━━━━━━━━━━━━━━━━\u001b[0m\u001b[37m\u001b[0m \u001b[1m0s\u001b[0m 2ms/step - accuracy: 0.8679 - loss: 0.3362 - val_accuracy: 0.8700 - val_loss: 0.3270\nEpoch 81/100\n\u001b[1m225/225\u001b[0m \u001b[32m━━━━━━━━━━━━━━━━━━━━\u001b[0m\u001b[37m\u001b[0m \u001b[1m0s\u001b[0m 2ms/step - accuracy: 0.8627 - loss: 0.3425 - val_accuracy: 0.8650 - val_loss: 0.3273\nEpoch 82/100\n\u001b[1m225/225\u001b[0m \u001b[32m━━━━━━━━━━━━━━━━━━━━\u001b[0m\u001b[37m\u001b[0m \u001b[1m0s\u001b[0m 2ms/step - accuracy: 0.8580 - loss: 0.3380 - val_accuracy: 0.8650 - val_loss: 0.3270\nEpoch 83/100\n\u001b[1m225/225\u001b[0m \u001b[32m━━━━━━━━━━━━━━━━━━━━\u001b[0m\u001b[37m\u001b[0m \u001b[1m0s\u001b[0m 2ms/step - accuracy: 0.8608 - loss: 0.3359 - val_accuracy: 0.8675 - val_loss: 0.3257\nEpoch 84/100\n\u001b[1m225/225\u001b[0m \u001b[32m━━━━━━━━━━━━━━━━━━━━\u001b[0m\u001b[37m\u001b[0m \u001b[1m0s\u001b[0m 2ms/step - accuracy: 0.8624 - loss: 0.3363 - val_accuracy: 0.8687 - val_loss: 0.3249\nEpoch 85/100\n\u001b[1m225/225\u001b[0m \u001b[32m━━━━━━━━━━━━━━━━━━━━\u001b[0m\u001b[37m\u001b[0m \u001b[1m0s\u001b[0m 2ms/step - accuracy: 0.8647 - loss: 0.3350 - val_accuracy: 0.8675 - val_loss: 0.3270\nEpoch 86/100\n\u001b[1m225/225\u001b[0m \u001b[32m━━━━━━━━━━━━━━━━━━━━\u001b[0m\u001b[37m\u001b[0m \u001b[1m0s\u001b[0m 2ms/step - accuracy: 0.8630 - loss: 0.3392 - val_accuracy: 0.8662 - val_loss: 0.3239\nEpoch 87/100\n\u001b[1m225/225\u001b[0m \u001b[32m━━━━━━━━━━━━━━━━━━━━\u001b[0m\u001b[37m\u001b[0m \u001b[1m0s\u001b[0m 2ms/step - accuracy: 0.8609 - loss: 0.3384 - val_accuracy: 0.8687 - val_loss: 0.3238\nEpoch 88/100\n\u001b[1m225/225\u001b[0m \u001b[32m━━━━━━━━━━━━━━━━━━━━\u001b[0m\u001b[37m\u001b[0m \u001b[1m0s\u001b[0m 2ms/step - accuracy: 0.8616 - loss: 0.3361 - val_accuracy: 0.8687 - val_loss: 0.3237\nEpoch 89/100\n\u001b[1m225/225\u001b[0m \u001b[32m━━━━━━━━━━━━━━━━━━━━\u001b[0m\u001b[37m\u001b[0m \u001b[1m0s\u001b[0m 2ms/step - accuracy: 0.8624 - loss: 0.3330 - val_accuracy: 0.8687 - val_loss: 0.3238\nEpoch 90/100\n\u001b[1m225/225\u001b[0m \u001b[32m━━━━━━━━━━━━━━━━━━━━\u001b[0m\u001b[37m\u001b[0m \u001b[1m0s\u001b[0m 2ms/step - accuracy: 0.8582 - loss: 0.3407 - val_accuracy: 0.8675 - val_loss: 0.3228\nEpoch 91/100\n\u001b[1m225/225\u001b[0m \u001b[32m━━━━━━━━━━━━━━━━━━━━\u001b[0m\u001b[37m\u001b[0m \u001b[1m0s\u001b[0m 2ms/step - accuracy: 0.8650 - loss: 0.3282 - val_accuracy: 0.8712 - val_loss: 0.3233\nEpoch 92/100\n\u001b[1m225/225\u001b[0m \u001b[32m━━━━━━━━━━━━━━━━━━━━\u001b[0m\u001b[37m\u001b[0m \u001b[1m0s\u001b[0m 2ms/step - accuracy: 0.8623 - loss: 0.3365 - val_accuracy: 0.8662 - val_loss: 0.3227\nEpoch 93/100\n\u001b[1m225/225\u001b[0m \u001b[32m━━━━━━━━━━━━━━━━━━━━\u001b[0m\u001b[37m\u001b[0m \u001b[1m0s\u001b[0m 2ms/step - accuracy: 0.8614 - loss: 0.3314 - val_accuracy: 0.8650 - val_loss: 0.3227\nEpoch 94/100\n\u001b[1m225/225\u001b[0m \u001b[32m━━━━━━━━━━━━━━━━━━━━\u001b[0m\u001b[37m\u001b[0m \u001b[1m0s\u001b[0m 2ms/step - accuracy: 0.8577 - loss: 0.3337 - val_accuracy: 0.8675 - val_loss: 0.3230\nEpoch 95/100\n\u001b[1m225/225\u001b[0m \u001b[32m━━━━━━━━━━━━━━━━━━━━\u001b[0m\u001b[37m\u001b[0m \u001b[1m0s\u001b[0m 2ms/step - accuracy: 0.8559 - loss: 0.3495 - val_accuracy: 0.8662 - val_loss: 0.3224\nEpoch 96/100\n\u001b[1m225/225\u001b[0m \u001b[32m━━━━━━━━━━━━━━━━━━━━\u001b[0m\u001b[37m\u001b[0m \u001b[1m0s\u001b[0m 2ms/step - accuracy: 0.8657 - loss: 0.3346 - val_accuracy: 0.8700 - val_loss: 0.3219\nEpoch 97/100\n\u001b[1m225/225\u001b[0m \u001b[32m━━━━━━━━━━━━━━━━━━━━\u001b[0m\u001b[37m\u001b[0m \u001b[1m0s\u001b[0m 2ms/step - accuracy: 0.8525 - loss: 0.3449 - val_accuracy: 0.8737 - val_loss: 0.3237\nEpoch 98/100\n\u001b[1m225/225\u001b[0m \u001b[32m━━━━━━━━━━━━━━━━━━━━\u001b[0m\u001b[37m\u001b[0m \u001b[1m0s\u001b[0m 2ms/step - accuracy: 0.8578 - loss: 0.3435 - val_accuracy: 0.8662 - val_loss: 0.3220\nEpoch 99/100\n\u001b[1m225/225\u001b[0m \u001b[32m━━━━━━━━━━━━━━━━━━━━\u001b[0m\u001b[37m\u001b[0m \u001b[1m0s\u001b[0m 2ms/step - accuracy: 0.8660 - loss: 0.3248 - val_accuracy: 0.8687 - val_loss: 0.3213\nEpoch 100/100\n\u001b[1m225/225\u001b[0m \u001b[32m━━━━━━━━━━━━━━━━━━━━\u001b[0m\u001b[37m\u001b[0m \u001b[1m0s\u001b[0m 2ms/step - accuracy: 0.8626 - loss: 0.3277 - val_accuracy: 0.8700 - val_loss: 0.3209\n",
          "output_type": "stream"
        }
      ]
    },
    {
      "cell_type": "code",
      "source": [
        "model.layers[0].get_weights()"
      ],
      "metadata": {
        "execution": {
          "iopub.status.busy": "2024-07-08T07:48:01.575136Z",
          "iopub.execute_input": "2024-07-08T07:48:01.575545Z",
          "iopub.status.idle": "2024-07-08T07:48:01.588349Z",
          "shell.execute_reply.started": "2024-07-08T07:48:01.57551Z",
          "shell.execute_reply": "2024-07-08T07:48:01.586986Z"
        },
        "trusted": true,
        "id": "Re_sk0EYUONg",
        "outputId": "7a7b73fd-6cb0-42ba-bb1b-f2fe3d26284d"
      },
      "execution_count": null,
      "outputs": [
        {
          "execution_count": 109,
          "output_type": "execute_result",
          "data": {
            "text/plain": "[array([[ 0.20239608, -0.0566964 , -0.1569769 ,  0.25576833,  0.11132639,\n          0.05357913, -0.00381918, -0.02075573,  0.0604424 ,  0.43125853,\n          0.28098798],\n        [-0.5965441 ,  1.7783872 , -0.7198236 , -1.8577604 , -0.48030668,\n         -0.38364044, -0.04314894,  0.5887616 ,  2.4018793 , -0.03430502,\n          2.2865577 ],\n        [-0.01381313, -0.1724478 , -0.70804286, -0.08993188, -0.0505961 ,\n          0.17415702, -0.22886376, -0.12947473, -0.58958954,  0.07846593,\n          0.23892121],\n        [ 0.5592067 , -0.41954672, -0.12257051,  0.47715425, -0.49060306,\n          0.56488335,  0.20252943,  0.3448279 , -0.6293728 , -1.6793338 ,\n          0.895173  ],\n        [ 1.5641032 ,  0.57879746, -0.03139334,  0.02853488, -3.2810016 ,\n          0.38923985, -0.762465  , -0.20868097,  0.17263983, -0.99228835,\n          0.40919235],\n        [ 0.06188841,  0.2542865 ,  0.514169  , -0.11019932,  0.12898585,\n         -0.11783856, -0.04745423,  0.56301004, -0.27698132,  0.19578825,\n         -0.04455203],\n        [ 0.32377598,  0.9322137 , -0.65780634, -0.94053996,  0.07324283,\n         -1.2045219 ,  1.1523035 ,  1.2131026 ,  0.67911166, -0.01455585,\n          0.4045218 ],\n        [-0.11746168,  0.32590985,  0.48300776, -0.06708985,  0.00666144,\n          0.12791829,  0.30360702,  0.04097802, -0.16410263, -0.2937423 ,\n         -0.15278749],\n        [-0.42791602, -0.18946016,  0.77030736, -0.09294438,  0.05126693,\n          0.23642063,  0.09326879,  0.34291804, -0.10274633, -0.9892057 ,\n          0.4402459 ],\n        [ 0.09501418, -0.6902398 , -0.09317473, -0.46225402, -0.0612077 ,\n          0.05633479, -0.32364896,  0.17685975, -0.36510926,  0.01241162,\n         -0.4436475 ],\n        [-0.10700601,  0.300759  , -0.8651409 ,  0.00424686,  0.03218088,\n         -0.7295628 ,  0.1585354 , -0.16002731,  0.17248349, -0.05418471,\n         -0.26479053]], dtype=float32),\n array([-2.2819457 ,  0.06296775,  0.72798043,  0.18123603, -1.4446746 ,\n         0.11503367,  0.22240591, -1.0529047 , -0.9727628 ,  0.66354   ,\n        -0.244454  ], dtype=float32)]"
          },
          "metadata": {}
        }
      ]
    },
    {
      "cell_type": "code",
      "source": [
        "model.layers[1].get_weights()"
      ],
      "metadata": {
        "execution": {
          "iopub.status.busy": "2024-07-08T07:48:01.590008Z",
          "iopub.execute_input": "2024-07-08T07:48:01.590537Z",
          "iopub.status.idle": "2024-07-08T07:48:01.609516Z",
          "shell.execute_reply.started": "2024-07-08T07:48:01.59047Z",
          "shell.execute_reply": "2024-07-08T07:48:01.607811Z"
        },
        "trusted": true,
        "id": "YQnMLHUVUONg",
        "outputId": "d4ab91e1-75ec-4ea5-ba87-ea85c22ca57f"
      },
      "execution_count": null,
      "outputs": [
        {
          "execution_count": 110,
          "output_type": "execute_result",
          "data": {
            "text/plain": "[array([[ 2.1491723 , -1.3622577 , -1.6227719 ,  1.7544564 , -1.507678  ,\n          0.8547524 , -1.166591  , -1.1125283 , -1.7849225 , -1.5868205 ,\n         -1.445569  ],\n        [ 0.03514076, -0.70250976, -0.79931825,  0.42912892, -0.09538231,\n          0.46509233, -0.01493627,  0.1960243 , -0.5928297 , -0.1680338 ,\n         -0.31578395],\n        [-0.14771067, -0.28453457, -0.33352026, -0.50040555, -0.55826855,\n          1.1011474 , -0.6668477 , -1.329218  , -0.22168769, -0.55635375,\n         -0.21416521],\n        [-1.0963337 ,  0.83642834,  0.7650915 , -1.4812496 ,  1.4960635 ,\n         -0.35969335,  1.0469038 , -0.08639366,  1.0051193 ,  0.83229053,\n          1.3983322 ],\n        [ 2.1100338 , -1.671798  , -1.5671345 ,  2.2464063 , -1.328996  ,\n          1.3213367 , -1.701098  , -1.7179295 , -1.6698284 , -1.6948725 ,\n         -1.3706876 ],\n        [ 0.17066796, -0.05598763,  0.24386373, -0.03648089, -0.6835997 ,\n          1.0364486 , -0.79529846, -1.3505857 ,  0.15440841, -0.40962556,\n         -0.38963488],\n        [-0.5967194 ,  0.63611126,  0.19684887, -0.20497362,  1.553845  ,\n         -0.76092225,  1.3391222 ,  1.117545  ,  0.8275877 ,  1.1531318 ,\n          0.9412504 ],\n        [-0.40918785,  1.0900352 ,  0.19745515, -0.12553999,  0.67509025,\n         -0.5165821 ,  0.96586037,  1.2231688 ,  0.48758695,  1.4197856 ,\n          0.31964839],\n        [ 0.5244565 , -0.39711785, -0.23488617,  0.85696113, -0.77099305,\n          0.16471842, -0.29942322, -0.06248266, -0.6606783 , -0.6932869 ,\n         -0.8287216 ],\n        [-0.71781695,  0.6799592 ,  0.92769027, -1.0168265 ,  0.4678627 ,\n         -0.823215  ,  0.4155633 ,  0.58557117,  0.59658206,  0.76279795,\n          0.89366513],\n        [ 0.15605369, -0.25174895, -0.55889004,  0.75493836, -0.11838823,\n         -0.15506761, -0.5417082 , -0.40956247, -0.31400472, -0.52254826,\n         -0.39167222]], dtype=float32),\n array([-0.03379425,  0.13959885,  0.15391843, -0.25178275,  0.22894886,\n         0.03207329,  0.09031639, -0.14020205,  0.29918736,  0.33402652,\n         0.29366842], dtype=float32)]"
          },
          "metadata": {}
        }
      ]
    },
    {
      "cell_type": "code",
      "source": [
        "model.layers[2].get_weights()"
      ],
      "metadata": {
        "execution": {
          "iopub.status.busy": "2024-07-08T07:48:01.611547Z",
          "iopub.execute_input": "2024-07-08T07:48:01.612034Z",
          "iopub.status.idle": "2024-07-08T07:48:01.622936Z",
          "shell.execute_reply.started": "2024-07-08T07:48:01.611989Z",
          "shell.execute_reply": "2024-07-08T07:48:01.621602Z"
        },
        "trusted": true,
        "id": "hv7LrR3RUONg",
        "outputId": "0de9af1e-637e-4cd2-f901-72bb4237a1f6"
      },
      "execution_count": null,
      "outputs": [
        {
          "execution_count": 111,
          "output_type": "execute_result",
          "data": {
            "text/plain": "[array([[ 1.7919389],\n        [-1.1225394],\n        [-1.1037306],\n        [ 1.6209816],\n        [-1.1833409],\n        [ 1.3253824],\n        [-1.052907 ],\n        [-1.4118046],\n        [-1.1241956],\n        [-1.6694316],\n        [-1.3982087]], dtype=float32),\n array([0.47954756], dtype=float32)]"
          },
          "metadata": {}
        }
      ]
    },
    {
      "cell_type": "code",
      "source": [
        "model.predict(x_test_scaled)"
      ],
      "metadata": {
        "execution": {
          "iopub.status.busy": "2024-07-08T07:48:01.627306Z",
          "iopub.execute_input": "2024-07-08T07:48:01.627795Z",
          "iopub.status.idle": "2024-07-08T07:48:01.888627Z",
          "shell.execute_reply.started": "2024-07-08T07:48:01.627762Z",
          "shell.execute_reply": "2024-07-08T07:48:01.887361Z"
        },
        "trusted": true,
        "id": "JKZ0mndpUONh",
        "outputId": "8744f3ba-9af0-479e-adad-a89aee910976"
      },
      "execution_count": null,
      "outputs": [
        {
          "name": "stdout",
          "text": "\u001b[1m63/63\u001b[0m \u001b[32m━━━━━━━━━━━━━━━━━━━━\u001b[0m\u001b[37m\u001b[0m \u001b[1m0s\u001b[0m 2ms/step\n",
          "output_type": "stream"
        },
        {
          "execution_count": 112,
          "output_type": "execute_result",
          "data": {
            "text/plain": "array([[0.30005732],\n       [0.2518482 ],\n       [0.1418537 ],\n       ...,\n       [0.14042687],\n       [0.10984987],\n       [0.26124847]], dtype=float32)"
          },
          "metadata": {}
        }
      ]
    },
    {
      "cell_type": "code",
      "source": [
        "threshold=model.predict(x_test_scaled)\n",
        "y_pred=np.where(threshold>0.5,1,0)\n",
        "y_pred"
      ],
      "metadata": {
        "execution": {
          "iopub.status.busy": "2024-07-08T07:48:01.88992Z",
          "iopub.execute_input": "2024-07-08T07:48:01.890281Z",
          "iopub.status.idle": "2024-07-08T07:48:02.084789Z",
          "shell.execute_reply.started": "2024-07-08T07:48:01.890251Z",
          "shell.execute_reply": "2024-07-08T07:48:02.083425Z"
        },
        "trusted": true,
        "id": "oj-yRuvWUONh",
        "outputId": "7483e508-0d20-4780-8689-8a623cab8cec"
      },
      "execution_count": null,
      "outputs": [
        {
          "name": "stdout",
          "text": "\u001b[1m63/63\u001b[0m \u001b[32m━━━━━━━━━━━━━━━━━━━━\u001b[0m\u001b[37m\u001b[0m \u001b[1m0s\u001b[0m 1ms/step\n",
          "output_type": "stream"
        },
        {
          "execution_count": 113,
          "output_type": "execute_result",
          "data": {
            "text/plain": "array([[0],\n       [0],\n       [0],\n       ...,\n       [0],\n       [0],\n       [0]])"
          },
          "metadata": {}
        }
      ]
    },
    {
      "cell_type": "code",
      "source": [
        "from sklearn.metrics import accuracy_score\n",
        "accuracy_score(y_test,y_pred)"
      ],
      "metadata": {
        "execution": {
          "iopub.status.busy": "2024-07-08T07:48:02.086396Z",
          "iopub.execute_input": "2024-07-08T07:48:02.086854Z",
          "iopub.status.idle": "2024-07-08T07:48:02.096972Z",
          "shell.execute_reply.started": "2024-07-08T07:48:02.086821Z",
          "shell.execute_reply": "2024-07-08T07:48:02.095693Z"
        },
        "trusted": true,
        "id": "-gbpKprKUONh",
        "outputId": "7d59184a-038b-4949-c998-cf9e17b2735c"
      },
      "execution_count": null,
      "outputs": [
        {
          "execution_count": 114,
          "output_type": "execute_result",
          "data": {
            "text/plain": "0.8615"
          },
          "metadata": {}
        }
      ]
    },
    {
      "cell_type": "code",
      "source": [
        "history.history"
      ],
      "metadata": {
        "execution": {
          "iopub.status.busy": "2024-07-08T07:48:02.098285Z",
          "iopub.execute_input": "2024-07-08T07:48:02.098699Z",
          "iopub.status.idle": "2024-07-08T07:48:02.115921Z",
          "shell.execute_reply.started": "2024-07-08T07:48:02.098662Z",
          "shell.execute_reply": "2024-07-08T07:48:02.114684Z"
        },
        "trusted": true,
        "id": "LEQ8Nc4sUONh",
        "outputId": "7534a757-352d-4dfb-c1f3-daebd75c84a8"
      },
      "execution_count": null,
      "outputs": [
        {
          "execution_count": 115,
          "output_type": "execute_result",
          "data": {
            "text/plain": "{'accuracy': [0.7961111068725586,\n  0.7961111068725586,\n  0.7961111068725586,\n  0.79666668176651,\n  0.8026388883590698,\n  0.8069444298744202,\n  0.8127777576446533,\n  0.8140277862548828,\n  0.8163889050483704,\n  0.8181944489479065,\n  0.8193055391311646,\n  0.8206944465637207,\n  0.8219444155693054,\n  0.8222222328186035,\n  0.8223611116409302,\n  0.8248611092567444,\n  0.824999988079071,\n  0.8262500166893005,\n  0.8256944417953491,\n  0.8268055319786072,\n  0.8266666531562805,\n  0.8295833468437195,\n  0.8302778005599976,\n  0.8291666507720947,\n  0.8302778005599976,\n  0.8302778005599976,\n  0.8299999833106995,\n  0.8320833444595337,\n  0.8322222232818604,\n  0.8324999809265137,\n  0.8337500095367432,\n  0.8348610997200012,\n  0.835694432258606,\n  0.8379166722297668,\n  0.8383333086967468,\n  0.8388888835906982,\n  0.8405555486679077,\n  0.8415277600288391,\n  0.8430555462837219,\n  0.8454166650772095,\n  0.8443055748939514,\n  0.8463888764381409,\n  0.8468055725097656,\n  0.8480555415153503,\n  0.847777783870697,\n  0.8495833277702332,\n  0.8516666889190674,\n  0.8520833253860474,\n  0.8547222018241882,\n  0.855138897895813,\n  0.8561111092567444,\n  0.8545833230018616,\n  0.856249988079071,\n  0.8580555319786072,\n  0.856249988079071,\n  0.8573611378669739,\n  0.8573611378669739,\n  0.8583333492279053,\n  0.8584722280502319,\n  0.8576388955116272,\n  0.8593055605888367,\n  0.8572221994400024,\n  0.8590278029441833,\n  0.8590278029441833,\n  0.8597221970558167,\n  0.8605555295944214,\n  0.8604166507720947,\n  0.8613888621330261,\n  0.8597221970558167,\n  0.8622221946716309,\n  0.8601388931274414,\n  0.8620833158493042,\n  0.8600000143051147,\n  0.8619444370269775,\n  0.8593055605888367,\n  0.863194465637207,\n  0.8616666793823242,\n  0.8620833158493042,\n  0.8609722256660461,\n  0.863194465637207,\n  0.8622221946716309,\n  0.8622221946716309,\n  0.8622221946716309,\n  0.8633333444595337,\n  0.8618055582046509,\n  0.8618055582046509,\n  0.8618055582046509,\n  0.8611111044883728,\n  0.8634722232818604,\n  0.8629166483879089,\n  0.8619444370269775,\n  0.8615278005599976,\n  0.8629166483879089,\n  0.8611111044883728,\n  0.8622221946716309,\n  0.863611102104187,\n  0.8622221946716309,\n  0.8623611330986023,\n  0.8616666793823242,\n  0.8627777695655823],\n 'loss': [0.4978893995285034,\n  0.4766811728477478,\n  0.4533938467502594,\n  0.43768590688705444,\n  0.43050116300582886,\n  0.42786940932273865,\n  0.4262697398662567,\n  0.4252404570579529,\n  0.4239261746406555,\n  0.42318129539489746,\n  0.4217459559440613,\n  0.42074668407440186,\n  0.419677197933197,\n  0.41847550868988037,\n  0.41785767674446106,\n  0.4164062440395355,\n  0.415502667427063,\n  0.414705365896225,\n  0.4136054515838623,\n  0.413134902715683,\n  0.4121568202972412,\n  0.4111027419567108,\n  0.41010138392448425,\n  0.4087429940700531,\n  0.4078019857406616,\n  0.4064929783344269,\n  0.4053167402744293,\n  0.4038413166999817,\n  0.4017026424407959,\n  0.40011921525001526,\n  0.39781999588012695,\n  0.3956531584262848,\n  0.3930533826351166,\n  0.390836238861084,\n  0.38822320103645325,\n  0.38595548272132874,\n  0.3836413323879242,\n  0.38136738538742065,\n  0.3791390061378479,\n  0.37693560123443604,\n  0.37482085824012756,\n  0.3726887106895447,\n  0.3704947531223297,\n  0.36855146288871765,\n  0.366622656583786,\n  0.36425483226776123,\n  0.3625653088092804,\n  0.36059272289276123,\n  0.3586124777793884,\n  0.35728612542152405,\n  0.3556559979915619,\n  0.3545569181442261,\n  0.3531273305416107,\n  0.3518277406692505,\n  0.35082706809043884,\n  0.350007027387619,\n  0.3489351272583008,\n  0.3480539917945862,\n  0.347392201423645,\n  0.34673306345939636,\n  0.3460525572299957,\n  0.34596696496009827,\n  0.34477439522743225,\n  0.3442574739456177,\n  0.3437053859233856,\n  0.3434855043888092,\n  0.3428593873977661,\n  0.3420799672603607,\n  0.34194332361221313,\n  0.3412477374076843,\n  0.34103888273239136,\n  0.34069928526878357,\n  0.3406931161880493,\n  0.34027835726737976,\n  0.33976268768310547,\n  0.3391057550907135,\n  0.33875933289527893,\n  0.33874404430389404,\n  0.3383651077747345,\n  0.3381279706954956,\n  0.3374031186103821,\n  0.33735713362693787,\n  0.33743491768836975,\n  0.3369429111480713,\n  0.3365239202976227,\n  0.33657631278038025,\n  0.33620551228523254,\n  0.336065411567688,\n  0.33526158332824707,\n  0.3353903293609619,\n  0.33525145053863525,\n  0.3352911174297333,\n  0.3344741463661194,\n  0.33441534638404846,\n  0.3345089256763458,\n  0.33409085869789124,\n  0.3338048756122589,\n  0.3337644040584564,\n  0.3335431218147278,\n  0.33317527174949646],\n 'val_accuracy': [0.7950000166893005,\n  0.7950000166893005,\n  0.7950000166893005,\n  0.793749988079071,\n  0.8087499737739563,\n  0.8187500238418579,\n  0.8199999928474426,\n  0.8237500190734863,\n  0.8174999952316284,\n  0.8224999904632568,\n  0.8237500190734863,\n  0.824999988079071,\n  0.8287500143051147,\n  0.8274999856948853,\n  0.8324999809265137,\n  0.8349999785423279,\n  0.831250011920929,\n  0.831250011920929,\n  0.8362500071525574,\n  0.8412500023841858,\n  0.8337500095367432,\n  0.8362500071525574,\n  0.8362500071525574,\n  0.8462499976158142,\n  0.8462499976158142,\n  0.8462499976158142,\n  0.8475000262260437,\n  0.8487499952316284,\n  0.8462499976158142,\n  0.8462499976158142,\n  0.8462499976158142,\n  0.8475000262260437,\n  0.8475000262260437,\n  0.8475000262260437,\n  0.8500000238418579,\n  0.8512499928474426,\n  0.8487499952316284,\n  0.8587499856948853,\n  0.8587499856948853,\n  0.856249988079071,\n  0.8537499904632568,\n  0.8575000166893005,\n  0.8587499856948853,\n  0.8575000166893005,\n  0.8575000166893005,\n  0.856249988079071,\n  0.8575000166893005,\n  0.8575000166893005,\n  0.8587499856948853,\n  0.856249988079071,\n  0.856249988079071,\n  0.8575000166893005,\n  0.8600000143051147,\n  0.8650000095367432,\n  0.8637499809265137,\n  0.862500011920929,\n  0.8662499785423279,\n  0.8612499833106995,\n  0.8637499809265137,\n  0.8650000095367432,\n  0.8637499809265137,\n  0.8662499785423279,\n  0.8637499809265137,\n  0.8662499785423279,\n  0.8650000095367432,\n  0.8637499809265137,\n  0.8675000071525574,\n  0.8650000095367432,\n  0.8662499785423279,\n  0.8662499785423279,\n  0.8662499785423279,\n  0.8675000071525574,\n  0.8650000095367432,\n  0.8675000071525574,\n  0.8662499785423279,\n  0.8637499809265137,\n  0.8662499785423279,\n  0.8662499785423279,\n  0.8687499761581421,\n  0.8700000047683716,\n  0.8650000095367432,\n  0.8650000095367432,\n  0.8675000071525574,\n  0.8687499761581421,\n  0.8675000071525574,\n  0.8662499785423279,\n  0.8687499761581421,\n  0.8687499761581421,\n  0.8687499761581421,\n  0.8675000071525574,\n  0.8712499737739563,\n  0.8662499785423279,\n  0.8650000095367432,\n  0.8675000071525574,\n  0.8662499785423279,\n  0.8700000047683716,\n  0.8737499713897705,\n  0.8662499785423279,\n  0.8687499761581421,\n  0.8700000047683716],\n 'val_loss': [0.4877397418022156,\n  0.4615594744682312,\n  0.43808382749557495,\n  0.4252327084541321,\n  0.418410062789917,\n  0.41543930768966675,\n  0.4132755398750305,\n  0.4116175174713135,\n  0.40991583466529846,\n  0.40823885798454285,\n  0.4068619906902313,\n  0.4048721194267273,\n  0.40351253747940063,\n  0.40191909670829773,\n  0.3997874855995178,\n  0.3982756733894348,\n  0.39686939120292664,\n  0.3952854573726654,\n  0.3940395414829254,\n  0.3927890658378601,\n  0.3911746144294739,\n  0.3897656202316284,\n  0.38836345076560974,\n  0.387233704328537,\n  0.3857516050338745,\n  0.38437241315841675,\n  0.3828831613063812,\n  0.38045987486839294,\n  0.3790377080440521,\n  0.3767261505126953,\n  0.37456557154655457,\n  0.3723289370536804,\n  0.3699105978012085,\n  0.36807331442832947,\n  0.3657616078853607,\n  0.3640395700931549,\n  0.3626312017440796,\n  0.36124187707901,\n  0.3594825863838196,\n  0.35755378007888794,\n  0.3554305136203766,\n  0.3542185127735138,\n  0.3524264395236969,\n  0.35053861141204834,\n  0.34847232699394226,\n  0.3473133444786072,\n  0.3460584878921509,\n  0.34485819935798645,\n  0.34419572353363037,\n  0.34223681688308716,\n  0.3412500321865082,\n  0.3402840793132782,\n  0.33907973766326904,\n  0.3380664885044098,\n  0.3371225595474243,\n  0.3364967107772827,\n  0.33576756715774536,\n  0.33762359619140625,\n  0.3351316452026367,\n  0.3342381417751312,\n  0.3342609405517578,\n  0.3348373770713806,\n  0.3333129584789276,\n  0.3326885998249054,\n  0.33203354477882385,\n  0.3314102590084076,\n  0.3308871388435364,\n  0.3314041197299957,\n  0.3302898705005646,\n  0.3300594687461853,\n  0.3290501534938812,\n  0.32888394594192505,\n  0.32870662212371826,\n  0.32846125960350037,\n  0.3278195261955261,\n  0.3279236853122711,\n  0.32775798439979553,\n  0.3263150751590729,\n  0.32700350880622864,\n  0.3270397186279297,\n  0.3272986114025116,\n  0.32704317569732666,\n  0.3257242441177368,\n  0.3249276876449585,\n  0.3270343840122223,\n  0.32392293214797974,\n  0.3237570822238922,\n  0.32366034388542175,\n  0.3238014280796051,\n  0.3227527141571045,\n  0.32329216599464417,\n  0.322714239358902,\n  0.32267799973487854,\n  0.3229825496673584,\n  0.322411447763443,\n  0.32192206382751465,\n  0.3237276077270508,\n  0.3219587802886963,\n  0.32133951783180237,\n  0.3209434449672699]}"
          },
          "metadata": {}
        }
      ]
    },
    {
      "cell_type": "code",
      "source": [
        "import matplotlib.pyplot as plt"
      ],
      "metadata": {
        "execution": {
          "iopub.status.busy": "2024-07-08T07:48:02.117717Z",
          "iopub.execute_input": "2024-07-08T07:48:02.118168Z",
          "iopub.status.idle": "2024-07-08T07:48:02.127988Z",
          "shell.execute_reply.started": "2024-07-08T07:48:02.118127Z",
          "shell.execute_reply": "2024-07-08T07:48:02.126679Z"
        },
        "trusted": true,
        "id": "tgsOg1k6UONh"
      },
      "execution_count": null,
      "outputs": []
    },
    {
      "cell_type": "code",
      "source": [
        "plt.plot(history.history['accuracy'])\n",
        "plt.plot(history.history['val_accuracy'])"
      ],
      "metadata": {
        "execution": {
          "iopub.status.busy": "2024-07-08T07:48:02.130232Z",
          "iopub.execute_input": "2024-07-08T07:48:02.130829Z",
          "iopub.status.idle": "2024-07-08T07:48:02.456746Z",
          "shell.execute_reply.started": "2024-07-08T07:48:02.130785Z",
          "shell.execute_reply": "2024-07-08T07:48:02.455428Z"
        },
        "trusted": true,
        "id": "zWbg4DAMUONh",
        "outputId": "db47021d-0024-4ddf-9c91-3d9063e1d108"
      },
      "execution_count": null,
      "outputs": [
        {
          "execution_count": 117,
          "output_type": "execute_result",
          "data": {
            "text/plain": "[<matplotlib.lines.Line2D at 0x7960ce8779d0>]"
          },
          "metadata": {}
        },
        {
          "output_type": "display_data",
          "data": {
            "text/plain": "<Figure size 640x480 with 1 Axes>",
            "image/png": "[encoded data removed]"
          },
          "metadata": {}
        }
      ]
    },
    {
      "cell_type": "code",
      "source": [
        "plt.plot(history.history['loss'])\n",
        "plt.plot(history.history['val_loss'])"
      ],
      "metadata": {
        "execution": {
          "iopub.status.busy": "2024-07-08T07:48:02.458396Z",
          "iopub.execute_input": "2024-07-08T07:48:02.458837Z",
          "iopub.status.idle": "2024-07-08T07:48:02.696123Z",
          "shell.execute_reply.started": "2024-07-08T07:48:02.458803Z",
          "shell.execute_reply": "2024-07-08T07:48:02.694826Z"
        },
        "trusted": true,
        "id": "GjAY33LQUONh",
        "outputId": "604e8d7e-796d-4d8d-dec3-8e4a1d570eef"
      },
      "execution_count": null,
      "outputs": [
        {
          "execution_count": 118,
          "output_type": "execute_result",
          "data": {
            "text/plain": "[<matplotlib.lines.Line2D at 0x7960ccfc1990>]"
          },
          "metadata": {}
        },
        {
          "output_type": "display_data",
          "data": {
            "text/plain": "<Figure size 640x480 with 1 Axes>",
            "image/png": "[encoded data removed]"
          },
          "metadata": {}
        }
      ]
    }
  ]
}