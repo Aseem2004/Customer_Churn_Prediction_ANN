{
  "metadata": {
    "kernelspec": {
      "language": "python",
      "display_name": "Python 3",
      "name": "python3"
    },
    "language_info": {
      "name": "python",
      "version": "3.10.13",
      "mimetype": "text/x-python",
      "codemirror_mode": {
        "name": "ipython",
        "version": 3
      },
      "pygments_lexer": "ipython3",
      "nbconvert_exporter": "python",
      "file_extension": ".py"
    },
    "kaggle": {
      "accelerator": "none",
      "dataSources": [
        {
          "sourceId": 1481789,
          "sourceType": "datasetVersion",
          "datasetId": 869651
        }
      ],
      "dockerImageVersionId": 30732,
      "isInternetEnabled": true,
      "language": "python",
      "sourceType": "notebook",
      "isGpuEnabled": false
    },
    "colab": {
      "name": "Customer_Churn_Prediction_ANN",
      "provenance": [],
      "include_colab_link": true
    }
  },
  "nbformat_minor": 0,
  "nbformat": 4,
  "cells": [
    {
      "cell_type": "markdown",
      "metadata": {
        "id": "view-in-github",
        "colab_type": "text"
      },
      "source": [
        "<a href=\"https://colab.research.google.com/github/Aseem2004/Customer_Churn_Prediction_ANN/blob/main/Customer_Churn_Prediction_ANN.ipynb\" target=\"_parent\"><img src=\"https://colab.research.google.com/assets/colab-badge.svg\" alt=\"Open In Colab\"/></a>"
      ]
    },
    {
      "source": [
        "\n",
        "# IMPORTANT: RUN THIS CELL IN ORDER TO IMPORT YOUR KAGGLE DATA SOURCES\n",
        "# TO THE CORRECT LOCATION (/kaggle/input) IN YOUR NOTEBOOK,\n",
        "# THEN FEEL FREE TO DELETE THIS CELL.\n",
        "# NOTE: THIS NOTEBOOK ENVIRONMENT DIFFERS FROM KAGGLE'S PYTHON\n",
        "# ENVIRONMENT SO THERE MAY BE MISSING LIBRARIES USED BY YOUR\n",
        "# NOTEBOOK.\n",
        "\n",
        "import os\n",
        "import sys\n",
        "from tempfile import NamedTemporaryFile\n",
        "from urllib.request import urlopen\n",
        "from urllib.parse import unquote, urlparse\n",
        "from urllib.error import HTTPError\n",
        "from zipfile import ZipFile\n",
        "import tarfile\n",
        "import shutil\n",
        "\n",
        "CHUNK_SIZE = 40960\n",
        "DATA_SOURCE_MAPPING = 'credit-card-customer-churn-prediction:https%3A%2F%2Fstorage.googleapis.com%2Fkaggle-data-sets%2F869651%2F1481789%2Fbundle%2Farchive.zip%3FX-Goog-Algorithm%3DGOOG4-RSA-SHA256%26X-Goog-Credential%3Dgcp-kaggle-com%2540kaggle-161607.iam.gserviceaccount.com%252F20240704%252Fauto%252Fstorage%252Fgoog4_request%26X-Goog-Date%3D20240704T112651Z%26X-Goog-Expires%3D259200%26X-Goog-SignedHeaders%3Dhost%26X-Goog-Signature%3D97408a6c3ef236d965342f5de3e0176252cce253377e4bbbb6fb2785d1f416b3988a0da25dc8733e0c1626dcea49dd4e381437e80e6e069ee721600fd0bf682dc0ce445754508cbac5329820012b2d5267e07e34b034f54adccf5bc2112044802009df5128945d125fbd136d938a7998d1e63c0e4ca11134f3597b11a11c13049c94c7d45aa060b56b75352cf27fdbc4211bb6a3dc978e56d64177af1540b80daf50893e7b1fc736330960cf744f2c809eb56478232ea4c404c0b83515b65d018e1cf5e11c0142828697e4795a9bb8408eacd83ccdcd3533525e6429ae4e7533f69dcb481e0f539993e6d97fa067886822b1f731115b20b2cf0991388efa24b1'\n",
        "\n",
        "KAGGLE_INPUT_PATH='/kaggle/input'\n",
        "KAGGLE_WORKING_PATH='/kaggle/working'\n",
        "KAGGLE_SYMLINK='kaggle'\n",
        "\n",
        "!umount /kaggle/input/ 2> /dev/null\n",
        "shutil.rmtree('/kaggle/input', ignore_errors=True)\n",
        "os.makedirs(KAGGLE_INPUT_PATH, 0o777, exist_ok=True)\n",
        "os.makedirs(KAGGLE_WORKING_PATH, 0o777, exist_ok=True)\n",
        "\n",
        "try:\n",
        "  os.symlink(KAGGLE_INPUT_PATH, os.path.join(\"..\", 'input'), target_is_directory=True)\n",
        "except FileExistsError:\n",
        "  pass\n",
        "try:\n",
        "  os.symlink(KAGGLE_WORKING_PATH, os.path.join(\"..\", 'working'), target_is_directory=True)\n",
        "except FileExistsError:\n",
        "  pass\n",
        "\n",
        "for data_source_mapping in DATA_SOURCE_MAPPING.split(','):\n",
        "    directory, download_url_encoded = data_source_mapping.split(':')\n",
        "    download_url = unquote(download_url_encoded)\n",
        "    filename = urlparse(download_url).path\n",
        "    destination_path = os.path.join(KAGGLE_INPUT_PATH, directory)\n",
        "    try:\n",
        "        with urlopen(download_url) as fileres, NamedTemporaryFile() as tfile:\n",
        "            total_length = fileres.headers['content-length']\n",
        "            print(f'Downloading {directory}, {total_length} bytes compressed')\n",
        "            dl = 0\n",
        "            data = fileres.read(CHUNK_SIZE)\n",
        "            while len(data) > 0:\n",
        "                dl += len(data)\n",
        "                tfile.write(data)\n",
        "                done = int(50 * dl / int(total_length))\n",
        "                sys.stdout.write(f\"\\r[{'=' * done}{' ' * (50-done)}] {dl} bytes downloaded\")\n",
        "                sys.stdout.flush()\n",
        "                data = fileres.read(CHUNK_SIZE)\n",
        "            if filename.endswith('.zip'):\n",
        "              with ZipFile(tfile) as zfile:\n",
        "                zfile.extractall(destination_path)\n",
        "            else:\n",
        "              with tarfile.open(tfile.name) as tarfile:\n",
        "                tarfile.extractall(destination_path)\n",
        "            print(f'\\nDownloaded and uncompressed: {directory}')\n",
        "    except HTTPError as e:\n",
        "        print(f'Failed to load (likely expired) {download_url} to path {destination_path}')\n",
        "        continue\n",
        "    except OSError as e:\n",
        "        print(f'Failed to load {download_url} to path {destination_path}')\n",
        "        continue\n",
        "\n",
        "print('Data source import complete.')\n"
      ],
      "metadata": {
        "id": "isdGN7pufzqK"
      },
      "cell_type": "code",
      "outputs": [],
      "execution_count": null
    },
    {
      "cell_type": "code",
      "source": [
        "# This Python 3 environment comes with many helpful analytics libraries installed\n",
        "# It is defined by the kaggle/python Docker image: https://github.com/kaggle/docker-python\n",
        "# For example, here's several helpful packages to load\n",
        "\n",
        "import numpy as np # linear algebra\n",
        "import pandas as pd # data processing, CSV file I/O (e.g. pd.read_csv)\n",
        "\n",
        "# Input data files are available in the read-only \"../input/\" directory\n",
        "# For example, running this (by clicking run or pressing Shift+Enter) will list all files under the input directory\n",
        "\n",
        "import os\n",
        "for dirname, _, filenames in os.walk('/kaggle/input'):\n",
        "    for filename in filenames:\n",
        "        print(os.path.join(dirname, filename))\n",
        "\n",
        "# You can write up to 20GB to the current directory (/kaggle/working/) that gets preserved as output when you create a version using \"Save & Run All\"\n",
        "# You can also write temporary files to /kaggle/temp/, but they won't be saved outside of the current session"
      ],
      "metadata": {
        "_uuid": "8f2839f25d086af736a60e9eeb907d3b93b6e0e5",
        "_cell_guid": "b1076dfc-b9ad-4769-8c92-a6c4dae69d19",
        "execution": {
          "iopub.status.busy": "2024-07-04T10:33:58.856231Z",
          "iopub.execute_input": "2024-07-04T10:33:58.857585Z",
          "iopub.status.idle": "2024-07-04T10:33:59.432444Z",
          "shell.execute_reply.started": "2024-07-04T10:33:58.857513Z",
          "shell.execute_reply": "2024-07-04T10:33:59.431065Z"
        },
        "trusted": true,
        "id": "JfmWdJ7ifzqP",
        "outputId": "66305dea-a21a-4d57-cbc3-451cc5bbcca8"
      },
      "execution_count": null,
      "outputs": [
        {
          "name": "stdout",
          "text": "/kaggle/input/credit-card-customer-churn-prediction/Churn_Modelling.csv\n",
          "output_type": "stream"
        }
      ]
    },
    {
      "cell_type": "code",
      "source": [
        "df = pd.read_csv('/kaggle/input/credit-card-customer-churn-prediction/Churn_Modelling.csv')"
      ],
      "metadata": {
        "execution": {
          "iopub.status.busy": "2024-07-04T10:33:59.435205Z",
          "iopub.execute_input": "2024-07-04T10:33:59.43588Z",
          "iopub.status.idle": "2024-07-04T10:33:59.49594Z",
          "shell.execute_reply.started": "2024-07-04T10:33:59.435835Z",
          "shell.execute_reply": "2024-07-04T10:33:59.494668Z"
        },
        "trusted": true,
        "id": "4EFXRhJ3fzqR"
      },
      "execution_count": null,
      "outputs": []
    },
    {
      "cell_type": "code",
      "source": [
        "df.head()"
      ],
      "metadata": {
        "execution": {
          "iopub.status.busy": "2024-07-04T10:33:59.498007Z",
          "iopub.execute_input": "2024-07-04T10:33:59.498814Z",
          "iopub.status.idle": "2024-07-04T10:33:59.537873Z",
          "shell.execute_reply.started": "2024-07-04T10:33:59.498771Z",
          "shell.execute_reply": "2024-07-04T10:33:59.536482Z"
        },
        "trusted": true,
        "id": "sNn0Qb4VfzqS",
        "outputId": "5edd7bb7-f7ae-44eb-b0ef-f59b002f5d8b"
      },
      "execution_count": null,
      "outputs": [
        {
          "execution_count": 3,
          "output_type": "execute_result",
          "data": {
            "text/plain": "   RowNumber  CustomerId   Surname  CreditScore Geography  Gender  Age  \\\n0          1    15634602  Hargrave          619    France  Female   42   \n1          2    15647311      Hill          608     Spain  Female   41   \n2          3    15619304      Onio          502    France  Female   42   \n3          4    15701354      Boni          699    France  Female   39   \n4          5    15737888  Mitchell          850     Spain  Female   43   \n\n   Tenure    Balance  NumOfProducts  HasCrCard  IsActiveMember  \\\n0       2       0.00              1          1               1   \n1       1   83807.86              1          0               1   \n2       8  159660.80              3          1               0   \n3       1       0.00              2          0               0   \n4       2  125510.82              1          1               1   \n\n   EstimatedSalary  Exited  \n0        101348.88       1  \n1        112542.58       0  \n2        113931.57       1  \n3         93826.63       0  \n4         79084.10       0  ",
            "text/html": "<div>\n<style scoped>\n    .dataframe tbody tr th:only-of-type {\n        vertical-align: middle;\n    }\n\n    .dataframe tbody tr th {\n        vertical-align: top;\n    }\n\n    .dataframe thead th {\n        text-align: right;\n    }\n</style>\n<table border=\"1\" class=\"dataframe\">\n  <thead>\n    <tr style=\"text-align: right;\">\n      <th></th>\n      <th>RowNumber</th>\n      <th>CustomerId</th>\n      <th>Surname</th>\n      <th>CreditScore</th>\n      <th>Geography</th>\n      <th>Gender</th>\n      <th>Age</th>\n      <th>Tenure</th>\n      <th>Balance</th>\n      <th>NumOfProducts</th>\n      <th>HasCrCard</th>\n      <th>IsActiveMember</th>\n      <th>EstimatedSalary</th>\n      <th>Exited</th>\n    </tr>\n  </thead>\n  <tbody>\n    <tr>\n      <th>0</th>\n      <td>1</td>\n      <td>15634602</td>\n      <td>Hargrave</td>\n      <td>619</td>\n      <td>France</td>\n      <td>Female</td>\n      <td>42</td>\n      <td>2</td>\n      <td>0.00</td>\n      <td>1</td>\n      <td>1</td>\n      <td>1</td>\n      <td>101348.88</td>\n      <td>1</td>\n    </tr>\n    <tr>\n      <th>1</th>\n      <td>2</td>\n      <td>15647311</td>\n      <td>Hill</td>\n      <td>608</td>\n      <td>Spain</td>\n      <td>Female</td>\n      <td>41</td>\n      <td>1</td>\n      <td>83807.86</td>\n      <td>1</td>\n      <td>0</td>\n      <td>1</td>\n      <td>112542.58</td>\n      <td>0</td>\n    </tr>\n    <tr>\n      <th>2</th>\n      <td>3</td>\n      <td>15619304</td>\n      <td>Onio</td>\n      <td>502</td>\n      <td>France</td>\n      <td>Female</td>\n      <td>42</td>\n      <td>8</td>\n      <td>159660.80</td>\n      <td>3</td>\n      <td>1</td>\n      <td>0</td>\n      <td>113931.57</td>\n      <td>1</td>\n    </tr>\n    <tr>\n      <th>3</th>\n      <td>4</td>\n      <td>15701354</td>\n      <td>Boni</td>\n      <td>699</td>\n      <td>France</td>\n      <td>Female</td>\n      <td>39</td>\n      <td>1</td>\n      <td>0.00</td>\n      <td>2</td>\n      <td>0</td>\n      <td>0</td>\n      <td>93826.63</td>\n      <td>0</td>\n    </tr>\n    <tr>\n      <th>4</th>\n      <td>5</td>\n      <td>15737888</td>\n      <td>Mitchell</td>\n      <td>850</td>\n      <td>Spain</td>\n      <td>Female</td>\n      <td>43</td>\n      <td>2</td>\n      <td>125510.82</td>\n      <td>1</td>\n      <td>1</td>\n      <td>1</td>\n      <td>79084.10</td>\n      <td>0</td>\n    </tr>\n  </tbody>\n</table>\n</div>"
          },
          "metadata": {}
        }
      ]
    },
    {
      "cell_type": "code",
      "source": [
        "df.drop(columns = ['RowNumber','CustomerId','Surname'],inplace=True)"
      ],
      "metadata": {
        "execution": {
          "iopub.status.busy": "2024-07-04T10:33:59.541305Z",
          "iopub.execute_input": "2024-07-04T10:33:59.54181Z",
          "iopub.status.idle": "2024-07-04T10:33:59.570192Z",
          "shell.execute_reply.started": "2024-07-04T10:33:59.541767Z",
          "shell.execute_reply": "2024-07-04T10:33:59.568769Z"
        },
        "trusted": true,
        "id": "GpAImluXfzqS"
      },
      "execution_count": null,
      "outputs": []
    },
    {
      "cell_type": "code",
      "source": [
        "df.head()"
      ],
      "metadata": {
        "execution": {
          "iopub.status.busy": "2024-07-04T10:33:59.572989Z",
          "iopub.execute_input": "2024-07-04T10:33:59.576923Z",
          "iopub.status.idle": "2024-07-04T10:33:59.60008Z",
          "shell.execute_reply.started": "2024-07-04T10:33:59.576868Z",
          "shell.execute_reply": "2024-07-04T10:33:59.598938Z"
        },
        "trusted": true,
        "id": "7eXwDQ99fzqS",
        "outputId": "f0beda35-09b8-4457-da1f-daef704b1d57"
      },
      "execution_count": null,
      "outputs": [
        {
          "execution_count": 5,
          "output_type": "execute_result",
          "data": {
            "text/plain": "   CreditScore Geography  Gender  Age  Tenure    Balance  NumOfProducts  \\\n0          619    France  Female   42       2       0.00              1   \n1          608     Spain  Female   41       1   83807.86              1   \n2          502    France  Female   42       8  159660.80              3   \n3          699    France  Female   39       1       0.00              2   \n4          850     Spain  Female   43       2  125510.82              1   \n\n   HasCrCard  IsActiveMember  EstimatedSalary  Exited  \n0          1               1        101348.88       1  \n1          0               1        112542.58       0  \n2          1               0        113931.57       1  \n3          0               0         93826.63       0  \n4          1               1         79084.10       0  ",
            "text/html": "<div>\n<style scoped>\n    .dataframe tbody tr th:only-of-type {\n        vertical-align: middle;\n    }\n\n    .dataframe tbody tr th {\n        vertical-align: top;\n    }\n\n    .dataframe thead th {\n        text-align: right;\n    }\n</style>\n<table border=\"1\" class=\"dataframe\">\n  <thead>\n    <tr style=\"text-align: right;\">\n      <th></th>\n      <th>CreditScore</th>\n      <th>Geography</th>\n      <th>Gender</th>\n      <th>Age</th>\n      <th>Tenure</th>\n      <th>Balance</th>\n      <th>NumOfProducts</th>\n      <th>HasCrCard</th>\n      <th>IsActiveMember</th>\n      <th>EstimatedSalary</th>\n      <th>Exited</th>\n    </tr>\n  </thead>\n  <tbody>\n    <tr>\n      <th>0</th>\n      <td>619</td>\n      <td>France</td>\n      <td>Female</td>\n      <td>42</td>\n      <td>2</td>\n      <td>0.00</td>\n      <td>1</td>\n      <td>1</td>\n      <td>1</td>\n      <td>101348.88</td>\n      <td>1</td>\n    </tr>\n    <tr>\n      <th>1</th>\n      <td>608</td>\n      <td>Spain</td>\n      <td>Female</td>\n      <td>41</td>\n      <td>1</td>\n      <td>83807.86</td>\n      <td>1</td>\n      <td>0</td>\n      <td>1</td>\n      <td>112542.58</td>\n      <td>0</td>\n    </tr>\n    <tr>\n      <th>2</th>\n      <td>502</td>\n      <td>France</td>\n      <td>Female</td>\n      <td>42</td>\n      <td>8</td>\n      <td>159660.80</td>\n      <td>3</td>\n      <td>1</td>\n      <td>0</td>\n      <td>113931.57</td>\n      <td>1</td>\n    </tr>\n    <tr>\n      <th>3</th>\n      <td>699</td>\n      <td>France</td>\n      <td>Female</td>\n      <td>39</td>\n      <td>1</td>\n      <td>0.00</td>\n      <td>2</td>\n      <td>0</td>\n      <td>0</td>\n      <td>93826.63</td>\n      <td>0</td>\n    </tr>\n    <tr>\n      <th>4</th>\n      <td>850</td>\n      <td>Spain</td>\n      <td>Female</td>\n      <td>43</td>\n      <td>2</td>\n      <td>125510.82</td>\n      <td>1</td>\n      <td>1</td>\n      <td>1</td>\n      <td>79084.10</td>\n      <td>0</td>\n    </tr>\n  </tbody>\n</table>\n</div>"
          },
          "metadata": {}
        }
      ]
    },
    {
      "cell_type": "code",
      "source": [
        "df['Geography'].value_counts()\n"
      ],
      "metadata": {
        "execution": {
          "iopub.status.busy": "2024-07-04T10:33:59.602052Z",
          "iopub.execute_input": "2024-07-04T10:33:59.602883Z",
          "iopub.status.idle": "2024-07-04T10:33:59.621074Z",
          "shell.execute_reply.started": "2024-07-04T10:33:59.602839Z",
          "shell.execute_reply": "2024-07-04T10:33:59.619945Z"
        },
        "trusted": true,
        "id": "fP7HzUPsfzqT",
        "outputId": "8f219d83-37ba-40c9-dd21-6c35f7c58962"
      },
      "execution_count": null,
      "outputs": [
        {
          "execution_count": 6,
          "output_type": "execute_result",
          "data": {
            "text/plain": "Geography\nFrance     5014\nGermany    2509\nSpain      2477\nName: count, dtype: int64"
          },
          "metadata": {}
        }
      ]
    },
    {
      "cell_type": "code",
      "source": [
        "df['Gender'].value_counts()\n"
      ],
      "metadata": {
        "execution": {
          "iopub.status.busy": "2024-07-04T10:33:59.622814Z",
          "iopub.execute_input": "2024-07-04T10:33:59.623468Z",
          "iopub.status.idle": "2024-07-04T10:33:59.637439Z",
          "shell.execute_reply.started": "2024-07-04T10:33:59.623429Z",
          "shell.execute_reply": "2024-07-04T10:33:59.635742Z"
        },
        "trusted": true,
        "id": "AfQPJ6v8fzqT",
        "outputId": "7da60e51-36f4-4924-f55c-d0adc8abbff8"
      },
      "execution_count": null,
      "outputs": [
        {
          "execution_count": 7,
          "output_type": "execute_result",
          "data": {
            "text/plain": "Gender\nMale      5457\nFemale    4543\nName: count, dtype: int64"
          },
          "metadata": {}
        }
      ]
    },
    {
      "cell_type": "code",
      "source": [
        "df = pd.get_dummies(df,columns=['Geography','Gender'],drop_first=True, dtype='int')"
      ],
      "metadata": {
        "execution": {
          "iopub.status.busy": "2024-07-04T10:33:59.639334Z",
          "iopub.execute_input": "2024-07-04T10:33:59.640088Z",
          "iopub.status.idle": "2024-07-04T10:33:59.660212Z",
          "shell.execute_reply.started": "2024-07-04T10:33:59.640046Z",
          "shell.execute_reply": "2024-07-04T10:33:59.65897Z"
        },
        "trusted": true,
        "id": "G7QKwYf9fzqU"
      },
      "execution_count": null,
      "outputs": []
    },
    {
      "cell_type": "code",
      "source": [
        "df.head()"
      ],
      "metadata": {
        "execution": {
          "iopub.status.busy": "2024-07-04T10:33:59.662325Z",
          "iopub.execute_input": "2024-07-04T10:33:59.663139Z",
          "iopub.status.idle": "2024-07-04T10:33:59.68594Z",
          "shell.execute_reply.started": "2024-07-04T10:33:59.663096Z",
          "shell.execute_reply": "2024-07-04T10:33:59.684639Z"
        },
        "trusted": true,
        "id": "8YLJ6yHMfzqU",
        "outputId": "25394a0f-b92e-45f6-c4c2-635b437c1f84"
      },
      "execution_count": null,
      "outputs": [
        {
          "execution_count": 9,
          "output_type": "execute_result",
          "data": {
            "text/plain": "   CreditScore  Age  Tenure    Balance  NumOfProducts  HasCrCard  \\\n0          619   42       2       0.00              1          1   \n1          608   41       1   83807.86              1          0   \n2          502   42       8  159660.80              3          1   \n3          699   39       1       0.00              2          0   \n4          850   43       2  125510.82              1          1   \n\n   IsActiveMember  EstimatedSalary  Exited  Geography_Germany  \\\n0               1        101348.88       1                  0   \n1               1        112542.58       0                  0   \n2               0        113931.57       1                  0   \n3               0         93826.63       0                  0   \n4               1         79084.10       0                  0   \n\n   Geography_Spain  Gender_Male  \n0                0            0  \n1                1            0  \n2                0            0  \n3                0            0  \n4                1            0  ",
            "text/html": "<div>\n<style scoped>\n    .dataframe tbody tr th:only-of-type {\n        vertical-align: middle;\n    }\n\n    .dataframe tbody tr th {\n        vertical-align: top;\n    }\n\n    .dataframe thead th {\n        text-align: right;\n    }\n</style>\n<table border=\"1\" class=\"dataframe\">\n  <thead>\n    <tr style=\"text-align: right;\">\n      <th></th>\n      <th>CreditScore</th>\n      <th>Age</th>\n      <th>Tenure</th>\n      <th>Balance</th>\n      <th>NumOfProducts</th>\n      <th>HasCrCard</th>\n      <th>IsActiveMember</th>\n      <th>EstimatedSalary</th>\n      <th>Exited</th>\n      <th>Geography_Germany</th>\n      <th>Geography_Spain</th>\n      <th>Gender_Male</th>\n    </tr>\n  </thead>\n  <tbody>\n    <tr>\n      <th>0</th>\n      <td>619</td>\n      <td>42</td>\n      <td>2</td>\n      <td>0.00</td>\n      <td>1</td>\n      <td>1</td>\n      <td>1</td>\n      <td>101348.88</td>\n      <td>1</td>\n      <td>0</td>\n      <td>0</td>\n      <td>0</td>\n    </tr>\n    <tr>\n      <th>1</th>\n      <td>608</td>\n      <td>41</td>\n      <td>1</td>\n      <td>83807.86</td>\n      <td>1</td>\n      <td>0</td>\n      <td>1</td>\n      <td>112542.58</td>\n      <td>0</td>\n      <td>0</td>\n      <td>1</td>\n      <td>0</td>\n    </tr>\n    <tr>\n      <th>2</th>\n      <td>502</td>\n      <td>42</td>\n      <td>8</td>\n      <td>159660.80</td>\n      <td>3</td>\n      <td>1</td>\n      <td>0</td>\n      <td>113931.57</td>\n      <td>1</td>\n      <td>0</td>\n      <td>0</td>\n      <td>0</td>\n    </tr>\n    <tr>\n      <th>3</th>\n      <td>699</td>\n      <td>39</td>\n      <td>1</td>\n      <td>0.00</td>\n      <td>2</td>\n      <td>0</td>\n      <td>0</td>\n      <td>93826.63</td>\n      <td>0</td>\n      <td>0</td>\n      <td>0</td>\n      <td>0</td>\n    </tr>\n    <tr>\n      <th>4</th>\n      <td>850</td>\n      <td>43</td>\n      <td>2</td>\n      <td>125510.82</td>\n      <td>1</td>\n      <td>1</td>\n      <td>1</td>\n      <td>79084.10</td>\n      <td>0</td>\n      <td>0</td>\n      <td>1</td>\n      <td>0</td>\n    </tr>\n  </tbody>\n</table>\n</div>"
          },
          "metadata": {}
        }
      ]
    },
    {
      "cell_type": "code",
      "source": [
        "x=df.drop(columns=['Exited'])\n",
        "y=df['Exited'].values\n",
        "\n",
        "from sklearn.model_selection import train_test_split\n",
        "x_train,x_test,y_train,y_test=train_test_split(x,y,test_size=0.2,random_state=0)"
      ],
      "metadata": {
        "execution": {
          "iopub.status.busy": "2024-07-04T10:33:59.690291Z",
          "iopub.execute_input": "2024-07-04T10:33:59.690766Z",
          "iopub.status.idle": "2024-07-04T10:34:00.484493Z",
          "shell.execute_reply.started": "2024-07-04T10:33:59.690724Z",
          "shell.execute_reply": "2024-07-04T10:34:00.48309Z"
        },
        "trusted": true,
        "id": "w7cvsjnzfzqV"
      },
      "execution_count": null,
      "outputs": []
    },
    {
      "cell_type": "code",
      "source": [
        "x_train.shape"
      ],
      "metadata": {
        "execution": {
          "iopub.status.busy": "2024-07-04T10:34:00.486293Z",
          "iopub.execute_input": "2024-07-04T10:34:00.486808Z",
          "iopub.status.idle": "2024-07-04T10:34:00.495442Z",
          "shell.execute_reply.started": "2024-07-04T10:34:00.486763Z",
          "shell.execute_reply": "2024-07-04T10:34:00.494205Z"
        },
        "trusted": true,
        "id": "rqHCUgZNfzqV",
        "outputId": "896a6969-af28-4070-9a66-1553295ef3d2"
      },
      "execution_count": null,
      "outputs": [
        {
          "execution_count": 11,
          "output_type": "execute_result",
          "data": {
            "text/plain": "(8000, 11)"
          },
          "metadata": {}
        }
      ]
    },
    {
      "cell_type": "code",
      "source": [
        "from sklearn.preprocessing import StandardScaler\n",
        "scaler=StandardScaler()\n",
        "\n",
        "x_train_scaled=scaler.fit_transform(x_train)\n",
        "x_test_scaled=scaler.transform(x_test)\n"
      ],
      "metadata": {
        "execution": {
          "iopub.status.busy": "2024-07-04T10:34:00.497156Z",
          "iopub.execute_input": "2024-07-04T10:34:00.498425Z",
          "iopub.status.idle": "2024-07-04T10:34:00.514537Z",
          "shell.execute_reply.started": "2024-07-04T10:34:00.498381Z",
          "shell.execute_reply": "2024-07-04T10:34:00.513054Z"
        },
        "trusted": true,
        "id": "3dUXQT8_fzqW"
      },
      "execution_count": null,
      "outputs": []
    },
    {
      "cell_type": "code",
      "source": [
        "x_train_scaled"
      ],
      "metadata": {
        "execution": {
          "iopub.status.busy": "2024-07-04T10:34:00.516155Z",
          "iopub.execute_input": "2024-07-04T10:34:00.516846Z",
          "iopub.status.idle": "2024-07-04T10:34:00.527778Z",
          "shell.execute_reply.started": "2024-07-04T10:34:00.516804Z",
          "shell.execute_reply": "2024-07-04T10:34:00.52634Z"
        },
        "trusted": true,
        "id": "PjXdPlQJfzqW",
        "outputId": "063783d1-2f6e-48a7-b7f8-d795af30a6c9"
      },
      "execution_count": null,
      "outputs": [
        {
          "execution_count": 13,
          "output_type": "execute_result",
          "data": {
            "text/plain": "array([[ 0.16958176, -0.46460796,  0.00666099, ..., -0.5698444 ,\n         1.74309049, -1.09168714],\n       [-2.30455945,  0.30102557, -1.37744033, ...,  1.75486502,\n        -0.57369368,  0.91601335],\n       [-1.19119591, -0.94312892, -1.031415  , ..., -0.5698444 ,\n        -0.57369368, -1.09168714],\n       ...,\n       [ 0.9015152 , -0.36890377,  0.00666099, ..., -0.5698444 ,\n        -0.57369368,  0.91601335],\n       [-0.62420521, -0.08179119,  1.39076231, ..., -0.5698444 ,\n         1.74309049, -1.09168714],\n       [-0.28401079,  0.87525072, -1.37744033, ...,  1.75486502,\n        -0.57369368, -1.09168714]])"
          },
          "metadata": {}
        }
      ]
    },
    {
      "cell_type": "code",
      "source": [
        "x_test_scaled"
      ],
      "metadata": {
        "execution": {
          "iopub.status.busy": "2024-07-04T10:34:00.529415Z",
          "iopub.execute_input": "2024-07-04T10:34:00.530837Z",
          "iopub.status.idle": "2024-07-04T10:34:00.539863Z",
          "shell.execute_reply.started": "2024-07-04T10:34:00.530778Z",
          "shell.execute_reply": "2024-07-04T10:34:00.53845Z"
        },
        "trusted": true,
        "id": "SvNxuU4wfzqX",
        "outputId": "8a791951-215d-4dad-fb77-05ec12cd901f"
      },
      "execution_count": null,
      "outputs": [
        {
          "execution_count": 14,
          "output_type": "execute_result",
          "data": {
            "text/plain": "array([[-0.55204276, -0.36890377,  1.04473698, ...,  1.75486502,\n        -0.57369368, -1.09168714],\n       [-1.31490297,  0.10961719, -1.031415  , ..., -0.5698444 ,\n        -0.57369368, -1.09168714],\n       [ 0.57162971,  0.30102557,  1.04473698, ..., -0.5698444 ,\n         1.74309049, -1.09168714],\n       ...,\n       [-0.74791227, -0.27319958, -1.37744033, ..., -0.5698444 ,\n         1.74309049,  0.91601335],\n       [-0.00566991, -0.46460796, -0.33936434, ...,  1.75486502,\n        -0.57369368,  0.91601335],\n       [-0.79945688, -0.84742473,  1.04473698, ...,  1.75486502,\n        -0.57369368,  0.91601335]])"
          },
          "metadata": {}
        }
      ]
    },
    {
      "cell_type": "code",
      "source": [
        "import tensorflow\n",
        "from tensorflow import keras\n",
        "from tensorflow.keras import Sequential\n",
        "from tensorflow.keras.layers import Dense"
      ],
      "metadata": {
        "execution": {
          "iopub.status.busy": "2024-07-04T10:34:00.541925Z",
          "iopub.execute_input": "2024-07-04T10:34:00.542276Z",
          "iopub.status.idle": "2024-07-04T10:34:15.22437Z",
          "shell.execute_reply.started": "2024-07-04T10:34:00.542243Z",
          "shell.execute_reply": "2024-07-04T10:34:15.222174Z"
        },
        "trusted": true,
        "id": "uhTgIw-qfzqX",
        "outputId": "3d7019ff-d002-4179-bcf5-701f6acfb9f8"
      },
      "execution_count": null,
      "outputs": [
        {
          "name": "stderr",
          "text": "2024-07-04 10:34:02.950140: E external/local_xla/xla/stream_executor/cuda/cuda_dnn.cc:9261] Unable to register cuDNN factory: Attempting to register factory for plugin cuDNN when one has already been registered\n2024-07-04 10:34:02.950287: E external/local_xla/xla/stream_executor/cuda/cuda_fft.cc:607] Unable to register cuFFT factory: Attempting to register factory for plugin cuFFT when one has already been registered\n2024-07-04 10:34:03.114682: E external/local_xla/xla/stream_executor/cuda/cuda_blas.cc:1515] Unable to register cuBLAS factory: Attempting to register factory for plugin cuBLAS when one has already been registered\n",
          "output_type": "stream"
        }
      ]
    },
    {
      "cell_type": "code",
      "source": [
        "model=Sequential()\n",
        "\n",
        "model.add(Dense(3,activation='sigmoid',input_dim=11))\n",
        "model.add(Dense(1,activation='sigmoid'))"
      ],
      "metadata": {
        "execution": {
          "iopub.status.busy": "2024-07-04T10:34:15.226178Z",
          "iopub.execute_input": "2024-07-04T10:34:15.227117Z",
          "iopub.status.idle": "2024-07-04T10:34:15.327511Z",
          "shell.execute_reply.started": "2024-07-04T10:34:15.22708Z",
          "shell.execute_reply": "2024-07-04T10:34:15.326302Z"
        },
        "trusted": true,
        "id": "ghKiUrQPfzqX",
        "outputId": "28686477-6ca4-4245-ea81-fb030a5f8002"
      },
      "execution_count": null,
      "outputs": [
        {
          "name": "stderr",
          "text": "/opt/conda/lib/python3.10/site-packages/keras/src/layers/core/dense.py:87: UserWarning: Do not pass an `input_shape`/`input_dim` argument to a layer. When using Sequential models, prefer using an `Input(shape)` object as the first layer in the model instead.\n  super().__init__(activity_regularizer=activity_regularizer, **kwargs)\n",
          "output_type": "stream"
        }
      ]
    },
    {
      "cell_type": "code",
      "source": [
        "model.summary()"
      ],
      "metadata": {
        "execution": {
          "iopub.status.busy": "2024-07-04T10:34:15.329029Z",
          "iopub.execute_input": "2024-07-04T10:34:15.329395Z",
          "iopub.status.idle": "2024-07-04T10:34:15.351021Z",
          "shell.execute_reply.started": "2024-07-04T10:34:15.329364Z",
          "shell.execute_reply": "2024-07-04T10:34:15.350038Z"
        },
        "trusted": true,
        "id": "USBEop-DfzqY",
        "outputId": "af8400e7-6609-4ee4-fc6c-3670d3b5c0b3"
      },
      "execution_count": null,
      "outputs": [
        {
          "output_type": "display_data",
          "data": {
            "text/plain": "\u001b[1mModel: \"sequential\"\u001b[0m\n",
            "text/html": "<pre style=\"white-space:pre;overflow-x:auto;line-height:normal;font-family:Menlo,'DejaVu Sans Mono',consolas,'Courier New',monospace\"><span style=\"font-weight: bold\">Model: \"sequential\"</span>\n</pre>\n"
          },
          "metadata": {}
        },
        {
          "output_type": "display_data",
          "data": {
            "text/plain": "┏━━━━━━━━━━━━━━━━━━━━━━━━━━━━━━━━━┳━━━━━━━━━━━━━━━━━━━━━━━━┳━━━━━━━━━━━━━━━┓\n┃\u001b[1m \u001b[0m\u001b[1mLayer (type)                   \u001b[0m\u001b[1m \u001b[0m┃\u001b[1m \u001b[0m\u001b[1mOutput Shape          \u001b[0m\u001b[1m \u001b[0m┃\u001b[1m \u001b[0m\u001b[1m      Param #\u001b[0m\u001b[1m \u001b[0m┃\n┡━━━━━━━━━━━━━━━━━━━━━━━━━━━━━━━━━╇━━━━━━━━━━━━━━━━━━━━━━━━╇━━━━━━━━━━━━━━━┩\n│ dense (\u001b[38;5;33mDense\u001b[0m)                   │ (\u001b[38;5;45mNone\u001b[0m, \u001b[38;5;34m3\u001b[0m)              │            \u001b[38;5;34m36\u001b[0m │\n├─────────────────────────────────┼────────────────────────┼───────────────┤\n│ dense_1 (\u001b[38;5;33mDense\u001b[0m)                 │ (\u001b[38;5;45mNone\u001b[0m, \u001b[38;5;34m1\u001b[0m)              │             \u001b[38;5;34m4\u001b[0m │\n└─────────────────────────────────┴────────────────────────┴───────────────┘\n",
            "text/html": "<pre style=\"white-space:pre;overflow-x:auto;line-height:normal;font-family:Menlo,'DejaVu Sans Mono',consolas,'Courier New',monospace\">┏━━━━━━━━━━━━━━━━━━━━━━━━━━━━━━━━━┳━━━━━━━━━━━━━━━━━━━━━━━━┳━━━━━━━━━━━━━━━┓\n┃<span style=\"font-weight: bold\"> Layer (type)                    </span>┃<span style=\"font-weight: bold\"> Output Shape           </span>┃<span style=\"font-weight: bold\">       Param # </span>┃\n┡━━━━━━━━━━━━━━━━━━━━━━━━━━━━━━━━━╇━━━━━━━━━━━━━━━━━━━━━━━━╇━━━━━━━━━━━━━━━┩\n│ dense (<span style=\"color: #0087ff; text-decoration-color: #0087ff\">Dense</span>)                   │ (<span style=\"color: #00d7ff; text-decoration-color: #00d7ff\">None</span>, <span style=\"color: #00af00; text-decoration-color: #00af00\">3</span>)              │            <span style=\"color: #00af00; text-decoration-color: #00af00\">36</span> │\n├─────────────────────────────────┼────────────────────────┼───────────────┤\n│ dense_1 (<span style=\"color: #0087ff; text-decoration-color: #0087ff\">Dense</span>)                 │ (<span style=\"color: #00d7ff; text-decoration-color: #00d7ff\">None</span>, <span style=\"color: #00af00; text-decoration-color: #00af00\">1</span>)              │             <span style=\"color: #00af00; text-decoration-color: #00af00\">4</span> │\n└─────────────────────────────────┴────────────────────────┴───────────────┘\n</pre>\n"
          },
          "metadata": {}
        },
        {
          "output_type": "display_data",
          "data": {
            "text/plain": "\u001b[1m Total params: \u001b[0m\u001b[38;5;34m40\u001b[0m (160.00 B)\n",
            "text/html": "<pre style=\"white-space:pre;overflow-x:auto;line-height:normal;font-family:Menlo,'DejaVu Sans Mono',consolas,'Courier New',monospace\"><span style=\"font-weight: bold\"> Total params: </span><span style=\"color: #00af00; text-decoration-color: #00af00\">40</span> (160.00 B)\n</pre>\n"
          },
          "metadata": {}
        },
        {
          "output_type": "display_data",
          "data": {
            "text/plain": "\u001b[1m Trainable params: \u001b[0m\u001b[38;5;34m40\u001b[0m (160.00 B)\n",
            "text/html": "<pre style=\"white-space:pre;overflow-x:auto;line-height:normal;font-family:Menlo,'DejaVu Sans Mono',consolas,'Courier New',monospace\"><span style=\"font-weight: bold\"> Trainable params: </span><span style=\"color: #00af00; text-decoration-color: #00af00\">40</span> (160.00 B)\n</pre>\n"
          },
          "metadata": {}
        },
        {
          "output_type": "display_data",
          "data": {
            "text/plain": "\u001b[1m Non-trainable params: \u001b[0m\u001b[38;5;34m0\u001b[0m (0.00 B)\n",
            "text/html": "<pre style=\"white-space:pre;overflow-x:auto;line-height:normal;font-family:Menlo,'DejaVu Sans Mono',consolas,'Courier New',monospace\"><span style=\"font-weight: bold\"> Non-trainable params: </span><span style=\"color: #00af00; text-decoration-color: #00af00\">0</span> (0.00 B)\n</pre>\n"
          },
          "metadata": {}
        }
      ]
    },
    {
      "cell_type": "code",
      "source": [
        "model.compile(loss='binary_crossentropy', optimizer='Adam')"
      ],
      "metadata": {
        "execution": {
          "iopub.status.busy": "2024-07-04T11:11:17.56486Z",
          "iopub.execute_input": "2024-07-04T11:11:17.565924Z",
          "iopub.status.idle": "2024-07-04T11:11:17.575938Z",
          "shell.execute_reply.started": "2024-07-04T11:11:17.565885Z",
          "shell.execute_reply": "2024-07-04T11:11:17.574886Z"
        },
        "trusted": true,
        "id": "sMCXw6PAfzqY"
      },
      "execution_count": null,
      "outputs": []
    },
    {
      "cell_type": "code",
      "source": [
        "model.fit(x_train_scaled,y_train,epochs=20)"
      ],
      "metadata": {
        "execution": {
          "iopub.status.busy": "2024-07-04T11:11:20.81896Z",
          "iopub.execute_input": "2024-07-04T11:11:20.819834Z",
          "iopub.status.idle": "2024-07-04T11:11:28.455877Z",
          "shell.execute_reply.started": "2024-07-04T11:11:20.819794Z",
          "shell.execute_reply": "2024-07-04T11:11:28.454822Z"
        },
        "trusted": true,
        "id": "Wdb6hoHcfzqY",
        "outputId": "5538c4f5-64f7-4129-db55-da4848f4d444"
      },
      "execution_count": null,
      "outputs": [
        {
          "name": "stdout",
          "text": "Epoch 1/20\n\u001b[1m250/250\u001b[0m \u001b[32m━━━━━━━━━━━━━━━━━━━━\u001b[0m\u001b[37m\u001b[0m \u001b[1m1s\u001b[0m 1ms/step - loss: 1.2922\nEpoch 2/20\n\u001b[1m250/250\u001b[0m \u001b[32m━━━━━━━━━━━━━━━━━━━━\u001b[0m\u001b[37m\u001b[0m \u001b[1m0s\u001b[0m 1ms/step - loss: 0.9313\nEpoch 3/20\n\u001b[1m250/250\u001b[0m \u001b[32m━━━━━━━━━━━━━━━━━━━━\u001b[0m\u001b[37m\u001b[0m \u001b[1m0s\u001b[0m 1ms/step - loss: 0.7307\nEpoch 4/20\n\u001b[1m250/250\u001b[0m \u001b[32m━━━━━━━━━━━━━━━━━━━━\u001b[0m\u001b[37m\u001b[0m \u001b[1m0s\u001b[0m 1ms/step - loss: 0.6198\nEpoch 5/20\n\u001b[1m250/250\u001b[0m \u001b[32m━━━━━━━━━━━━━━━━━━━━\u001b[0m\u001b[37m\u001b[0m \u001b[1m0s\u001b[0m 1ms/step - loss: 0.5610\nEpoch 6/20\n\u001b[1m250/250\u001b[0m \u001b[32m━━━━━━━━━━━━━━━━━━━━\u001b[0m\u001b[37m\u001b[0m \u001b[1m0s\u001b[0m 1ms/step - loss: 0.5285\nEpoch 7/20\n\u001b[1m250/250\u001b[0m \u001b[32m━━━━━━━━━━━━━━━━━━━━\u001b[0m\u001b[37m\u001b[0m \u001b[1m0s\u001b[0m 1ms/step - loss: 0.5046\nEpoch 8/20\n\u001b[1m250/250\u001b[0m \u001b[32m━━━━━━━━━━━━━━━━━━━━\u001b[0m\u001b[37m\u001b[0m \u001b[1m0s\u001b[0m 1ms/step - loss: 0.4841\nEpoch 9/20\n\u001b[1m250/250\u001b[0m \u001b[32m━━━━━━━━━━━━━━━━━━━━\u001b[0m\u001b[37m\u001b[0m \u001b[1m0s\u001b[0m 1ms/step - loss: 0.4713\nEpoch 10/20\n\u001b[1m250/250\u001b[0m \u001b[32m━━━━━━━━━━━━━━━━━━━━\u001b[0m\u001b[37m\u001b[0m \u001b[1m0s\u001b[0m 1ms/step - loss: 0.4777\nEpoch 11/20\n\u001b[1m250/250\u001b[0m \u001b[32m━━━━━━━━━━━━━━━━━━━━\u001b[0m\u001b[37m\u001b[0m \u001b[1m0s\u001b[0m 1ms/step - loss: 0.4664\nEpoch 12/20\n\u001b[1m250/250\u001b[0m \u001b[32m━━━━━━━━━━━━━━━━━━━━\u001b[0m\u001b[37m\u001b[0m \u001b[1m0s\u001b[0m 1ms/step - loss: 0.4460\nEpoch 13/20\n\u001b[1m250/250\u001b[0m \u001b[32m━━━━━━━━━━━━━━━━━━━━\u001b[0m\u001b[37m\u001b[0m \u001b[1m0s\u001b[0m 1ms/step - loss: 0.4449\nEpoch 14/20\n\u001b[1m250/250\u001b[0m \u001b[32m━━━━━━━━━━━━━━━━━━━━\u001b[0m\u001b[37m\u001b[0m \u001b[1m0s\u001b[0m 1ms/step - loss: 0.4369\nEpoch 15/20\n\u001b[1m250/250\u001b[0m \u001b[32m━━━━━━━━━━━━━━━━━━━━\u001b[0m\u001b[37m\u001b[0m \u001b[1m0s\u001b[0m 1ms/step - loss: 0.4227\nEpoch 16/20\n\u001b[1m250/250\u001b[0m \u001b[32m━━━━━━━━━━━━━━━━━━━━\u001b[0m\u001b[37m\u001b[0m \u001b[1m0s\u001b[0m 1ms/step - loss: 0.4446\nEpoch 17/20\n\u001b[1m250/250\u001b[0m \u001b[32m━━━━━━━━━━━━━━━━━━━━\u001b[0m\u001b[37m\u001b[0m \u001b[1m0s\u001b[0m 1ms/step - loss: 0.4295\nEpoch 18/20\n\u001b[1m250/250\u001b[0m \u001b[32m━━━━━━━━━━━━━━━━━━━━\u001b[0m\u001b[37m\u001b[0m \u001b[1m0s\u001b[0m 1ms/step - loss: 0.4243\nEpoch 19/20\n\u001b[1m250/250\u001b[0m \u001b[32m━━━━━━━━━━━━━━━━━━━━\u001b[0m\u001b[37m\u001b[0m \u001b[1m0s\u001b[0m 1ms/step - loss: 0.4339\nEpoch 20/20\n\u001b[1m250/250\u001b[0m \u001b[32m━━━━━━━━━━━━━━━━━━━━\u001b[0m\u001b[37m\u001b[0m \u001b[1m0s\u001b[0m 1ms/step - loss: 0.4219\n",
          "output_type": "stream"
        },
        {
          "execution_count": 25,
          "output_type": "execute_result",
          "data": {
            "text/plain": "<keras.src.callbacks.history.History at 0x7fbe3a92c370>"
          },
          "metadata": {}
        }
      ]
    },
    {
      "cell_type": "code",
      "source": [
        "model.layers[0].get_weights()"
      ],
      "metadata": {
        "execution": {
          "iopub.status.busy": "2024-07-04T11:12:27.218107Z",
          "iopub.execute_input": "2024-07-04T11:12:27.218544Z",
          "iopub.status.idle": "2024-07-04T11:12:27.23421Z",
          "shell.execute_reply.started": "2024-07-04T11:12:27.218511Z",
          "shell.execute_reply": "2024-07-04T11:12:27.232641Z"
        },
        "trusted": true,
        "id": "3f_xDnIqfzqY",
        "outputId": "8d03798d-c8c2-410c-a1cf-ca90b3463030"
      },
      "execution_count": null,
      "outputs": [
        {
          "execution_count": 26,
          "output_type": "execute_result",
          "data": {
            "text/plain": "[array([[-0.09901717, -0.09003231,  0.14897346],\n        [ 2.012793  ,  0.6539111 , -2.162714  ],\n        [ 0.06714684, -0.16460076,  0.19813469],\n        [ 0.3804777 , -0.37040648, -0.25215527],\n        [ 0.22999634, -1.6031812 ,  0.05422213],\n        [ 0.1154798 ,  0.06325117,  0.1455508 ],\n        [-0.6494468 , -0.9049814 ,  0.50990784],\n        [ 0.00389202,  0.03174737, -0.0833898 ],\n        [ 0.57347846,  0.77517974, -0.6685916 ],\n        [ 0.00909499, -0.01178873, -0.14178304],\n        [-0.5789439 , -0.25877357,  0.52671677]], dtype=float32),\n array([-0.79554564, -1.208335  ,  0.45688435], dtype=float32)]"
          },
          "metadata": {}
        }
      ]
    },
    {
      "cell_type": "code",
      "source": [
        "model.layers[1].get_weights()"
      ],
      "metadata": {
        "execution": {
          "iopub.status.busy": "2024-07-04T11:12:40.131233Z",
          "iopub.execute_input": "2024-07-04T11:12:40.131844Z",
          "iopub.status.idle": "2024-07-04T11:12:40.145712Z",
          "shell.execute_reply.started": "2024-07-04T11:12:40.131802Z",
          "shell.execute_reply": "2024-07-04T11:12:40.143812Z"
        },
        "trusted": true,
        "id": "DOpz2HGsfzqZ",
        "outputId": "50020688-004f-46da-a062-62dd837a4e23"
      },
      "execution_count": null,
      "outputs": [
        {
          "execution_count": 27,
          "output_type": "execute_result",
          "data": {
            "text/plain": "[array([[ 0.910066 ],\n        [ 0.8884489],\n        [-1.3794947]], dtype=float32),\n array([-1.3974468], dtype=float32)]"
          },
          "metadata": {}
        }
      ]
    },
    {
      "cell_type": "code",
      "source": [
        "model.predict(x_test_scaled)"
      ],
      "metadata": {
        "execution": {
          "iopub.status.busy": "2024-07-04T11:14:16.62913Z",
          "iopub.execute_input": "2024-07-04T11:14:16.629582Z",
          "iopub.status.idle": "2024-07-04T11:14:16.998881Z",
          "shell.execute_reply.started": "2024-07-04T11:14:16.629535Z",
          "shell.execute_reply": "2024-07-04T11:14:16.996949Z"
        },
        "trusted": true,
        "id": "3JQs9YPlfzqZ",
        "outputId": "fba5e668-a671-441d-feb1-b8ff66f46781"
      },
      "execution_count": null,
      "outputs": [
        {
          "name": "stdout",
          "text": "\u001b[1m63/63\u001b[0m \u001b[32m━━━━━━━━━━━━━━━━━━━━\u001b[0m\u001b[37m\u001b[0m \u001b[1m0s\u001b[0m 2ms/step\n",
          "output_type": "stream"
        },
        {
          "execution_count": 28,
          "output_type": "execute_result",
          "data": {
            "text/plain": "array([[0.24955547],\n       [0.37132528],\n       [0.17644444],\n       ...,\n       [0.1292211 ],\n       [0.13115296],\n       [0.19323315]], dtype=float32)"
          },
          "metadata": {}
        }
      ]
    },
    {
      "cell_type": "code",
      "source": [
        "threshold=model.predict(x_test_scaled)\n",
        "y_pred=np.where(threshold>0.5,1,0)\n",
        "y_pred"
      ],
      "metadata": {
        "execution": {
          "iopub.status.busy": "2024-07-04T11:17:16.724023Z",
          "iopub.execute_input": "2024-07-04T11:17:16.724475Z",
          "iopub.status.idle": "2024-07-04T11:17:16.902821Z",
          "shell.execute_reply.started": "2024-07-04T11:17:16.724436Z",
          "shell.execute_reply": "2024-07-04T11:17:16.901548Z"
        },
        "trusted": true,
        "id": "xf_Ur69gfzqZ",
        "outputId": "c4b09fcf-403d-434d-88d1-76c80e44f8b4"
      },
      "execution_count": null,
      "outputs": [
        {
          "name": "stdout",
          "text": "\u001b[1m63/63\u001b[0m \u001b[32m━━━━━━━━━━━━━━━━━━━━\u001b[0m\u001b[37m\u001b[0m \u001b[1m0s\u001b[0m 1ms/step\n",
          "output_type": "stream"
        },
        {
          "execution_count": 31,
          "output_type": "execute_result",
          "data": {
            "text/plain": "array([[0],\n       [0],\n       [0],\n       ...,\n       [0],\n       [0],\n       [0]])"
          },
          "metadata": {}
        }
      ]
    },
    {
      "cell_type": "code",
      "source": [
        "from sklearn.metrics import accuracy_score\n",
        "accuracy_score(y_test,y_pred)"
      ],
      "metadata": {
        "execution": {
          "iopub.status.busy": "2024-07-04T11:18:06.741788Z",
          "iopub.execute_input": "2024-07-04T11:18:06.742598Z",
          "iopub.status.idle": "2024-07-04T11:18:06.751424Z",
          "shell.execute_reply.started": "2024-07-04T11:18:06.74254Z",
          "shell.execute_reply": "2024-07-04T11:18:06.750317Z"
        },
        "trusted": true,
        "id": "c7a49jkSfzqZ",
        "outputId": "dac79b5b-7ec7-42fe-9fd8-e032a8d0f532"
      },
      "execution_count": null,
      "outputs": [
        {
          "execution_count": 32,
          "output_type": "execute_result",
          "data": {
            "text/plain": "0.822"
          },
          "metadata": {}
        }
      ]
    }
  ]
}